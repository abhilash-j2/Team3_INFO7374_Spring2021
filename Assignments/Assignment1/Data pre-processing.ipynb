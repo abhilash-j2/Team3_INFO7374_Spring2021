{
 "cells": [
  {
   "cell_type": "code",
   "execution_count": 1,
   "id": "proper-banner",
   "metadata": {
    "ExecuteTime": {
     "end_time": "2021-03-04T21:36:04.215560Z",
     "start_time": "2021-03-04T21:36:04.211560Z"
    }
   },
   "outputs": [],
   "source": [
    "import glob"
   ]
  },
  {
   "cell_type": "markdown",
   "id": "equipped-lighter",
   "metadata": {},
   "source": [
    "# Collating the B5 files"
   ]
  },
  {
   "cell_type": "code",
   "execution_count": 58,
   "id": "overall-harvest",
   "metadata": {
    "ExecuteTime": {
     "end_time": "2021-03-04T23:22:45.552476Z",
     "start_time": "2021-03-04T23:22:45.498110Z"
    }
   },
   "outputs": [
    {
     "data": {
      "text/plain": [
       "['data/raw\\\\ADS16_Benchmark_part1\\\\Corpus\\\\Corpus\\\\U0001\\\\U0001-B5.csv',\n",
       " 'data/raw\\\\ADS16_Benchmark_part1\\\\Corpus\\\\Corpus\\\\U0002\\\\U0002-B5.csv',\n",
       " 'data/raw\\\\ADS16_Benchmark_part1\\\\Corpus\\\\Corpus\\\\U0003\\\\U0003-B5.csv',\n",
       " 'data/raw\\\\ADS16_Benchmark_part1\\\\Corpus\\\\Corpus\\\\U0004\\\\U0004-B5.csv',\n",
       " 'data/raw\\\\ADS16_Benchmark_part1\\\\Corpus\\\\Corpus\\\\U0005\\\\U0005-B5.csv',\n",
       " 'data/raw\\\\ADS16_Benchmark_part1\\\\Corpus\\\\Corpus\\\\U0006\\\\U0006-B5.csv',\n",
       " 'data/raw\\\\ADS16_Benchmark_part1\\\\Corpus\\\\Corpus\\\\U0007\\\\U0007-B5.csv',\n",
       " 'data/raw\\\\ADS16_Benchmark_part1\\\\Corpus\\\\Corpus\\\\U0008\\\\U0008-B5.csv',\n",
       " 'data/raw\\\\ADS16_Benchmark_part1\\\\Corpus\\\\Corpus\\\\U0009\\\\U0009-B5.csv',\n",
       " 'data/raw\\\\ADS16_Benchmark_part1\\\\Corpus\\\\Corpus\\\\U0010\\\\U0010-B5.csv',\n",
       " 'data/raw\\\\ADS16_Benchmark_part1\\\\Corpus\\\\Corpus\\\\U0011\\\\U0011-B5.csv',\n",
       " 'data/raw\\\\ADS16_Benchmark_part1\\\\Corpus\\\\Corpus\\\\U0012\\\\U0012-B5.csv',\n",
       " 'data/raw\\\\ADS16_Benchmark_part1\\\\Corpus\\\\Corpus\\\\U0013\\\\U0013-B5.csv',\n",
       " 'data/raw\\\\ADS16_Benchmark_part1\\\\Corpus\\\\Corpus\\\\U0014\\\\U0014-B5.csv',\n",
       " 'data/raw\\\\ADS16_Benchmark_part1\\\\Corpus\\\\Corpus\\\\U0015\\\\U0015-B5.csv',\n",
       " 'data/raw\\\\ADS16_Benchmark_part1\\\\Corpus\\\\Corpus\\\\U0016\\\\U0016-B5.csv',\n",
       " 'data/raw\\\\ADS16_Benchmark_part1\\\\Corpus\\\\Corpus\\\\U0017\\\\U0017-B5.csv',\n",
       " 'data/raw\\\\ADS16_Benchmark_part1\\\\Corpus\\\\Corpus\\\\U0018\\\\U0018-B5.csv',\n",
       " 'data/raw\\\\ADS16_Benchmark_part1\\\\Corpus\\\\Corpus\\\\U0019\\\\U0019-B5.csv',\n",
       " 'data/raw\\\\ADS16_Benchmark_part1\\\\Corpus\\\\Corpus\\\\U0020\\\\U0020-B5.csv',\n",
       " 'data/raw\\\\ADS16_Benchmark_part1\\\\Corpus\\\\Corpus\\\\U0021\\\\U0021-B5.csv',\n",
       " 'data/raw\\\\ADS16_Benchmark_part1\\\\Corpus\\\\Corpus\\\\U0022\\\\U0022-B5.csv',\n",
       " 'data/raw\\\\ADS16_Benchmark_part1\\\\Corpus\\\\Corpus\\\\U0023\\\\U0023-B5.csv',\n",
       " 'data/raw\\\\ADS16_Benchmark_part1\\\\Corpus\\\\Corpus\\\\U0024\\\\U0024-B5.csv',\n",
       " 'data/raw\\\\ADS16_Benchmark_part1\\\\Corpus\\\\Corpus\\\\U0025\\\\U0025-B5.csv',\n",
       " 'data/raw\\\\ADS16_Benchmark_part1\\\\Corpus\\\\Corpus\\\\U0026\\\\U0026-B5.csv',\n",
       " 'data/raw\\\\ADS16_Benchmark_part1\\\\Corpus\\\\Corpus\\\\U0027\\\\U0027-B5.csv',\n",
       " 'data/raw\\\\ADS16_Benchmark_part1\\\\Corpus\\\\Corpus\\\\U0028\\\\U0028-B5.csv',\n",
       " 'data/raw\\\\ADS16_Benchmark_part1\\\\Corpus\\\\Corpus\\\\U0029\\\\U0029-B5.csv',\n",
       " 'data/raw\\\\ADS16_Benchmark_part1\\\\Corpus\\\\Corpus\\\\U0030\\\\U0030-B5.csv',\n",
       " 'data/raw\\\\ADS16_Benchmark_part1\\\\Corpus\\\\Corpus\\\\U0031\\\\U0031-B5.csv',\n",
       " 'data/raw\\\\ADS16_Benchmark_part1\\\\Corpus\\\\Corpus\\\\U0032\\\\U0032-B5.csv',\n",
       " 'data/raw\\\\ADS16_Benchmark_part1\\\\Corpus\\\\Corpus\\\\U0033\\\\U0033-B5.csv',\n",
       " 'data/raw\\\\ADS16_Benchmark_part1\\\\Corpus\\\\Corpus\\\\U0034\\\\U0034-B5.csv',\n",
       " 'data/raw\\\\ADS16_Benchmark_part1\\\\Corpus\\\\Corpus\\\\U0035\\\\U0035-B5.csv',\n",
       " 'data/raw\\\\ADS16_Benchmark_part1\\\\Corpus\\\\Corpus\\\\U0036\\\\U0036-B5.csv',\n",
       " 'data/raw\\\\ADS16_Benchmark_part1\\\\Corpus\\\\Corpus\\\\U0037\\\\U0037-B5.csv',\n",
       " 'data/raw\\\\ADS16_Benchmark_part1\\\\Corpus\\\\Corpus\\\\U0038\\\\U0038-B5.csv',\n",
       " 'data/raw\\\\ADS16_Benchmark_part1\\\\Corpus\\\\Corpus\\\\U0039\\\\U0039-B5.csv',\n",
       " 'data/raw\\\\ADS16_Benchmark_part1\\\\Corpus\\\\Corpus\\\\U0040\\\\U0040-B5.csv',\n",
       " 'data/raw\\\\ADS16_Benchmark_part1\\\\Corpus\\\\Corpus\\\\U0041\\\\U0041-B5.csv',\n",
       " 'data/raw\\\\ADS16_Benchmark_part1\\\\Corpus\\\\Corpus\\\\U0042\\\\U0042-B5.csv',\n",
       " 'data/raw\\\\ADS16_Benchmark_part1\\\\Corpus\\\\Corpus\\\\U0043\\\\U0043-B5.csv',\n",
       " 'data/raw\\\\ADS16_Benchmark_part1\\\\Corpus\\\\Corpus\\\\U0044\\\\U0044-B5.csv',\n",
       " 'data/raw\\\\ADS16_Benchmark_part1\\\\Corpus\\\\Corpus\\\\U0045\\\\U0045-B5.csv',\n",
       " 'data/raw\\\\ADS16_Benchmark_part1\\\\Corpus\\\\Corpus\\\\U0046\\\\U0046-B5.csv',\n",
       " 'data/raw\\\\ADS16_Benchmark_part1\\\\Corpus\\\\Corpus\\\\U0047\\\\U0047-B5.csv',\n",
       " 'data/raw\\\\ADS16_Benchmark_part1\\\\Corpus\\\\Corpus\\\\U0048\\\\U0048-B5.csv',\n",
       " 'data/raw\\\\ADS16_Benchmark_part1\\\\Corpus\\\\Corpus\\\\U0049\\\\U0049-B5.csv',\n",
       " 'data/raw\\\\ADS16_Benchmark_part1\\\\Corpus\\\\Corpus\\\\U0050\\\\U0050-B5.csv',\n",
       " 'data/raw\\\\ADS16_Benchmark_part1\\\\Corpus\\\\Corpus\\\\U0051\\\\U0051-B5.csv',\n",
       " 'data/raw\\\\ADS16_Benchmark_part1\\\\Corpus\\\\Corpus\\\\U0052\\\\U0052-B5.csv',\n",
       " 'data/raw\\\\ADS16_Benchmark_part1\\\\Corpus\\\\Corpus\\\\U0053\\\\U0053-B5.csv',\n",
       " 'data/raw\\\\ADS16_Benchmark_part1\\\\Corpus\\\\Corpus\\\\U0054\\\\U0054-B5.csv',\n",
       " 'data/raw\\\\ADS16_Benchmark_part1\\\\Corpus\\\\Corpus\\\\U0055\\\\U0055-B5.csv',\n",
       " 'data/raw\\\\ADS16_Benchmark_part1\\\\Corpus\\\\Corpus\\\\U0056\\\\U0056-B5.csv',\n",
       " 'data/raw\\\\ADS16_Benchmark_part1\\\\Corpus\\\\Corpus\\\\U0057\\\\U0057-B5.csv',\n",
       " 'data/raw\\\\ADS16_Benchmark_part1\\\\Corpus\\\\Corpus\\\\U0058\\\\U0058-B5.csv',\n",
       " 'data/raw\\\\ADS16_Benchmark_part1\\\\Corpus\\\\Corpus\\\\U0059\\\\U0059-B5.csv',\n",
       " 'data/raw\\\\ADS16_Benchmark_part1\\\\Corpus\\\\Corpus\\\\U0060\\\\U0060-B5.csv',\n",
       " 'data/raw\\\\ADS16_Benchmark_part2\\\\Corpus\\\\Corpus\\\\U0061\\\\U0061-B5.csv',\n",
       " 'data/raw\\\\ADS16_Benchmark_part2\\\\Corpus\\\\Corpus\\\\U0062\\\\U0062-B5.csv',\n",
       " 'data/raw\\\\ADS16_Benchmark_part2\\\\Corpus\\\\Corpus\\\\U0063\\\\U0063-B5.csv',\n",
       " 'data/raw\\\\ADS16_Benchmark_part2\\\\Corpus\\\\Corpus\\\\U0064\\\\U0064-B5.csv',\n",
       " 'data/raw\\\\ADS16_Benchmark_part2\\\\Corpus\\\\Corpus\\\\U0065\\\\U0065-B5.csv',\n",
       " 'data/raw\\\\ADS16_Benchmark_part2\\\\Corpus\\\\Corpus\\\\U0066\\\\U0066-B5.csv',\n",
       " 'data/raw\\\\ADS16_Benchmark_part2\\\\Corpus\\\\Corpus\\\\U0067\\\\U0067-B5.csv',\n",
       " 'data/raw\\\\ADS16_Benchmark_part2\\\\Corpus\\\\Corpus\\\\U0068\\\\U0068-B5.csv',\n",
       " 'data/raw\\\\ADS16_Benchmark_part2\\\\Corpus\\\\Corpus\\\\U0069\\\\U0069-B5.csv',\n",
       " 'data/raw\\\\ADS16_Benchmark_part2\\\\Corpus\\\\Corpus\\\\U0070\\\\U0070-B5.csv',\n",
       " 'data/raw\\\\ADS16_Benchmark_part2\\\\Corpus\\\\Corpus\\\\U0071\\\\U0071-B5.csv',\n",
       " 'data/raw\\\\ADS16_Benchmark_part2\\\\Corpus\\\\Corpus\\\\U0072\\\\U0072-B5.csv',\n",
       " 'data/raw\\\\ADS16_Benchmark_part2\\\\Corpus\\\\Corpus\\\\U0073\\\\U0073-B5.csv',\n",
       " 'data/raw\\\\ADS16_Benchmark_part2\\\\Corpus\\\\Corpus\\\\U0074\\\\U0074-B5.csv',\n",
       " 'data/raw\\\\ADS16_Benchmark_part2\\\\Corpus\\\\Corpus\\\\U0075\\\\U0075-B5.csv',\n",
       " 'data/raw\\\\ADS16_Benchmark_part2\\\\Corpus\\\\Corpus\\\\U0076\\\\U0076-B5.csv',\n",
       " 'data/raw\\\\ADS16_Benchmark_part2\\\\Corpus\\\\Corpus\\\\U0077\\\\U0077-B5.csv',\n",
       " 'data/raw\\\\ADS16_Benchmark_part2\\\\Corpus\\\\Corpus\\\\U0078\\\\U0078-B5.csv',\n",
       " 'data/raw\\\\ADS16_Benchmark_part2\\\\Corpus\\\\Corpus\\\\U0079\\\\U0079-B5.csv',\n",
       " 'data/raw\\\\ADS16_Benchmark_part2\\\\Corpus\\\\Corpus\\\\U0080\\\\U0080-B5.csv',\n",
       " 'data/raw\\\\ADS16_Benchmark_part2\\\\Corpus\\\\Corpus\\\\U0081\\\\U0081-B5.csv',\n",
       " 'data/raw\\\\ADS16_Benchmark_part2\\\\Corpus\\\\Corpus\\\\U0082\\\\U0082-B5.csv',\n",
       " 'data/raw\\\\ADS16_Benchmark_part2\\\\Corpus\\\\Corpus\\\\U0083\\\\U0083-B5.csv',\n",
       " 'data/raw\\\\ADS16_Benchmark_part2\\\\Corpus\\\\Corpus\\\\U0084\\\\U0084-B5.csv',\n",
       " 'data/raw\\\\ADS16_Benchmark_part2\\\\Corpus\\\\Corpus\\\\U0085\\\\U0085-B5.csv',\n",
       " 'data/raw\\\\ADS16_Benchmark_part2\\\\Corpus\\\\Corpus\\\\U0086\\\\U0086-B5.csv',\n",
       " 'data/raw\\\\ADS16_Benchmark_part2\\\\Corpus\\\\Corpus\\\\U0087\\\\U0087-B5.csv',\n",
       " 'data/raw\\\\ADS16_Benchmark_part2\\\\Corpus\\\\Corpus\\\\U0088\\\\U0088-B5.csv',\n",
       " 'data/raw\\\\ADS16_Benchmark_part2\\\\Corpus\\\\Corpus\\\\U0089\\\\U0089-B5.csv',\n",
       " 'data/raw\\\\ADS16_Benchmark_part2\\\\Corpus\\\\Corpus\\\\U0090\\\\U0090-B5.csv',\n",
       " 'data/raw\\\\ADS16_Benchmark_part2\\\\Corpus\\\\Corpus\\\\U0091\\\\U0091-B5.csv',\n",
       " 'data/raw\\\\ADS16_Benchmark_part2\\\\Corpus\\\\Corpus\\\\U0092\\\\U0092-B5.csv',\n",
       " 'data/raw\\\\ADS16_Benchmark_part2\\\\Corpus\\\\Corpus\\\\U0093\\\\U0093-B5.csv',\n",
       " 'data/raw\\\\ADS16_Benchmark_part2\\\\Corpus\\\\Corpus\\\\U0094\\\\U0094-B5.csv',\n",
       " 'data/raw\\\\ADS16_Benchmark_part2\\\\Corpus\\\\Corpus\\\\U0095\\\\U0095-B5.csv',\n",
       " 'data/raw\\\\ADS16_Benchmark_part2\\\\Corpus\\\\Corpus\\\\U0096\\\\U0096-B5.csv',\n",
       " 'data/raw\\\\ADS16_Benchmark_part2\\\\Corpus\\\\Corpus\\\\U0097\\\\U0097-B5.csv',\n",
       " 'data/raw\\\\ADS16_Benchmark_part2\\\\Corpus\\\\Corpus\\\\U0098\\\\U0098-B5.csv',\n",
       " 'data/raw\\\\ADS16_Benchmark_part2\\\\Corpus\\\\Corpus\\\\U0099\\\\U0099-B5.csv',\n",
       " 'data/raw\\\\ADS16_Benchmark_part2\\\\Corpus\\\\Corpus\\\\U0100\\\\U0100-B5.csv',\n",
       " 'data/raw\\\\ADS16_Benchmark_part2\\\\Corpus\\\\Corpus\\\\U0101\\\\U0101-B5.csv',\n",
       " 'data/raw\\\\ADS16_Benchmark_part2\\\\Corpus\\\\Corpus\\\\U0102\\\\U0102-B5.csv',\n",
       " 'data/raw\\\\ADS16_Benchmark_part2\\\\Corpus\\\\Corpus\\\\U0103\\\\U0103-B5.csv',\n",
       " 'data/raw\\\\ADS16_Benchmark_part2\\\\Corpus\\\\Corpus\\\\U0104\\\\U0104-B5.csv',\n",
       " 'data/raw\\\\ADS16_Benchmark_part2\\\\Corpus\\\\Corpus\\\\U0105\\\\U0105-B5.csv',\n",
       " 'data/raw\\\\ADS16_Benchmark_part2\\\\Corpus\\\\Corpus\\\\U0106\\\\U0106-B5.csv',\n",
       " 'data/raw\\\\ADS16_Benchmark_part2\\\\Corpus\\\\Corpus\\\\U0107\\\\U0107-B5.csv',\n",
       " 'data/raw\\\\ADS16_Benchmark_part2\\\\Corpus\\\\Corpus\\\\U0108\\\\U0108-B5.csv',\n",
       " 'data/raw\\\\ADS16_Benchmark_part2\\\\Corpus\\\\Corpus\\\\U0109\\\\U0109-B5.csv',\n",
       " 'data/raw\\\\ADS16_Benchmark_part2\\\\Corpus\\\\Corpus\\\\U0110\\\\U0110-B5.csv',\n",
       " 'data/raw\\\\ADS16_Benchmark_part2\\\\Corpus\\\\Corpus\\\\U0111\\\\U0111-B5.csv',\n",
       " 'data/raw\\\\ADS16_Benchmark_part2\\\\Corpus\\\\Corpus\\\\U0112\\\\U0112-B5.csv',\n",
       " 'data/raw\\\\ADS16_Benchmark_part2\\\\Corpus\\\\Corpus\\\\U0113\\\\U0113-B5.csv',\n",
       " 'data/raw\\\\ADS16_Benchmark_part2\\\\Corpus\\\\Corpus\\\\U0114\\\\U0114-B5.csv',\n",
       " 'data/raw\\\\ADS16_Benchmark_part2\\\\Corpus\\\\Corpus\\\\U0115\\\\U0115-B5.csv',\n",
       " 'data/raw\\\\ADS16_Benchmark_part2\\\\Corpus\\\\Corpus\\\\U0116\\\\U0116-B5.csv',\n",
       " 'data/raw\\\\ADS16_Benchmark_part2\\\\Corpus\\\\Corpus\\\\U0117\\\\U0117-B5.csv',\n",
       " 'data/raw\\\\ADS16_Benchmark_part2\\\\Corpus\\\\Corpus\\\\U0118\\\\U0118-B5.csv',\n",
       " 'data/raw\\\\ADS16_Benchmark_part2\\\\Corpus\\\\Corpus\\\\U0119\\\\U0119-B5.csv',\n",
       " 'data/raw\\\\ADS16_Benchmark_part2\\\\Corpus\\\\Corpus\\\\U0120\\\\U0120-B5.csv']"
      ]
     },
     "execution_count": 58,
     "metadata": {},
     "output_type": "execute_result"
    }
   ],
   "source": [
    "b5_files = glob.glob(\"data/raw/ADS16_Benchmark_part?/Corpus/Corpus/U*/U*-B5.csv\")\n",
    "b5_files"
   ]
  },
  {
   "cell_type": "code",
   "execution_count": 2,
   "id": "regular-cannon",
   "metadata": {
    "ExecuteTime": {
     "end_time": "2021-03-04T21:36:08.373075Z",
     "start_time": "2021-03-04T21:36:08.364050Z"
    }
   },
   "outputs": [],
   "source": [
    "import re"
   ]
  },
  {
   "cell_type": "code",
   "execution_count": 17,
   "id": "fiscal-delight",
   "metadata": {
    "ExecuteTime": {
     "end_time": "2021-03-02T23:54:11.573835Z",
     "start_time": "2021-03-02T23:54:11.561837Z"
    }
   },
   "outputs": [],
   "source": [
    "pattern = re.compile(\"\\d+\")"
   ]
  },
  {
   "cell_type": "code",
   "execution_count": 19,
   "id": "plain-paint",
   "metadata": {
    "ExecuteTime": {
     "end_time": "2021-03-02T23:54:20.743748Z",
     "start_time": "2021-03-02T23:54:20.725778Z"
    }
   },
   "outputs": [
    {
     "data": {
      "text/plain": [
       "'data/raw\\\\ADS16_Benchmark_part1\\\\Corpus\\\\Corpus\\\\U0001\\\\U0001-B5.csv'"
      ]
     },
     "execution_count": 19,
     "metadata": {},
     "output_type": "execute_result"
    }
   ],
   "source": [
    "b5_files[0]"
   ]
  },
  {
   "cell_type": "code",
   "execution_count": 24,
   "id": "amber-property",
   "metadata": {
    "ExecuteTime": {
     "end_time": "2021-03-02T23:56:32.155170Z",
     "start_time": "2021-03-02T23:56:32.139211Z"
    }
   },
   "outputs": [
    {
     "data": {
      "text/plain": [
       "'data/raw\\\\ADS16_Benchmark_part1\\\\Corpus\\\\Corpus\\\\U0001\\\\U0001-B5.csv'"
      ]
     },
     "execution_count": 24,
     "metadata": {},
     "output_type": "execute_result"
    }
   ],
   "source": [
    "str(b5_files[0])"
   ]
  },
  {
   "cell_type": "code",
   "execution_count": 3,
   "id": "graduate-spectacular",
   "metadata": {
    "ExecuteTime": {
     "end_time": "2021-03-04T21:36:10.230974Z",
     "start_time": "2021-03-04T21:36:10.221971Z"
    }
   },
   "outputs": [],
   "source": [
    "def get_userid(string):\n",
    "    m = re.findall(r\"(U\\d+)\\\\U\", string)\n",
    "    return m[0]"
   ]
  },
  {
   "cell_type": "code",
   "execution_count": 53,
   "id": "classical-significance",
   "metadata": {
    "ExecuteTime": {
     "end_time": "2021-03-03T00:05:30.862823Z",
     "start_time": "2021-03-03T00:05:30.844820Z"
    }
   },
   "outputs": [
    {
     "data": {
      "text/plain": [
       "['U0001',\n",
       " 'U0002',\n",
       " 'U0003',\n",
       " 'U0004',\n",
       " 'U0005',\n",
       " 'U0006',\n",
       " 'U0007',\n",
       " 'U0008',\n",
       " 'U0009',\n",
       " 'U0010',\n",
       " 'U0011',\n",
       " 'U0012',\n",
       " 'U0013',\n",
       " 'U0014',\n",
       " 'U0015',\n",
       " 'U0016',\n",
       " 'U0017',\n",
       " 'U0018',\n",
       " 'U0019',\n",
       " 'U0020',\n",
       " 'U0021',\n",
       " 'U0022',\n",
       " 'U0023',\n",
       " 'U0024',\n",
       " 'U0025',\n",
       " 'U0026',\n",
       " 'U0027',\n",
       " 'U0028',\n",
       " 'U0029',\n",
       " 'U0030',\n",
       " 'U0031',\n",
       " 'U0032',\n",
       " 'U0033',\n",
       " 'U0034',\n",
       " 'U0035',\n",
       " 'U0036',\n",
       " 'U0037',\n",
       " 'U0038',\n",
       " 'U0039',\n",
       " 'U0040',\n",
       " 'U0041',\n",
       " 'U0042',\n",
       " 'U0043',\n",
       " 'U0044',\n",
       " 'U0045',\n",
       " 'U0046',\n",
       " 'U0047',\n",
       " 'U0048',\n",
       " 'U0049',\n",
       " 'U0050',\n",
       " 'U0051',\n",
       " 'U0052',\n",
       " 'U0053',\n",
       " 'U0054',\n",
       " 'U0055',\n",
       " 'U0056',\n",
       " 'U0057',\n",
       " 'U0058',\n",
       " 'U0059',\n",
       " 'U0060',\n",
       " 'U0061',\n",
       " 'U0062',\n",
       " 'U0063',\n",
       " 'U0064',\n",
       " 'U0065',\n",
       " 'U0066',\n",
       " 'U0067',\n",
       " 'U0068',\n",
       " 'U0069',\n",
       " 'U0070',\n",
       " 'U0071',\n",
       " 'U0072',\n",
       " 'U0073',\n",
       " 'U0074',\n",
       " 'U0075',\n",
       " 'U0076',\n",
       " 'U0077',\n",
       " 'U0078',\n",
       " 'U0079',\n",
       " 'U0080',\n",
       " 'U0081',\n",
       " 'U0082',\n",
       " 'U0083',\n",
       " 'U0084',\n",
       " 'U0085',\n",
       " 'U0086',\n",
       " 'U0087',\n",
       " 'U0088',\n",
       " 'U0089',\n",
       " 'U0090',\n",
       " 'U0091',\n",
       " 'U0092',\n",
       " 'U0093',\n",
       " 'U0094',\n",
       " 'U0095',\n",
       " 'U0096',\n",
       " 'U0097',\n",
       " 'U0098',\n",
       " 'U0099',\n",
       " 'U0100',\n",
       " 'U0101',\n",
       " 'U0102',\n",
       " 'U0103',\n",
       " 'U0104',\n",
       " 'U0105',\n",
       " 'U0106',\n",
       " 'U0107',\n",
       " 'U0108',\n",
       " 'U0109',\n",
       " 'U0110',\n",
       " 'U0111',\n",
       " 'U0112',\n",
       " 'U0113',\n",
       " 'U0114',\n",
       " 'U0115',\n",
       " 'U0116',\n",
       " 'U0117',\n",
       " 'U0118',\n",
       " 'U0119',\n",
       " 'U0120']"
      ]
     },
     "execution_count": 53,
     "metadata": {},
     "output_type": "execute_result"
    }
   ],
   "source": [
    "list(map(get_userid, b5_files))"
   ]
  },
  {
   "cell_type": "code",
   "execution_count": 34,
   "id": "comfortable-briefs",
   "metadata": {
    "ExecuteTime": {
     "end_time": "2021-03-02T23:59:42.621439Z",
     "start_time": "2021-03-02T23:59:42.601357Z"
    }
   },
   "outputs": [
    {
     "name": "stdout",
     "output_type": "stream",
     "text": [
      "None\n"
     ]
    }
   ],
   "source": [
    "m = re.match(r\"(\\d+)\", r\"corp\\U0012\\a\")\n",
    "print(m)"
   ]
  },
  {
   "cell_type": "code",
   "execution_count": 10,
   "id": "chronic-charge",
   "metadata": {
    "ExecuteTime": {
     "end_time": "2021-03-04T21:36:44.071993Z",
     "start_time": "2021-03-04T21:36:44.061994Z"
    }
   },
   "outputs": [],
   "source": [
    "import pandas as pd"
   ]
  },
  {
   "cell_type": "code",
   "execution_count": 4,
   "id": "central-poster",
   "metadata": {
    "ExecuteTime": {
     "end_time": "2021-03-04T21:36:13.696180Z",
     "start_time": "2021-03-04T21:36:13.682180Z"
    }
   },
   "outputs": [],
   "source": [
    "def read_file_add_id(filepath):\n",
    "    user_id = get_userid(filepath)\n",
    "    df = pd.read_csv(filepath,sep=\";\")\n",
    "    df[\"user_id\"] = user_id\n",
    "    return df"
   ]
  },
  {
   "cell_type": "code",
   "execution_count": 60,
   "id": "spatial-cornell",
   "metadata": {
    "ExecuteTime": {
     "end_time": "2021-03-04T23:23:25.467240Z",
     "start_time": "2021-03-04T23:23:24.472872Z"
    }
   },
   "outputs": [],
   "source": [
    "b5_dfs = [read_file_add_id(filepath) for filepath in b5_files]"
   ]
  },
  {
   "cell_type": "code",
   "execution_count": 61,
   "id": "infrared-machinery",
   "metadata": {
    "ExecuteTime": {
     "end_time": "2021-03-04T23:23:25.531098Z",
     "start_time": "2021-03-04T23:23:25.472058Z"
    }
   },
   "outputs": [],
   "source": [
    "b5 = pd.concat(b5_dfs)"
   ]
  },
  {
   "cell_type": "code",
   "execution_count": 62,
   "id": "agricultural-humanity",
   "metadata": {
    "ExecuteTime": {
     "end_time": "2021-03-04T23:23:26.850145Z",
     "start_time": "2021-03-04T23:23:26.843148Z"
    }
   },
   "outputs": [
    {
     "data": {
      "text/plain": [
       "Index(['Question#', 'Answer', 'user_id'], dtype='object')"
      ]
     },
     "execution_count": 62,
     "metadata": {},
     "output_type": "execute_result"
    }
   ],
   "source": [
    "b5.columns"
   ]
  },
  {
   "cell_type": "code",
   "execution_count": 63,
   "id": "signed-matter",
   "metadata": {
    "ExecuteTime": {
     "end_time": "2021-03-04T23:23:30.694380Z",
     "start_time": "2021-03-04T23:23:30.684682Z"
    }
   },
   "outputs": [],
   "source": [
    "b5.columns = [\"Question_no\", \"Answer\",\"user_id\"]"
   ]
  },
  {
   "cell_type": "code",
   "execution_count": 74,
   "id": "introductory-story",
   "metadata": {
    "ExecuteTime": {
     "end_time": "2021-03-04T23:26:12.042069Z",
     "start_time": "2021-03-04T23:26:12.033070Z"
    }
   },
   "outputs": [],
   "source": [
    "b5.columns = sanitize_names(b5.columns)"
   ]
  },
  {
   "cell_type": "code",
   "execution_count": 75,
   "id": "thorough-transsexual",
   "metadata": {
    "ExecuteTime": {
     "end_time": "2021-03-04T23:26:13.197950Z",
     "start_time": "2021-03-04T23:26:13.184799Z"
    }
   },
   "outputs": [
    {
     "data": {
      "text/plain": [
       "(   question_no  answer user_id\n",
       " 0            1       1   U0001\n",
       " 1            2       2   U0001\n",
       " 2            3      -2   U0001\n",
       " 3            4       0   U0001\n",
       " 4            5      -1   U0001,\n",
       "    question_no  answer user_id\n",
       " 5            6       2   U0120\n",
       " 6            7       1   U0120\n",
       " 7            8       1   U0120\n",
       " 8            9      -1   U0120\n",
       " 9           10       2   U0120)"
      ]
     },
     "execution_count": 75,
     "metadata": {},
     "output_type": "execute_result"
    }
   ],
   "source": [
    "b5.head(), b5.tail()"
   ]
  },
  {
   "cell_type": "code",
   "execution_count": 72,
   "id": "removable-ministry",
   "metadata": {
    "ExecuteTime": {
     "end_time": "2021-03-03T02:04:22.967029Z",
     "start_time": "2021-03-03T02:04:13.779273Z"
    }
   },
   "outputs": [],
   "source": [
    "import seaborn as sns"
   ]
  },
  {
   "cell_type": "code",
   "execution_count": 5,
   "id": "brave-raising",
   "metadata": {
    "ExecuteTime": {
     "end_time": "2021-03-04T21:36:22.122175Z",
     "start_time": "2021-03-04T21:36:18.103186Z"
    }
   },
   "outputs": [],
   "source": [
    "import missingno"
   ]
  },
  {
   "cell_type": "code",
   "execution_count": 79,
   "id": "regular-tracker",
   "metadata": {
    "ExecuteTime": {
     "end_time": "2021-03-03T02:07:24.960373Z",
     "start_time": "2021-03-03T02:07:23.104345Z"
    }
   },
   "outputs": [
    {
     "data": {
      "text/plain": [
       "<AxesSubplot:>"
      ]
     },
     "execution_count": 79,
     "metadata": {},
     "output_type": "execute_result"
    },
    {
     "data": {
      "image/png": "[encoded data removed]",
      "text/plain": [
       "<Figure size 1728x720 with 3 Axes>"
      ]
     },
     "metadata": {
      "needs_background": "light"
     },
     "output_type": "display_data"
    }
   ],
   "source": [
    "missingno.bar(b5)"
   ]
  },
  {
   "cell_type": "code",
   "execution_count": 76,
   "id": "robust-patient",
   "metadata": {
    "ExecuteTime": {
     "end_time": "2021-03-04T23:26:54.912612Z",
     "start_time": "2021-03-04T23:26:54.889572Z"
    }
   },
   "outputs": [],
   "source": [
    "b5.to_csv(\"data/processed/b5.csv\", index=False)"
   ]
  },
  {
   "cell_type": "markdown",
   "id": "younger-dominant",
   "metadata": {},
   "source": [
    "# Collate user information"
   ]
  },
  {
   "cell_type": "code",
   "execution_count": 65,
   "id": "scientific-charm",
   "metadata": {
    "ExecuteTime": {
     "end_time": "2021-03-04T23:24:30.026092Z",
     "start_time": "2021-03-04T23:24:29.982763Z"
    }
   },
   "outputs": [
    {
     "data": {
      "text/plain": [
       "['data/raw\\\\ADS16_Benchmark_part1\\\\Corpus\\\\Corpus\\\\U0001\\\\U0001-INF.csv',\n",
       " 'data/raw\\\\ADS16_Benchmark_part1\\\\Corpus\\\\Corpus\\\\U0002\\\\U0002-INF.csv',\n",
       " 'data/raw\\\\ADS16_Benchmark_part1\\\\Corpus\\\\Corpus\\\\U0003\\\\U0003-INF.csv',\n",
       " 'data/raw\\\\ADS16_Benchmark_part1\\\\Corpus\\\\Corpus\\\\U0004\\\\U0004-INF.csv',\n",
       " 'data/raw\\\\ADS16_Benchmark_part1\\\\Corpus\\\\Corpus\\\\U0005\\\\U0005-INF.csv',\n",
       " 'data/raw\\\\ADS16_Benchmark_part1\\\\Corpus\\\\Corpus\\\\U0006\\\\U0006-INF.csv',\n",
       " 'data/raw\\\\ADS16_Benchmark_part1\\\\Corpus\\\\Corpus\\\\U0007\\\\U0007-INF.csv',\n",
       " 'data/raw\\\\ADS16_Benchmark_part1\\\\Corpus\\\\Corpus\\\\U0008\\\\U0008-INF.csv',\n",
       " 'data/raw\\\\ADS16_Benchmark_part1\\\\Corpus\\\\Corpus\\\\U0009\\\\U0009-INF.csv',\n",
       " 'data/raw\\\\ADS16_Benchmark_part1\\\\Corpus\\\\Corpus\\\\U0010\\\\U0010-INF.csv',\n",
       " 'data/raw\\\\ADS16_Benchmark_part1\\\\Corpus\\\\Corpus\\\\U0011\\\\U0011-INF.csv',\n",
       " 'data/raw\\\\ADS16_Benchmark_part1\\\\Corpus\\\\Corpus\\\\U0012\\\\U0012-INF.csv',\n",
       " 'data/raw\\\\ADS16_Benchmark_part1\\\\Corpus\\\\Corpus\\\\U0013\\\\U0013-INF.csv',\n",
       " 'data/raw\\\\ADS16_Benchmark_part1\\\\Corpus\\\\Corpus\\\\U0014\\\\U0014-INF.csv',\n",
       " 'data/raw\\\\ADS16_Benchmark_part1\\\\Corpus\\\\Corpus\\\\U0015\\\\U0015-INF.csv',\n",
       " 'data/raw\\\\ADS16_Benchmark_part1\\\\Corpus\\\\Corpus\\\\U0016\\\\U0016-INF.csv',\n",
       " 'data/raw\\\\ADS16_Benchmark_part1\\\\Corpus\\\\Corpus\\\\U0017\\\\U0017-INF.csv',\n",
       " 'data/raw\\\\ADS16_Benchmark_part1\\\\Corpus\\\\Corpus\\\\U0018\\\\U0018-INF.csv',\n",
       " 'data/raw\\\\ADS16_Benchmark_part1\\\\Corpus\\\\Corpus\\\\U0019\\\\U0019-INF.csv',\n",
       " 'data/raw\\\\ADS16_Benchmark_part1\\\\Corpus\\\\Corpus\\\\U0020\\\\U0020-INF.csv',\n",
       " 'data/raw\\\\ADS16_Benchmark_part1\\\\Corpus\\\\Corpus\\\\U0021\\\\U0021-INF.csv',\n",
       " 'data/raw\\\\ADS16_Benchmark_part1\\\\Corpus\\\\Corpus\\\\U0022\\\\U0022-INF.csv',\n",
       " 'data/raw\\\\ADS16_Benchmark_part1\\\\Corpus\\\\Corpus\\\\U0023\\\\U0023-INF.csv',\n",
       " 'data/raw\\\\ADS16_Benchmark_part1\\\\Corpus\\\\Corpus\\\\U0024\\\\U0024-INF.csv',\n",
       " 'data/raw\\\\ADS16_Benchmark_part1\\\\Corpus\\\\Corpus\\\\U0025\\\\U0025-INF.csv',\n",
       " 'data/raw\\\\ADS16_Benchmark_part1\\\\Corpus\\\\Corpus\\\\U0026\\\\U0026-INF.csv',\n",
       " 'data/raw\\\\ADS16_Benchmark_part1\\\\Corpus\\\\Corpus\\\\U0027\\\\U0027-INF.csv',\n",
       " 'data/raw\\\\ADS16_Benchmark_part1\\\\Corpus\\\\Corpus\\\\U0028\\\\U0028-INF.csv',\n",
       " 'data/raw\\\\ADS16_Benchmark_part1\\\\Corpus\\\\Corpus\\\\U0029\\\\U0029-INF.csv',\n",
       " 'data/raw\\\\ADS16_Benchmark_part1\\\\Corpus\\\\Corpus\\\\U0030\\\\U0030-INF.csv',\n",
       " 'data/raw\\\\ADS16_Benchmark_part1\\\\Corpus\\\\Corpus\\\\U0031\\\\U0031-INF.csv',\n",
       " 'data/raw\\\\ADS16_Benchmark_part1\\\\Corpus\\\\Corpus\\\\U0032\\\\U0032-INF.csv',\n",
       " 'data/raw\\\\ADS16_Benchmark_part1\\\\Corpus\\\\Corpus\\\\U0033\\\\U0033-INF.csv',\n",
       " 'data/raw\\\\ADS16_Benchmark_part1\\\\Corpus\\\\Corpus\\\\U0034\\\\U0034-INF.csv',\n",
       " 'data/raw\\\\ADS16_Benchmark_part1\\\\Corpus\\\\Corpus\\\\U0035\\\\U0035-INF.csv',\n",
       " 'data/raw\\\\ADS16_Benchmark_part1\\\\Corpus\\\\Corpus\\\\U0036\\\\U0036-INF.csv',\n",
       " 'data/raw\\\\ADS16_Benchmark_part1\\\\Corpus\\\\Corpus\\\\U0037\\\\U0037-INF.csv',\n",
       " 'data/raw\\\\ADS16_Benchmark_part1\\\\Corpus\\\\Corpus\\\\U0038\\\\U0038-INF.csv',\n",
       " 'data/raw\\\\ADS16_Benchmark_part1\\\\Corpus\\\\Corpus\\\\U0039\\\\U0039-INF.csv',\n",
       " 'data/raw\\\\ADS16_Benchmark_part1\\\\Corpus\\\\Corpus\\\\U0040\\\\U0040-INF.csv',\n",
       " 'data/raw\\\\ADS16_Benchmark_part1\\\\Corpus\\\\Corpus\\\\U0041\\\\U0041-INF.csv',\n",
       " 'data/raw\\\\ADS16_Benchmark_part1\\\\Corpus\\\\Corpus\\\\U0042\\\\U0042-INF.csv',\n",
       " 'data/raw\\\\ADS16_Benchmark_part1\\\\Corpus\\\\Corpus\\\\U0043\\\\U0043-INF.csv',\n",
       " 'data/raw\\\\ADS16_Benchmark_part1\\\\Corpus\\\\Corpus\\\\U0044\\\\U0044-INF.csv',\n",
       " 'data/raw\\\\ADS16_Benchmark_part1\\\\Corpus\\\\Corpus\\\\U0045\\\\U0045-INF.csv',\n",
       " 'data/raw\\\\ADS16_Benchmark_part1\\\\Corpus\\\\Corpus\\\\U0046\\\\U0046-INF.csv',\n",
       " 'data/raw\\\\ADS16_Benchmark_part1\\\\Corpus\\\\Corpus\\\\U0047\\\\U0047-INF.csv',\n",
       " 'data/raw\\\\ADS16_Benchmark_part1\\\\Corpus\\\\Corpus\\\\U0048\\\\U0048-INF.csv',\n",
       " 'data/raw\\\\ADS16_Benchmark_part1\\\\Corpus\\\\Corpus\\\\U0049\\\\U0049-INF.csv',\n",
       " 'data/raw\\\\ADS16_Benchmark_part1\\\\Corpus\\\\Corpus\\\\U0050\\\\U0050-INF.csv',\n",
       " 'data/raw\\\\ADS16_Benchmark_part1\\\\Corpus\\\\Corpus\\\\U0051\\\\U0051-INF.csv',\n",
       " 'data/raw\\\\ADS16_Benchmark_part1\\\\Corpus\\\\Corpus\\\\U0052\\\\U0052-INF.csv',\n",
       " 'data/raw\\\\ADS16_Benchmark_part1\\\\Corpus\\\\Corpus\\\\U0053\\\\U0053-INF.csv',\n",
       " 'data/raw\\\\ADS16_Benchmark_part1\\\\Corpus\\\\Corpus\\\\U0054\\\\U0054-INF.csv',\n",
       " 'data/raw\\\\ADS16_Benchmark_part1\\\\Corpus\\\\Corpus\\\\U0055\\\\U0055-INF.csv',\n",
       " 'data/raw\\\\ADS16_Benchmark_part1\\\\Corpus\\\\Corpus\\\\U0056\\\\U0056-INF.csv',\n",
       " 'data/raw\\\\ADS16_Benchmark_part1\\\\Corpus\\\\Corpus\\\\U0057\\\\U0057-INF.csv',\n",
       " 'data/raw\\\\ADS16_Benchmark_part1\\\\Corpus\\\\Corpus\\\\U0058\\\\U0058-INF.csv',\n",
       " 'data/raw\\\\ADS16_Benchmark_part1\\\\Corpus\\\\Corpus\\\\U0059\\\\U0059-INF.csv',\n",
       " 'data/raw\\\\ADS16_Benchmark_part1\\\\Corpus\\\\Corpus\\\\U0060\\\\U0060-INF.csv',\n",
       " 'data/raw\\\\ADS16_Benchmark_part2\\\\Corpus\\\\Corpus\\\\U0061\\\\U0061-INF.csv',\n",
       " 'data/raw\\\\ADS16_Benchmark_part2\\\\Corpus\\\\Corpus\\\\U0062\\\\U0062-INF.csv',\n",
       " 'data/raw\\\\ADS16_Benchmark_part2\\\\Corpus\\\\Corpus\\\\U0063\\\\U0063-INF.csv',\n",
       " 'data/raw\\\\ADS16_Benchmark_part2\\\\Corpus\\\\Corpus\\\\U0064\\\\U0064-INF.csv',\n",
       " 'data/raw\\\\ADS16_Benchmark_part2\\\\Corpus\\\\Corpus\\\\U0065\\\\U0065-INF.csv',\n",
       " 'data/raw\\\\ADS16_Benchmark_part2\\\\Corpus\\\\Corpus\\\\U0066\\\\U0066-INF.csv',\n",
       " 'data/raw\\\\ADS16_Benchmark_part2\\\\Corpus\\\\Corpus\\\\U0067\\\\U0067-INF.csv',\n",
       " 'data/raw\\\\ADS16_Benchmark_part2\\\\Corpus\\\\Corpus\\\\U0068\\\\U0068-INF.csv',\n",
       " 'data/raw\\\\ADS16_Benchmark_part2\\\\Corpus\\\\Corpus\\\\U0069\\\\U0069-INF.csv',\n",
       " 'data/raw\\\\ADS16_Benchmark_part2\\\\Corpus\\\\Corpus\\\\U0070\\\\U0070-INF.csv',\n",
       " 'data/raw\\\\ADS16_Benchmark_part2\\\\Corpus\\\\Corpus\\\\U0071\\\\U0071-INF.csv',\n",
       " 'data/raw\\\\ADS16_Benchmark_part2\\\\Corpus\\\\Corpus\\\\U0072\\\\U0072-INF.csv',\n",
       " 'data/raw\\\\ADS16_Benchmark_part2\\\\Corpus\\\\Corpus\\\\U0073\\\\U0073-INF.csv',\n",
       " 'data/raw\\\\ADS16_Benchmark_part2\\\\Corpus\\\\Corpus\\\\U0074\\\\U0074-INF.csv',\n",
       " 'data/raw\\\\ADS16_Benchmark_part2\\\\Corpus\\\\Corpus\\\\U0075\\\\U0075-INF.csv',\n",
       " 'data/raw\\\\ADS16_Benchmark_part2\\\\Corpus\\\\Corpus\\\\U0076\\\\U0076-INF.csv',\n",
       " 'data/raw\\\\ADS16_Benchmark_part2\\\\Corpus\\\\Corpus\\\\U0077\\\\U0077-INF.csv',\n",
       " 'data/raw\\\\ADS16_Benchmark_part2\\\\Corpus\\\\Corpus\\\\U0078\\\\U0078-INF.csv',\n",
       " 'data/raw\\\\ADS16_Benchmark_part2\\\\Corpus\\\\Corpus\\\\U0079\\\\U0079-INF.csv',\n",
       " 'data/raw\\\\ADS16_Benchmark_part2\\\\Corpus\\\\Corpus\\\\U0080\\\\U0080-INF.csv',\n",
       " 'data/raw\\\\ADS16_Benchmark_part2\\\\Corpus\\\\Corpus\\\\U0081\\\\U0081-INF.csv',\n",
       " 'data/raw\\\\ADS16_Benchmark_part2\\\\Corpus\\\\Corpus\\\\U0082\\\\U0082-INF.csv',\n",
       " 'data/raw\\\\ADS16_Benchmark_part2\\\\Corpus\\\\Corpus\\\\U0083\\\\U0083-INF.csv',\n",
       " 'data/raw\\\\ADS16_Benchmark_part2\\\\Corpus\\\\Corpus\\\\U0084\\\\U0084-INF.csv',\n",
       " 'data/raw\\\\ADS16_Benchmark_part2\\\\Corpus\\\\Corpus\\\\U0085\\\\U0085-INF.csv',\n",
       " 'data/raw\\\\ADS16_Benchmark_part2\\\\Corpus\\\\Corpus\\\\U0086\\\\U0086-INF.csv',\n",
       " 'data/raw\\\\ADS16_Benchmark_part2\\\\Corpus\\\\Corpus\\\\U0087\\\\U0087-INF.csv',\n",
       " 'data/raw\\\\ADS16_Benchmark_part2\\\\Corpus\\\\Corpus\\\\U0088\\\\U0088-INF.csv',\n",
       " 'data/raw\\\\ADS16_Benchmark_part2\\\\Corpus\\\\Corpus\\\\U0089\\\\U0089-INF.csv',\n",
       " 'data/raw\\\\ADS16_Benchmark_part2\\\\Corpus\\\\Corpus\\\\U0090\\\\U0090-INF.csv',\n",
       " 'data/raw\\\\ADS16_Benchmark_part2\\\\Corpus\\\\Corpus\\\\U0091\\\\U0091-INF.csv',\n",
       " 'data/raw\\\\ADS16_Benchmark_part2\\\\Corpus\\\\Corpus\\\\U0092\\\\U0092-INF.csv',\n",
       " 'data/raw\\\\ADS16_Benchmark_part2\\\\Corpus\\\\Corpus\\\\U0093\\\\U0093-INF.csv',\n",
       " 'data/raw\\\\ADS16_Benchmark_part2\\\\Corpus\\\\Corpus\\\\U0094\\\\U0094-INF.csv',\n",
       " 'data/raw\\\\ADS16_Benchmark_part2\\\\Corpus\\\\Corpus\\\\U0095\\\\U0095-INF.csv',\n",
       " 'data/raw\\\\ADS16_Benchmark_part2\\\\Corpus\\\\Corpus\\\\U0096\\\\U0096-INF.csv',\n",
       " 'data/raw\\\\ADS16_Benchmark_part2\\\\Corpus\\\\Corpus\\\\U0097\\\\U0097-INF.csv',\n",
       " 'data/raw\\\\ADS16_Benchmark_part2\\\\Corpus\\\\Corpus\\\\U0098\\\\U0098-INF.csv',\n",
       " 'data/raw\\\\ADS16_Benchmark_part2\\\\Corpus\\\\Corpus\\\\U0099\\\\U0099-INF.csv',\n",
       " 'data/raw\\\\ADS16_Benchmark_part2\\\\Corpus\\\\Corpus\\\\U0100\\\\U0100-INF.csv',\n",
       " 'data/raw\\\\ADS16_Benchmark_part2\\\\Corpus\\\\Corpus\\\\U0101\\\\U0101-INF.csv',\n",
       " 'data/raw\\\\ADS16_Benchmark_part2\\\\Corpus\\\\Corpus\\\\U0102\\\\U0102-INF.csv',\n",
       " 'data/raw\\\\ADS16_Benchmark_part2\\\\Corpus\\\\Corpus\\\\U0103\\\\U0103-INF.csv',\n",
       " 'data/raw\\\\ADS16_Benchmark_part2\\\\Corpus\\\\Corpus\\\\U0104\\\\U0104-INF.csv',\n",
       " 'data/raw\\\\ADS16_Benchmark_part2\\\\Corpus\\\\Corpus\\\\U0105\\\\U0105-INF.csv',\n",
       " 'data/raw\\\\ADS16_Benchmark_part2\\\\Corpus\\\\Corpus\\\\U0106\\\\U0106-INF.csv',\n",
       " 'data/raw\\\\ADS16_Benchmark_part2\\\\Corpus\\\\Corpus\\\\U0107\\\\U0107-INF.csv',\n",
       " 'data/raw\\\\ADS16_Benchmark_part2\\\\Corpus\\\\Corpus\\\\U0108\\\\U0108-INF.csv',\n",
       " 'data/raw\\\\ADS16_Benchmark_part2\\\\Corpus\\\\Corpus\\\\U0109\\\\U0109-INF.csv',\n",
       " 'data/raw\\\\ADS16_Benchmark_part2\\\\Corpus\\\\Corpus\\\\U0110\\\\U0110-INF.csv',\n",
       " 'data/raw\\\\ADS16_Benchmark_part2\\\\Corpus\\\\Corpus\\\\U0111\\\\U0111-INF.csv',\n",
       " 'data/raw\\\\ADS16_Benchmark_part2\\\\Corpus\\\\Corpus\\\\U0112\\\\U0112-INF.csv',\n",
       " 'data/raw\\\\ADS16_Benchmark_part2\\\\Corpus\\\\Corpus\\\\U0113\\\\U0113-INF.csv',\n",
       " 'data/raw\\\\ADS16_Benchmark_part2\\\\Corpus\\\\Corpus\\\\U0114\\\\U0114-INF.csv',\n",
       " 'data/raw\\\\ADS16_Benchmark_part2\\\\Corpus\\\\Corpus\\\\U0115\\\\U0115-INF.csv',\n",
       " 'data/raw\\\\ADS16_Benchmark_part2\\\\Corpus\\\\Corpus\\\\U0116\\\\U0116-INF.csv',\n",
       " 'data/raw\\\\ADS16_Benchmark_part2\\\\Corpus\\\\Corpus\\\\U0117\\\\U0117-INF.csv',\n",
       " 'data/raw\\\\ADS16_Benchmark_part2\\\\Corpus\\\\Corpus\\\\U0118\\\\U0118-INF.csv',\n",
       " 'data/raw\\\\ADS16_Benchmark_part2\\\\Corpus\\\\Corpus\\\\U0119\\\\U0119-INF.csv',\n",
       " 'data/raw\\\\ADS16_Benchmark_part2\\\\Corpus\\\\Corpus\\\\U0120\\\\U0120-INF.csv']"
      ]
     },
     "execution_count": 65,
     "metadata": {},
     "output_type": "execute_result"
    }
   ],
   "source": [
    "inf_files = glob.glob(\"data/raw/ADS16_Benchmark_part?/Corpus/Corpus/U*/U*-INF.csv\")\n",
    "inf_files"
   ]
  },
  {
   "cell_type": "code",
   "execution_count": 66,
   "id": "operating-cathedral",
   "metadata": {
    "ExecuteTime": {
     "end_time": "2021-03-04T23:24:32.158589Z",
     "start_time": "2021-03-04T23:24:30.959565Z"
    }
   },
   "outputs": [],
   "source": [
    "inf_df = [read_file_add_id(filepath) for filepath in inf_files]"
   ]
  },
  {
   "cell_type": "code",
   "execution_count": 67,
   "id": "proprietary-whale",
   "metadata": {
    "ExecuteTime": {
     "end_time": "2021-03-04T23:24:33.307126Z",
     "start_time": "2021-03-04T23:24:32.164414Z"
    }
   },
   "outputs": [],
   "source": [
    "inf_df = pd.concat(inf_df)"
   ]
  },
  {
   "cell_type": "code",
   "execution_count": 68,
   "id": "critical-circuit",
   "metadata": {
    "ExecuteTime": {
     "end_time": "2021-03-04T23:24:33.466231Z",
     "start_time": "2021-03-04T23:24:33.316125Z"
    }
   },
   "outputs": [
    {
     "data": {
      "text/html": [
       "<div>\n",
       "<style scoped>\n",
       "    .dataframe tbody tr th:only-of-type {\n",
       "        vertical-align: middle;\n",
       "    }\n",
       "\n",
       "    .dataframe tbody tr th {\n",
       "        vertical-align: top;\n",
       "    }\n",
       "\n",
       "    .dataframe thead th {\n",
       "        text-align: right;\n",
       "    }\n",
       "</style>\n",
       "<table border=\"1\" class=\"dataframe\">\n",
       "  <thead>\n",
       "    <tr style=\"text-align: right;\">\n",
       "      <th></th>\n",
       "      <th>Name</th>\n",
       "      <th>Last Name</th>\n",
       "      <th>Gender</th>\n",
       "      <th>Age</th>\n",
       "      <th>Paypal</th>\n",
       "      <th>Type of Job</th>\n",
       "      <th>Weekly working hours</th>\n",
       "      <th>Income</th>\n",
       "      <th>Home country</th>\n",
       "      <th>Home town</th>\n",
       "      <th>Cap/Zip-Code</th>\n",
       "      <th>Timepass</th>\n",
       "      <th>Countries visited</th>\n",
       "      <th>Fave Sports</th>\n",
       "      <th>user_id</th>\n",
       "    </tr>\n",
       "  </thead>\n",
       "  <tbody>\n",
       "    <tr>\n",
       "      <th>0</th>\n",
       "      <td>Hidden</td>\n",
       "      <td>Hidden</td>\n",
       "      <td>F</td>\n",
       "      <td>62</td>\n",
       "      <td>hidden@comcast.net</td>\n",
       "      <td>Housewife/Househusband</td>\n",
       "      <td>Full Time</td>\n",
       "      <td>1</td>\n",
       "      <td>United States of America</td>\n",
       "      <td>Apollo</td>\n",
       "      <td>15613</td>\n",
       "      <td>Internet</td>\n",
       "      <td>United States of America</td>\n",
       "      <td>I do not like Sports</td>\n",
       "      <td>U0001</td>\n",
       "    </tr>\n",
       "    <tr>\n",
       "      <th>0</th>\n",
       "      <td>Hidden</td>\n",
       "      <td>Hidden</td>\n",
       "      <td>F</td>\n",
       "      <td>26</td>\n",
       "      <td>hidden@gmail.com</td>\n",
       "      <td>Contract employment</td>\n",
       "      <td>Full Time</td>\n",
       "      <td>1</td>\n",
       "      <td>United States of America</td>\n",
       "      <td>Chicago</td>\n",
       "      <td>60638</td>\n",
       "      <td>Internet</td>\n",
       "      <td>Poland, Mexico, United States of America</td>\n",
       "      <td>Nothing</td>\n",
       "      <td>U0002</td>\n",
       "    </tr>\n",
       "    <tr>\n",
       "      <th>0</th>\n",
       "      <td>Hidden</td>\n",
       "      <td>Hidden</td>\n",
       "      <td>M</td>\n",
       "      <td>22</td>\n",
       "      <td>hidden@uwosh.edu</td>\n",
       "      <td>Contract employment</td>\n",
       "      <td>Full Time</td>\n",
       "      <td>1</td>\n",
       "      <td>United States of America</td>\n",
       "      <td>Greenville</td>\n",
       "      <td>54942</td>\n",
       "      <td>Sports</td>\n",
       "      <td>France</td>\n",
       "      <td>Team sports (Footbal, Baseball, Rugby, ...)</td>\n",
       "      <td>U0003</td>\n",
       "    </tr>\n",
       "    <tr>\n",
       "      <th>0</th>\n",
       "      <td>Hidden</td>\n",
       "      <td>Hidden</td>\n",
       "      <td>F</td>\n",
       "      <td>24</td>\n",
       "      <td>hidden@hotmail.co.uk</td>\n",
       "      <td>Student</td>\n",
       "      <td>Part Time</td>\n",
       "      <td>1</td>\n",
       "      <td>Great Britain</td>\n",
       "      <td>London</td>\n",
       "      <td>NW1 1EU</td>\n",
       "      <td>Internet</td>\n",
       "      <td>United States of America, United Kingdom, Ital...</td>\n",
       "      <td>Individual sports‎ (Tennis, Archery, ...)</td>\n",
       "      <td>U0004</td>\n",
       "    </tr>\n",
       "    <tr>\n",
       "      <th>0</th>\n",
       "      <td>Hidden</td>\n",
       "      <td>Hidden</td>\n",
       "      <td>F</td>\n",
       "      <td>34</td>\n",
       "      <td>hidden@email.cz</td>\n",
       "      <td>Contract employment</td>\n",
       "      <td>Full Time</td>\n",
       "      <td>1</td>\n",
       "      <td>Czech Republic</td>\n",
       "      <td>Prague</td>\n",
       "      <td>10000</td>\n",
       "      <td>Sports</td>\n",
       "      <td>Russia, Slovakia, Slovenia, China, India, Fran...</td>\n",
       "      <td>Individual sports‎ (Tennis, Archery, ...)</td>\n",
       "      <td>U0005</td>\n",
       "    </tr>\n",
       "    <tr>\n",
       "      <th>...</th>\n",
       "      <td>...</td>\n",
       "      <td>...</td>\n",
       "      <td>...</td>\n",
       "      <td>...</td>\n",
       "      <td>...</td>\n",
       "      <td>...</td>\n",
       "      <td>...</td>\n",
       "      <td>...</td>\n",
       "      <td>...</td>\n",
       "      <td>...</td>\n",
       "      <td>...</td>\n",
       "      <td>...</td>\n",
       "      <td>...</td>\n",
       "      <td>...</td>\n",
       "      <td>...</td>\n",
       "    </tr>\n",
       "    <tr>\n",
       "      <th>0</th>\n",
       "      <td>Hidden</td>\n",
       "      <td>Hidden</td>\n",
       "      <td>F</td>\n",
       "      <td>28</td>\n",
       "      <td>hidden@yahoo.com</td>\n",
       "      <td>Contract employment</td>\n",
       "      <td>Full Time</td>\n",
       "      <td>2</td>\n",
       "      <td>United States of America</td>\n",
       "      <td>Colorado</td>\n",
       "      <td>80031</td>\n",
       "      <td>Reading</td>\n",
       "      <td>Iraq</td>\n",
       "      <td>I do not like Sports</td>\n",
       "      <td>U0116</td>\n",
       "    </tr>\n",
       "    <tr>\n",
       "      <th>0</th>\n",
       "      <td>Hidden</td>\n",
       "      <td>Hidden</td>\n",
       "      <td>F</td>\n",
       "      <td>55</td>\n",
       "      <td>hidden@hotmail.com</td>\n",
       "      <td>Self-employment</td>\n",
       "      <td>Full Time</td>\n",
       "      <td>2</td>\n",
       "      <td>United States of America</td>\n",
       "      <td>Bellflower</td>\n",
       "      <td>90706</td>\n",
       "      <td>Internet</td>\n",
       "      <td>Mexico, Canada, Bahamas</td>\n",
       "      <td>Olympic sports‎, Equestrian sports‎, Motor spo...</td>\n",
       "      <td>U0117</td>\n",
       "    </tr>\n",
       "    <tr>\n",
       "      <th>0</th>\n",
       "      <td>Hidden</td>\n",
       "      <td>Hidden</td>\n",
       "      <td>F</td>\n",
       "      <td>18</td>\n",
       "      <td>hidden@yahoo.com</td>\n",
       "      <td>Student</td>\n",
       "      <td>Full Time</td>\n",
       "      <td>2</td>\n",
       "      <td>United States of America</td>\n",
       "      <td>San Mateo</td>\n",
       "      <td>94401-2727</td>\n",
       "      <td>Reading</td>\n",
       "      <td>Italy, France, Germany, Switzerland, Austria</td>\n",
       "      <td>I do not like Sports</td>\n",
       "      <td>U0118</td>\n",
       "    </tr>\n",
       "    <tr>\n",
       "      <th>0</th>\n",
       "      <td>Hidden</td>\n",
       "      <td>Hidden</td>\n",
       "      <td>F</td>\n",
       "      <td>61</td>\n",
       "      <td>hidden@hush.ai</td>\n",
       "      <td>Temporary</td>\n",
       "      <td>Part Time</td>\n",
       "      <td>1</td>\n",
       "      <td>Canada</td>\n",
       "      <td>Toronto</td>\n",
       "      <td>M5S1R8</td>\n",
       "      <td>Movie</td>\n",
       "      <td>Germany, France, United Kingdom</td>\n",
       "      <td>Other</td>\n",
       "      <td>U0119</td>\n",
       "    </tr>\n",
       "    <tr>\n",
       "      <th>0</th>\n",
       "      <td>Hidden</td>\n",
       "      <td>Hidden</td>\n",
       "      <td>M</td>\n",
       "      <td>33</td>\n",
       "      <td>hidden@gmail.com</td>\n",
       "      <td>Consulting</td>\n",
       "      <td>Full Time</td>\n",
       "      <td>2</td>\n",
       "      <td>United States of America</td>\n",
       "      <td>CHICAGO</td>\n",
       "      <td>60611</td>\n",
       "      <td>Reading</td>\n",
       "      <td>Honduras</td>\n",
       "      <td>Individual sports‎ (Tennis, Archery, ...), Tea...</td>\n",
       "      <td>U0120</td>\n",
       "    </tr>\n",
       "  </tbody>\n",
       "</table>\n",
       "<p>120 rows × 15 columns</p>\n",
       "</div>"
      ],
      "text/plain": [
       "      Name Last Name Gender  Age                Paypal  \\\n",
       "0   Hidden    Hidden      F   62    hidden@comcast.net   \n",
       "0   Hidden    Hidden      F   26      hidden@gmail.com   \n",
       "0   Hidden    Hidden      M   22      hidden@uwosh.edu   \n",
       "0   Hidden    Hidden      F   24  hidden@hotmail.co.uk   \n",
       "0   Hidden    Hidden      F   34       hidden@email.cz   \n",
       "..     ...       ...    ...  ...                   ...   \n",
       "0   Hidden    Hidden      F   28      hidden@yahoo.com   \n",
       "0   Hidden    Hidden      F   55    hidden@hotmail.com   \n",
       "0   Hidden    Hidden      F   18      hidden@yahoo.com   \n",
       "0   Hidden    Hidden      F   61        hidden@hush.ai   \n",
       "0   Hidden    Hidden      M   33      hidden@gmail.com   \n",
       "\n",
       "               Type of Job Weekly working hours  Income  \\\n",
       "0   Housewife/Househusband            Full Time       1   \n",
       "0      Contract employment            Full Time       1   \n",
       "0      Contract employment            Full Time       1   \n",
       "0                  Student            Part Time       1   \n",
       "0      Contract employment            Full Time       1   \n",
       "..                     ...                  ...     ...   \n",
       "0      Contract employment            Full Time       2   \n",
       "0          Self-employment            Full Time       2   \n",
       "0                  Student            Full Time       2   \n",
       "0                Temporary            Part Time       1   \n",
       "0               Consulting            Full Time       2   \n",
       "\n",
       "                Home country   Home town Cap/Zip-Code  Timepass  \\\n",
       "0   United States of America      Apollo        15613  Internet   \n",
       "0   United States of America     Chicago        60638  Internet   \n",
       "0   United States of America  Greenville        54942    Sports   \n",
       "0              Great Britain      London      NW1 1EU  Internet   \n",
       "0             Czech Republic      Prague        10000    Sports   \n",
       "..                       ...         ...          ...       ...   \n",
       "0   United States of America    Colorado        80031   Reading   \n",
       "0   United States of America  Bellflower        90706  Internet   \n",
       "0   United States of America   San Mateo   94401-2727   Reading   \n",
       "0                     Canada     Toronto       M5S1R8     Movie   \n",
       "0   United States of America     CHICAGO        60611   Reading   \n",
       "\n",
       "                                    Countries visited  \\\n",
       "0                            United States of America   \n",
       "0            Poland, Mexico, United States of America   \n",
       "0                                              France   \n",
       "0   United States of America, United Kingdom, Ital...   \n",
       "0   Russia, Slovakia, Slovenia, China, India, Fran...   \n",
       "..                                                ...   \n",
       "0                                                Iraq   \n",
       "0                             Mexico, Canada, Bahamas   \n",
       "0        Italy, France, Germany, Switzerland, Austria   \n",
       "0                     Germany, France, United Kingdom   \n",
       "0                                            Honduras   \n",
       "\n",
       "                                          Fave Sports user_id  \n",
       "0                                I do not like Sports   U0001  \n",
       "0                                             Nothing   U0002  \n",
       "0        Team sports (Footbal, Baseball, Rugby, ...)    U0003  \n",
       "0           Individual sports‎ (Tennis, Archery, ...)   U0004  \n",
       "0           Individual sports‎ (Tennis, Archery, ...)   U0005  \n",
       "..                                                ...     ...  \n",
       "0                                I do not like Sports   U0116  \n",
       "0   Olympic sports‎, Equestrian sports‎, Motor spo...   U0117  \n",
       "0                                I do not like Sports   U0118  \n",
       "0                                               Other   U0119  \n",
       "0   Individual sports‎ (Tennis, Archery, ...), Tea...   U0120  \n",
       "\n",
       "[120 rows x 15 columns]"
      ]
     },
     "execution_count": 68,
     "metadata": {},
     "output_type": "execute_result"
    }
   ],
   "source": [
    "inf_df"
   ]
  },
  {
   "cell_type": "code",
   "execution_count": null,
   "id": "random-inventory",
   "metadata": {},
   "outputs": [],
   "source": []
  },
  {
   "cell_type": "code",
   "execution_count": 78,
   "id": "given-joint",
   "metadata": {
    "ExecuteTime": {
     "end_time": "2021-03-03T02:06:12.469280Z",
     "start_time": "2021-03-03T02:06:08.153057Z"
    }
   },
   "outputs": [
    {
     "data": {
      "text/plain": [
       "<AxesSubplot:>"
      ]
     },
     "execution_count": 78,
     "metadata": {},
     "output_type": "execute_result"
    },
    {
     "data": {
      "image/png": "[encoded data removed]",
      "text/plain": [
       "<Figure size 1728x720 with 3 Axes>"
      ]
     },
     "metadata": {
      "needs_background": "light"
     },
     "output_type": "display_data"
    }
   ],
   "source": [
    "missingno.bar(inf_df.isna())"
   ]
  },
  {
   "cell_type": "code",
   "execution_count": 81,
   "id": "lined-governor",
   "metadata": {
    "ExecuteTime": {
     "end_time": "2021-03-03T02:22:08.739712Z",
     "start_time": "2021-03-03T02:22:08.721805Z"
    }
   },
   "outputs": [],
   "source": []
  },
  {
   "cell_type": "code",
   "execution_count": 69,
   "id": "worldwide-christian",
   "metadata": {
    "ExecuteTime": {
     "end_time": "2021-03-04T23:25:31.184994Z",
     "start_time": "2021-03-04T23:25:31.167830Z"
    }
   },
   "outputs": [],
   "source": [
    "def sanitize_names(string_list):\n",
    "    string_list = [strg.strip() for strg in string_list]\n",
    "    string_list = [re.sub('\\s','_', strg) for strg in string_list]\n",
    "    string_list = [re.sub('[^A-Za-z0-9]','_', strg) for strg in string_list]\n",
    "    string_list = [col.lower() for col in string_list]\n",
    "    return string_list"
   ]
  },
  {
   "cell_type": "code",
   "execution_count": 70,
   "id": "velvet-george",
   "metadata": {
    "ExecuteTime": {
     "end_time": "2021-03-04T23:25:33.858522Z",
     "start_time": "2021-03-04T23:25:33.851903Z"
    }
   },
   "outputs": [
    {
     "data": {
      "text/plain": [
       "(Index(['Name', 'Last Name', 'Gender', 'Age', 'Paypal', 'Type of Job',\n",
       "        'Weekly working hours', 'Income', 'Home country', 'Home town',\n",
       "        'Cap/Zip-Code', 'Timepass', 'Countries visited', 'Fave Sports',\n",
       "        'user_id'],\n",
       "       dtype='object'),\n",
       " ['name',\n",
       "  'last_name',\n",
       "  'gender',\n",
       "  'age',\n",
       "  'paypal',\n",
       "  'type_of_job',\n",
       "  'weekly_working_hours',\n",
       "  'income',\n",
       "  'home_country',\n",
       "  'home_town',\n",
       "  'cap_zip_code',\n",
       "  'timepass',\n",
       "  'countries_visited',\n",
       "  'fave_sports',\n",
       "  'user_id'])"
      ]
     },
     "execution_count": 70,
     "metadata": {},
     "output_type": "execute_result"
    }
   ],
   "source": [
    "inf_df.columns, sanitize_names(inf_df.columns)"
   ]
  },
  {
   "cell_type": "code",
   "execution_count": 71,
   "id": "sharing-progress",
   "metadata": {
    "ExecuteTime": {
     "end_time": "2021-03-04T23:25:39.270859Z",
     "start_time": "2021-03-04T23:25:39.257822Z"
    }
   },
   "outputs": [],
   "source": [
    "inf_df.columns = sanitize_names(inf_df.columns)"
   ]
  },
  {
   "cell_type": "code",
   "execution_count": 103,
   "id": "antique-material",
   "metadata": {
    "ExecuteTime": {
     "end_time": "2021-03-05T01:01:01.480393Z",
     "start_time": "2021-03-05T01:01:01.467360Z"
    }
   },
   "outputs": [],
   "source": [
    "inf_df.to_csv(\"data/processed/inf.csv\",index=False)"
   ]
  },
  {
   "cell_type": "markdown",
   "id": "cathedral-banking",
   "metadata": {},
   "source": [
    "# Collate preference information"
   ]
  },
  {
   "cell_type": "code",
   "execution_count": 11,
   "id": "solved-practice",
   "metadata": {
    "ExecuteTime": {
     "end_time": "2021-03-04T21:36:51.285439Z",
     "start_time": "2021-03-04T21:36:51.264476Z"
    }
   },
   "outputs": [
    {
     "data": {
      "text/plain": [
       "['data/raw\\\\ADS16_Benchmark_part1\\\\Corpus\\\\Corpus\\\\U0001\\\\U0001-PREF.csv',\n",
       " 'data/raw\\\\ADS16_Benchmark_part1\\\\Corpus\\\\Corpus\\\\U0002\\\\U0002-PREF.csv',\n",
       " 'data/raw\\\\ADS16_Benchmark_part1\\\\Corpus\\\\Corpus\\\\U0003\\\\U0003-PREF.csv',\n",
       " 'data/raw\\\\ADS16_Benchmark_part1\\\\Corpus\\\\Corpus\\\\U0004\\\\U0004-PREF.csv',\n",
       " 'data/raw\\\\ADS16_Benchmark_part1\\\\Corpus\\\\Corpus\\\\U0005\\\\U0005-PREF.csv',\n",
       " 'data/raw\\\\ADS16_Benchmark_part1\\\\Corpus\\\\Corpus\\\\U0006\\\\U0006-PREF.csv',\n",
       " 'data/raw\\\\ADS16_Benchmark_part1\\\\Corpus\\\\Corpus\\\\U0007\\\\U0007-PREF.csv',\n",
       " 'data/raw\\\\ADS16_Benchmark_part1\\\\Corpus\\\\Corpus\\\\U0008\\\\U0008-PREF.csv',\n",
       " 'data/raw\\\\ADS16_Benchmark_part1\\\\Corpus\\\\Corpus\\\\U0009\\\\U0009-PREF.csv',\n",
       " 'data/raw\\\\ADS16_Benchmark_part1\\\\Corpus\\\\Corpus\\\\U0010\\\\U0010-PREF.csv',\n",
       " 'data/raw\\\\ADS16_Benchmark_part1\\\\Corpus\\\\Corpus\\\\U0011\\\\U0011-PREF.csv',\n",
       " 'data/raw\\\\ADS16_Benchmark_part1\\\\Corpus\\\\Corpus\\\\U0012\\\\U0012-PREF.csv',\n",
       " 'data/raw\\\\ADS16_Benchmark_part1\\\\Corpus\\\\Corpus\\\\U0013\\\\U0013-PREF.csv',\n",
       " 'data/raw\\\\ADS16_Benchmark_part1\\\\Corpus\\\\Corpus\\\\U0014\\\\U0014-PREF.csv',\n",
       " 'data/raw\\\\ADS16_Benchmark_part1\\\\Corpus\\\\Corpus\\\\U0015\\\\U0015-PREF.csv',\n",
       " 'data/raw\\\\ADS16_Benchmark_part1\\\\Corpus\\\\Corpus\\\\U0016\\\\U0016-PREF.csv',\n",
       " 'data/raw\\\\ADS16_Benchmark_part1\\\\Corpus\\\\Corpus\\\\U0017\\\\U0017-PREF.csv',\n",
       " 'data/raw\\\\ADS16_Benchmark_part1\\\\Corpus\\\\Corpus\\\\U0018\\\\U0018-PREF.csv',\n",
       " 'data/raw\\\\ADS16_Benchmark_part1\\\\Corpus\\\\Corpus\\\\U0019\\\\U0019-PREF.csv',\n",
       " 'data/raw\\\\ADS16_Benchmark_part1\\\\Corpus\\\\Corpus\\\\U0020\\\\U0020-PREF.csv',\n",
       " 'data/raw\\\\ADS16_Benchmark_part1\\\\Corpus\\\\Corpus\\\\U0021\\\\U0021-PREF.csv',\n",
       " 'data/raw\\\\ADS16_Benchmark_part1\\\\Corpus\\\\Corpus\\\\U0022\\\\U0022-PREF.csv',\n",
       " 'data/raw\\\\ADS16_Benchmark_part1\\\\Corpus\\\\Corpus\\\\U0023\\\\U0023-PREF.csv',\n",
       " 'data/raw\\\\ADS16_Benchmark_part1\\\\Corpus\\\\Corpus\\\\U0024\\\\U0024-PREF.csv',\n",
       " 'data/raw\\\\ADS16_Benchmark_part1\\\\Corpus\\\\Corpus\\\\U0025\\\\U0025-PREF.csv',\n",
       " 'data/raw\\\\ADS16_Benchmark_part1\\\\Corpus\\\\Corpus\\\\U0026\\\\U0026-PREF.csv',\n",
       " 'data/raw\\\\ADS16_Benchmark_part1\\\\Corpus\\\\Corpus\\\\U0027\\\\U0027-PREF.csv',\n",
       " 'data/raw\\\\ADS16_Benchmark_part1\\\\Corpus\\\\Corpus\\\\U0028\\\\U0028-PREF.csv',\n",
       " 'data/raw\\\\ADS16_Benchmark_part1\\\\Corpus\\\\Corpus\\\\U0029\\\\U0029-PREF.csv',\n",
       " 'data/raw\\\\ADS16_Benchmark_part1\\\\Corpus\\\\Corpus\\\\U0030\\\\U0030-PREF.csv',\n",
       " 'data/raw\\\\ADS16_Benchmark_part1\\\\Corpus\\\\Corpus\\\\U0031\\\\U0031-PREF.csv',\n",
       " 'data/raw\\\\ADS16_Benchmark_part1\\\\Corpus\\\\Corpus\\\\U0032\\\\U0032-PREF.csv',\n",
       " 'data/raw\\\\ADS16_Benchmark_part1\\\\Corpus\\\\Corpus\\\\U0033\\\\U0033-PREF.csv',\n",
       " 'data/raw\\\\ADS16_Benchmark_part1\\\\Corpus\\\\Corpus\\\\U0034\\\\U0034-PREF.csv',\n",
       " 'data/raw\\\\ADS16_Benchmark_part1\\\\Corpus\\\\Corpus\\\\U0035\\\\U0035-PREF.csv',\n",
       " 'data/raw\\\\ADS16_Benchmark_part1\\\\Corpus\\\\Corpus\\\\U0036\\\\U0036-PREF.csv',\n",
       " 'data/raw\\\\ADS16_Benchmark_part1\\\\Corpus\\\\Corpus\\\\U0037\\\\U0037-PREF.csv',\n",
       " 'data/raw\\\\ADS16_Benchmark_part1\\\\Corpus\\\\Corpus\\\\U0038\\\\U0038-PREF.csv',\n",
       " 'data/raw\\\\ADS16_Benchmark_part1\\\\Corpus\\\\Corpus\\\\U0039\\\\U0039-PREF.csv',\n",
       " 'data/raw\\\\ADS16_Benchmark_part1\\\\Corpus\\\\Corpus\\\\U0040\\\\U0040-PREF.csv',\n",
       " 'data/raw\\\\ADS16_Benchmark_part1\\\\Corpus\\\\Corpus\\\\U0041\\\\U0041-PREF.csv',\n",
       " 'data/raw\\\\ADS16_Benchmark_part1\\\\Corpus\\\\Corpus\\\\U0042\\\\U0042-PREF.csv',\n",
       " 'data/raw\\\\ADS16_Benchmark_part1\\\\Corpus\\\\Corpus\\\\U0043\\\\U0043-PREF.csv',\n",
       " 'data/raw\\\\ADS16_Benchmark_part1\\\\Corpus\\\\Corpus\\\\U0044\\\\U0044-PREF.csv',\n",
       " 'data/raw\\\\ADS16_Benchmark_part1\\\\Corpus\\\\Corpus\\\\U0045\\\\U0045-PREF.csv',\n",
       " 'data/raw\\\\ADS16_Benchmark_part1\\\\Corpus\\\\Corpus\\\\U0046\\\\U0046-PREF.csv',\n",
       " 'data/raw\\\\ADS16_Benchmark_part1\\\\Corpus\\\\Corpus\\\\U0047\\\\U0047-PREF.csv',\n",
       " 'data/raw\\\\ADS16_Benchmark_part1\\\\Corpus\\\\Corpus\\\\U0048\\\\U0048-PREF.csv',\n",
       " 'data/raw\\\\ADS16_Benchmark_part1\\\\Corpus\\\\Corpus\\\\U0049\\\\U0049-PREF.csv',\n",
       " 'data/raw\\\\ADS16_Benchmark_part1\\\\Corpus\\\\Corpus\\\\U0050\\\\U0050-PREF.csv',\n",
       " 'data/raw\\\\ADS16_Benchmark_part1\\\\Corpus\\\\Corpus\\\\U0051\\\\U0051-PREF.csv',\n",
       " 'data/raw\\\\ADS16_Benchmark_part1\\\\Corpus\\\\Corpus\\\\U0052\\\\U0052-PREF.csv',\n",
       " 'data/raw\\\\ADS16_Benchmark_part1\\\\Corpus\\\\Corpus\\\\U0053\\\\U0053-PREF.csv',\n",
       " 'data/raw\\\\ADS16_Benchmark_part1\\\\Corpus\\\\Corpus\\\\U0054\\\\U0054-PREF.csv',\n",
       " 'data/raw\\\\ADS16_Benchmark_part1\\\\Corpus\\\\Corpus\\\\U0055\\\\U0055-PREF.csv',\n",
       " 'data/raw\\\\ADS16_Benchmark_part1\\\\Corpus\\\\Corpus\\\\U0056\\\\U0056-PREF.csv',\n",
       " 'data/raw\\\\ADS16_Benchmark_part1\\\\Corpus\\\\Corpus\\\\U0057\\\\U0057-PREF.csv',\n",
       " 'data/raw\\\\ADS16_Benchmark_part1\\\\Corpus\\\\Corpus\\\\U0058\\\\U0058-PREF.csv',\n",
       " 'data/raw\\\\ADS16_Benchmark_part1\\\\Corpus\\\\Corpus\\\\U0059\\\\U0059-PREF.csv',\n",
       " 'data/raw\\\\ADS16_Benchmark_part1\\\\Corpus\\\\Corpus\\\\U0060\\\\U0060-PREF.csv',\n",
       " 'data/raw\\\\ADS16_Benchmark_part2\\\\Corpus\\\\Corpus\\\\U0061\\\\U0061-PREF.csv',\n",
       " 'data/raw\\\\ADS16_Benchmark_part2\\\\Corpus\\\\Corpus\\\\U0062\\\\U0062-PREF.csv',\n",
       " 'data/raw\\\\ADS16_Benchmark_part2\\\\Corpus\\\\Corpus\\\\U0063\\\\U0063-PREF.csv',\n",
       " 'data/raw\\\\ADS16_Benchmark_part2\\\\Corpus\\\\Corpus\\\\U0064\\\\U0064-PREF.csv',\n",
       " 'data/raw\\\\ADS16_Benchmark_part2\\\\Corpus\\\\Corpus\\\\U0065\\\\U0065-PREF.csv',\n",
       " 'data/raw\\\\ADS16_Benchmark_part2\\\\Corpus\\\\Corpus\\\\U0066\\\\U0066-PREF.csv',\n",
       " 'data/raw\\\\ADS16_Benchmark_part2\\\\Corpus\\\\Corpus\\\\U0067\\\\U0067-PREF.csv',\n",
       " 'data/raw\\\\ADS16_Benchmark_part2\\\\Corpus\\\\Corpus\\\\U0068\\\\U0068-PREF.csv',\n",
       " 'data/raw\\\\ADS16_Benchmark_part2\\\\Corpus\\\\Corpus\\\\U0069\\\\U0069-PREF.csv',\n",
       " 'data/raw\\\\ADS16_Benchmark_part2\\\\Corpus\\\\Corpus\\\\U0070\\\\U0070-PREF.csv',\n",
       " 'data/raw\\\\ADS16_Benchmark_part2\\\\Corpus\\\\Corpus\\\\U0071\\\\U0071-PREF.csv',\n",
       " 'data/raw\\\\ADS16_Benchmark_part2\\\\Corpus\\\\Corpus\\\\U0072\\\\U0072-PREF.csv',\n",
       " 'data/raw\\\\ADS16_Benchmark_part2\\\\Corpus\\\\Corpus\\\\U0073\\\\U0073-PREF.csv',\n",
       " 'data/raw\\\\ADS16_Benchmark_part2\\\\Corpus\\\\Corpus\\\\U0074\\\\U0074-PREF.csv',\n",
       " 'data/raw\\\\ADS16_Benchmark_part2\\\\Corpus\\\\Corpus\\\\U0075\\\\U0075-PREF.csv',\n",
       " 'data/raw\\\\ADS16_Benchmark_part2\\\\Corpus\\\\Corpus\\\\U0076\\\\U0076-PREF.csv',\n",
       " 'data/raw\\\\ADS16_Benchmark_part2\\\\Corpus\\\\Corpus\\\\U0077\\\\U0077-PREF.csv',\n",
       " 'data/raw\\\\ADS16_Benchmark_part2\\\\Corpus\\\\Corpus\\\\U0078\\\\U0078-PREF.csv',\n",
       " 'data/raw\\\\ADS16_Benchmark_part2\\\\Corpus\\\\Corpus\\\\U0079\\\\U0079-PREF.csv',\n",
       " 'data/raw\\\\ADS16_Benchmark_part2\\\\Corpus\\\\Corpus\\\\U0080\\\\U0080-PREF.csv',\n",
       " 'data/raw\\\\ADS16_Benchmark_part2\\\\Corpus\\\\Corpus\\\\U0081\\\\U0081-PREF.csv',\n",
       " 'data/raw\\\\ADS16_Benchmark_part2\\\\Corpus\\\\Corpus\\\\U0082\\\\U0082-PREF.csv',\n",
       " 'data/raw\\\\ADS16_Benchmark_part2\\\\Corpus\\\\Corpus\\\\U0083\\\\U0083-PREF.csv',\n",
       " 'data/raw\\\\ADS16_Benchmark_part2\\\\Corpus\\\\Corpus\\\\U0084\\\\U0084-PREF.csv',\n",
       " 'data/raw\\\\ADS16_Benchmark_part2\\\\Corpus\\\\Corpus\\\\U0085\\\\U0085-PREF.csv',\n",
       " 'data/raw\\\\ADS16_Benchmark_part2\\\\Corpus\\\\Corpus\\\\U0086\\\\U0086-PREF.csv',\n",
       " 'data/raw\\\\ADS16_Benchmark_part2\\\\Corpus\\\\Corpus\\\\U0087\\\\U0087-PREF.csv',\n",
       " 'data/raw\\\\ADS16_Benchmark_part2\\\\Corpus\\\\Corpus\\\\U0088\\\\U0088-PREF.csv',\n",
       " 'data/raw\\\\ADS16_Benchmark_part2\\\\Corpus\\\\Corpus\\\\U0089\\\\U0089-PREF.csv',\n",
       " 'data/raw\\\\ADS16_Benchmark_part2\\\\Corpus\\\\Corpus\\\\U0090\\\\U0090-PREF.csv',\n",
       " 'data/raw\\\\ADS16_Benchmark_part2\\\\Corpus\\\\Corpus\\\\U0091\\\\U0091-PREF.csv',\n",
       " 'data/raw\\\\ADS16_Benchmark_part2\\\\Corpus\\\\Corpus\\\\U0092\\\\U0092-PREF.csv',\n",
       " 'data/raw\\\\ADS16_Benchmark_part2\\\\Corpus\\\\Corpus\\\\U0093\\\\U0093-PREF.csv',\n",
       " 'data/raw\\\\ADS16_Benchmark_part2\\\\Corpus\\\\Corpus\\\\U0094\\\\U0094-PREF.csv',\n",
       " 'data/raw\\\\ADS16_Benchmark_part2\\\\Corpus\\\\Corpus\\\\U0095\\\\U0095-PREF.csv',\n",
       " 'data/raw\\\\ADS16_Benchmark_part2\\\\Corpus\\\\Corpus\\\\U0096\\\\U0096-PREF.csv',\n",
       " 'data/raw\\\\ADS16_Benchmark_part2\\\\Corpus\\\\Corpus\\\\U0097\\\\U0097-PREF.csv',\n",
       " 'data/raw\\\\ADS16_Benchmark_part2\\\\Corpus\\\\Corpus\\\\U0098\\\\U0098-PREF.csv',\n",
       " 'data/raw\\\\ADS16_Benchmark_part2\\\\Corpus\\\\Corpus\\\\U0099\\\\U0099-PREF.csv',\n",
       " 'data/raw\\\\ADS16_Benchmark_part2\\\\Corpus\\\\Corpus\\\\U0100\\\\U0100-PREF.csv',\n",
       " 'data/raw\\\\ADS16_Benchmark_part2\\\\Corpus\\\\Corpus\\\\U0101\\\\U0101-PREF.csv',\n",
       " 'data/raw\\\\ADS16_Benchmark_part2\\\\Corpus\\\\Corpus\\\\U0102\\\\U0102-PREF.csv',\n",
       " 'data/raw\\\\ADS16_Benchmark_part2\\\\Corpus\\\\Corpus\\\\U0103\\\\U0103-PREF.csv',\n",
       " 'data/raw\\\\ADS16_Benchmark_part2\\\\Corpus\\\\Corpus\\\\U0104\\\\U0104-PREF.csv',\n",
       " 'data/raw\\\\ADS16_Benchmark_part2\\\\Corpus\\\\Corpus\\\\U0105\\\\U0105-PREF.csv',\n",
       " 'data/raw\\\\ADS16_Benchmark_part2\\\\Corpus\\\\Corpus\\\\U0106\\\\U0106-PREF.csv',\n",
       " 'data/raw\\\\ADS16_Benchmark_part2\\\\Corpus\\\\Corpus\\\\U0107\\\\U0107-PREF.csv',\n",
       " 'data/raw\\\\ADS16_Benchmark_part2\\\\Corpus\\\\Corpus\\\\U0108\\\\U0108-PREF.csv',\n",
       " 'data/raw\\\\ADS16_Benchmark_part2\\\\Corpus\\\\Corpus\\\\U0109\\\\U0109-PREF.csv',\n",
       " 'data/raw\\\\ADS16_Benchmark_part2\\\\Corpus\\\\Corpus\\\\U0110\\\\U0110-PREF.csv',\n",
       " 'data/raw\\\\ADS16_Benchmark_part2\\\\Corpus\\\\Corpus\\\\U0111\\\\U0111-PREF.csv',\n",
       " 'data/raw\\\\ADS16_Benchmark_part2\\\\Corpus\\\\Corpus\\\\U0112\\\\U0112-PREF.csv',\n",
       " 'data/raw\\\\ADS16_Benchmark_part2\\\\Corpus\\\\Corpus\\\\U0113\\\\U0113-PREF.csv',\n",
       " 'data/raw\\\\ADS16_Benchmark_part2\\\\Corpus\\\\Corpus\\\\U0114\\\\U0114-PREF.csv',\n",
       " 'data/raw\\\\ADS16_Benchmark_part2\\\\Corpus\\\\Corpus\\\\U0115\\\\U0115-PREF.csv',\n",
       " 'data/raw\\\\ADS16_Benchmark_part2\\\\Corpus\\\\Corpus\\\\U0116\\\\U0116-PREF.csv',\n",
       " 'data/raw\\\\ADS16_Benchmark_part2\\\\Corpus\\\\Corpus\\\\U0117\\\\U0117-PREF.csv',\n",
       " 'data/raw\\\\ADS16_Benchmark_part2\\\\Corpus\\\\Corpus\\\\U0118\\\\U0118-PREF.csv',\n",
       " 'data/raw\\\\ADS16_Benchmark_part2\\\\Corpus\\\\Corpus\\\\U0119\\\\U0119-PREF.csv',\n",
       " 'data/raw\\\\ADS16_Benchmark_part2\\\\Corpus\\\\Corpus\\\\U0120\\\\U0120-PREF.csv']"
      ]
     },
     "execution_count": 11,
     "metadata": {},
     "output_type": "execute_result"
    }
   ],
   "source": [
    "pref_files = glob.glob(\"data/raw/ADS16_Benchmark_part?/Corpus/Corpus/U*/U*-PREF.csv\")\n",
    "pref_files"
   ]
  },
  {
   "cell_type": "code",
   "execution_count": 15,
   "id": "strategic-software",
   "metadata": {
    "ExecuteTime": {
     "end_time": "2021-03-04T21:37:27.862942Z",
     "start_time": "2021-03-04T21:37:27.858942Z"
    }
   },
   "outputs": [],
   "source": [
    "def collate(filepaths):\n",
    "    df_list = [read_file_add_id(filepath) for filepath in filepaths]\n",
    "    df_list = pd.concat(df_list)\n",
    "    df_list.columns = sanitize_names(df_list.columns)\n",
    "    df_list = df_list.reset_index(drop=True)\n",
    "    return df_list"
   ]
  },
  {
   "cell_type": "code",
   "execution_count": 16,
   "id": "distributed-thinking",
   "metadata": {
    "ExecuteTime": {
     "end_time": "2021-03-04T21:37:29.115034Z",
     "start_time": "2021-03-04T21:37:28.891030Z"
    }
   },
   "outputs": [],
   "source": [
    "pref_df = collate(pref_files)"
   ]
  },
  {
   "cell_type": "code",
   "execution_count": 17,
   "id": "authentic-paper",
   "metadata": {
    "ExecuteTime": {
     "end_time": "2021-03-04T21:37:29.477266Z",
     "start_time": "2021-03-04T21:37:29.456291Z"
    }
   },
   "outputs": [
    {
     "data": {
      "text/html": [
       "<div>\n",
       "<style scoped>\n",
       "    .dataframe tbody tr th:only-of-type {\n",
       "        vertical-align: middle;\n",
       "    }\n",
       "\n",
       "    .dataframe tbody tr th {\n",
       "        vertical-align: top;\n",
       "    }\n",
       "\n",
       "    .dataframe thead th {\n",
       "        text-align: right;\n",
       "    }\n",
       "</style>\n",
       "<table border=\"1\" class=\"dataframe\">\n",
       "  <thead>\n",
       "    <tr style=\"text-align: right;\">\n",
       "      <th></th>\n",
       "      <th>Most_visited_websites</th>\n",
       "      <th>Most_listened_musics</th>\n",
       "      <th>Most_watched_movies</th>\n",
       "      <th>Most_watched_tv_programmes</th>\n",
       "      <th>Most_read_books</th>\n",
       "      <th>user_id</th>\n",
       "    </tr>\n",
       "  </thead>\n",
       "  <tbody>\n",
       "    <tr>\n",
       "      <th>0</th>\n",
       "      <td>Media (Books, DVD, CD/DVD Music) sites, Grocer...</td>\n",
       "      <td>Classical Music, Easy Listening, Jazz</td>\n",
       "      <td>Action, Thriller, Drama, Comedy, Mystery</td>\n",
       "      <td>Comedy, Drama</td>\n",
       "      <td>Mystery</td>\n",
       "      <td>U0001</td>\n",
       "    </tr>\n",
       "    <tr>\n",
       "      <th>1</th>\n",
       "      <td>Toys &amp;amp; games sites, Console &amp;amp; video ga...</td>\n",
       "      <td>Dance Music, Electronic Music, Indie Pop, Pop ...</td>\n",
       "      <td>Drama</td>\n",
       "      <td>Drama</td>\n",
       "      <td>Romance, Mystery, Science fiction, Science</td>\n",
       "      <td>U0002</td>\n",
       "    </tr>\n",
       "    <tr>\n",
       "      <th>2</th>\n",
       "      <td>Sports &amp;amp; outdoor sites, Media (Books, DVD,...</td>\n",
       "      <td>Hip Hop - Rap, Dance Music, Electronic Music, ...</td>\n",
       "      <td>Comedy, Documentary</td>\n",
       "      <td>Sport, News</td>\n",
       "      <td>Biographies</td>\n",
       "      <td>U0003</td>\n",
       "    </tr>\n",
       "    <tr>\n",
       "      <th>3</th>\n",
       "      <td>Stationery &amp;amp; office supplies sites, Clothi...</td>\n",
       "      <td>Alternative Music, Pop (Popular music), Rock</td>\n",
       "      <td>Comedy, Action, Drama, Animation, Musical, Fam...</td>\n",
       "      <td>Comedy, Drama</td>\n",
       "      <td>Science fiction, Satire, Trilogies, Series</td>\n",
       "      <td>U0004</td>\n",
       "    </tr>\n",
       "    <tr>\n",
       "      <th>4</th>\n",
       "      <td>Consumer electronics sites, Clothing &amp;amp; sho...</td>\n",
       "      <td>Electronic Music, Asian Pop (J-Pop or K-pop), ...</td>\n",
       "      <td>Sci-Fi, Adventure, Thriller, Action, Crime and...</td>\n",
       "      <td>Learning, Weather</td>\n",
       "      <td>Science fiction, Action and Adventure, Mystery...</td>\n",
       "      <td>U0005</td>\n",
       "    </tr>\n",
       "    <tr>\n",
       "      <th>...</th>\n",
       "      <td>...</td>\n",
       "      <td>...</td>\n",
       "      <td>...</td>\n",
       "      <td>...</td>\n",
       "      <td>...</td>\n",
       "      <td>...</td>\n",
       "    </tr>\n",
       "    <tr>\n",
       "      <th>115</th>\n",
       "      <td>Clothing &amp;amp; shoes sites, Baby products site...</td>\n",
       "      <td>Alternative Music, Pop (Popular music)</td>\n",
       "      <td>Drama, Comedy, Family</td>\n",
       "      <td>Drama, Children's</td>\n",
       "      <td>Series, Romance, Fantasy, Trilogies</td>\n",
       "      <td>U0116</td>\n",
       "    </tr>\n",
       "    <tr>\n",
       "      <th>116</th>\n",
       "      <td>Health &amp;amp; Beauty sites, Home stuffs sites, ...</td>\n",
       "      <td>Hip Hop - Rap, R&amp;amp;B - Soul, Pop (Popular mu...</td>\n",
       "      <td>Drama, Comedy, Crime and Gangster</td>\n",
       "      <td>Comedy, Drama, Entertainment (Variety Shows), ...</td>\n",
       "      <td>Drama, Romance, Mystery</td>\n",
       "      <td>U0117</td>\n",
       "    </tr>\n",
       "    <tr>\n",
       "      <th>117</th>\n",
       "      <td>Media (Books, DVD, CD/DVD Music) sites, Health...</td>\n",
       "      <td>Electronic Music, Hip Hop - Rap, Asian Pop (J-...</td>\n",
       "      <td>Action, Thriller, Comedy, Crime and Gangster, ...</td>\n",
       "      <td>Comedy, Drama, Entertainment (Variety Shows)</td>\n",
       "      <td>Drama, Action and Adventure, Romance, Mystery,...</td>\n",
       "      <td>U0118</td>\n",
       "    </tr>\n",
       "    <tr>\n",
       "      <th>118</th>\n",
       "      <td>Clothing &amp;amp; shoes sites, Health &amp;amp; Beaut...</td>\n",
       "      <td>New Age, Jazz</td>\n",
       "      <td>Comedy, Drama, Documentary</td>\n",
       "      <td>Comedy, Drama</td>\n",
       "      <td>Satire, Romance, Biographies</td>\n",
       "      <td>U0119</td>\n",
       "    </tr>\n",
       "    <tr>\n",
       "      <th>119</th>\n",
       "      <td>Consumer electronics sites</td>\n",
       "      <td>Indie Pop</td>\n",
       "      <td>Action</td>\n",
       "      <td>Sport</td>\n",
       "      <td>Self help</td>\n",
       "      <td>U0120</td>\n",
       "    </tr>\n",
       "  </tbody>\n",
       "</table>\n",
       "<p>120 rows × 6 columns</p>\n",
       "</div>"
      ],
      "text/plain": [
       "                                 Most_visited_websites  \\\n",
       "0    Media (Books, DVD, CD/DVD Music) sites, Grocer...   \n",
       "1    Toys &amp; games sites, Console &amp; video ga...   \n",
       "2    Sports &amp; outdoor sites, Media (Books, DVD,...   \n",
       "3    Stationery &amp; office supplies sites, Clothi...   \n",
       "4    Consumer electronics sites, Clothing &amp; sho...   \n",
       "..                                                 ...   \n",
       "115  Clothing &amp; shoes sites, Baby products site...   \n",
       "116  Health &amp; Beauty sites, Home stuffs sites, ...   \n",
       "117  Media (Books, DVD, CD/DVD Music) sites, Health...   \n",
       "118  Clothing &amp; shoes sites, Health &amp; Beaut...   \n",
       "119                         Consumer electronics sites   \n",
       "\n",
       "                                  Most_listened_musics  \\\n",
       "0                Classical Music, Easy Listening, Jazz   \n",
       "1    Dance Music, Electronic Music, Indie Pop, Pop ...   \n",
       "2    Hip Hop - Rap, Dance Music, Electronic Music, ...   \n",
       "3         Alternative Music, Pop (Popular music), Rock   \n",
       "4    Electronic Music, Asian Pop (J-Pop or K-pop), ...   \n",
       "..                                                 ...   \n",
       "115             Alternative Music, Pop (Popular music)   \n",
       "116  Hip Hop - Rap, R&amp;B - Soul, Pop (Popular mu...   \n",
       "117  Electronic Music, Hip Hop - Rap, Asian Pop (J-...   \n",
       "118                                      New Age, Jazz   \n",
       "119                                          Indie Pop   \n",
       "\n",
       "                                   Most_watched_movies  \\\n",
       "0             Action, Thriller, Drama, Comedy, Mystery   \n",
       "1                                                Drama   \n",
       "2                                  Comedy, Documentary   \n",
       "3    Comedy, Action, Drama, Animation, Musical, Fam...   \n",
       "4    Sci-Fi, Adventure, Thriller, Action, Crime and...   \n",
       "..                                                 ...   \n",
       "115                              Drama, Comedy, Family   \n",
       "116                  Drama, Comedy, Crime and Gangster   \n",
       "117  Action, Thriller, Comedy, Crime and Gangster, ...   \n",
       "118                         Comedy, Drama, Documentary   \n",
       "119                                             Action   \n",
       "\n",
       "                            Most_watched_tv_programmes  \\\n",
       "0                                        Comedy, Drama   \n",
       "1                                                Drama   \n",
       "2                                          Sport, News   \n",
       "3                                        Comedy, Drama   \n",
       "4                                    Learning, Weather   \n",
       "..                                                 ...   \n",
       "115                                  Drama, Children's   \n",
       "116  Comedy, Drama, Entertainment (Variety Shows), ...   \n",
       "117       Comedy, Drama, Entertainment (Variety Shows)   \n",
       "118                                      Comedy, Drama   \n",
       "119                                              Sport   \n",
       "\n",
       "                                       Most_read_books user_id  \n",
       "0                                              Mystery   U0001  \n",
       "1           Romance, Mystery, Science fiction, Science   U0002  \n",
       "2                                          Biographies   U0003  \n",
       "3           Science fiction, Satire, Trilogies, Series   U0004  \n",
       "4    Science fiction, Action and Adventure, Mystery...   U0005  \n",
       "..                                                 ...     ...  \n",
       "115                Series, Romance, Fantasy, Trilogies   U0116  \n",
       "116                            Drama, Romance, Mystery   U0117  \n",
       "117  Drama, Action and Adventure, Romance, Mystery,...   U0118  \n",
       "118                       Satire, Romance, Biographies   U0119  \n",
       "119                                          Self help   U0120  \n",
       "\n",
       "[120 rows x 6 columns]"
      ]
     },
     "execution_count": 17,
     "metadata": {},
     "output_type": "execute_result"
    }
   ],
   "source": [
    "pref_df"
   ]
  },
  {
   "cell_type": "code",
   "execution_count": 97,
   "id": "collect-warner",
   "metadata": {
    "ExecuteTime": {
     "end_time": "2021-03-03T03:13:25.469282Z",
     "start_time": "2021-03-03T03:13:25.452255Z"
    }
   },
   "outputs": [
    {
     "data": {
      "text/plain": [
       "'Media (Books, DVD, CD/DVD Music) sites, Grocery &amp; beverages sites, Pet supplies sites'"
      ]
     },
     "execution_count": 97,
     "metadata": {},
     "output_type": "execute_result"
    }
   ],
   "source": [
    "pref_df[\"Most_visited_websites\"][0]"
   ]
  },
  {
   "cell_type": "markdown",
   "id": "surprised-formula",
   "metadata": {},
   "source": [
    "# Splitting each column value into lists of entities"
   ]
  },
  {
   "cell_type": "markdown",
   "id": "occupational-plate",
   "metadata": {},
   "source": [
    "https://stackoverflow.com/questions/49020531/regex-to-match-only-commas-not-in-parentheses-or-square-brackets"
   ]
  },
  {
   "cell_type": "code",
   "execution_count": 22,
   "id": "center-poker",
   "metadata": {
    "ExecuteTime": {
     "end_time": "2021-03-04T21:55:52.025523Z",
     "start_time": "2021-03-04T21:55:52.013554Z"
    }
   },
   "outputs": [
    {
     "data": {
      "text/plain": [
       "['Media (Books, DVD, CD/DVD Music) sites',\n",
       " ' Grocery &amp; beverages sites',\n",
       " ' Pet supplies sites']"
      ]
     },
     "execution_count": 22,
     "metadata": {},
     "output_type": "execute_result"
    }
   ],
   "source": [
    "re.split(\"(?!<(?:\\(|\\[)[^)\\]]+),(?![^(\\[]+(?:\\)|\\]))\",pref_df[\"Most_visited_websites\"][0])"
   ]
  },
  {
   "cell_type": "code",
   "execution_count": 23,
   "id": "maritime-narrow",
   "metadata": {
    "ExecuteTime": {
     "end_time": "2021-03-04T21:56:10.350863Z",
     "start_time": "2021-03-04T21:56:10.333877Z"
    }
   },
   "outputs": [],
   "source": [
    "def split_categories(string):\n",
    "    # Pattern to match the commas outside of brackets\n",
    "    pattern = \"(?!<(?:\\(|\\[)[^)\\]]+),(?![^(\\[]+(?:\\)|\\]))\"\n",
    "    result_set = re.split(pattern, string)\n",
    "    return result_set\n",
    "    "
   ]
  },
  {
   "cell_type": "code",
   "execution_count": 24,
   "id": "theoretical-doubt",
   "metadata": {
    "ExecuteTime": {
     "end_time": "2021-03-04T21:56:48.842447Z",
     "start_time": "2021-03-04T21:56:48.834447Z"
    }
   },
   "outputs": [
    {
     "data": {
      "text/plain": [
       "0      [Media (Books, DVD, CD/DVD Music) sites,  Groc...\n",
       "1      [Toys &amp; games sites,  Console &amp; video ...\n",
       "2      [Sports &amp; outdoor sites,  Media (Books, DV...\n",
       "3      [Stationery &amp; office supplies sites,  Clot...\n",
       "4      [Consumer electronics sites,  Clothing &amp; s...\n",
       "                             ...                        \n",
       "115    [Clothing &amp; shoes sites,  Baby products si...\n",
       "116    [Health &amp; Beauty sites,  Home stuffs sites...\n",
       "117    [Media (Books, DVD, CD/DVD Music) sites,  Heal...\n",
       "118    [Clothing &amp; shoes sites,  Health &amp; Bea...\n",
       "119                         [Consumer electronics sites]\n",
       "Name: Most_visited_websites, Length: 120, dtype: object"
      ]
     },
     "execution_count": 24,
     "metadata": {},
     "output_type": "execute_result"
    }
   ],
   "source": [
    "pref_df[\"Most_visited_websites\"].apply(split_categories) "
   ]
  },
  {
   "cell_type": "code",
   "execution_count": 25,
   "id": "friendly-comparative",
   "metadata": {
    "ExecuteTime": {
     "end_time": "2021-03-04T22:01:44.025496Z",
     "start_time": "2021-03-04T22:01:44.005529Z"
    }
   },
   "outputs": [],
   "source": [
    "pref_df[\"Most_visited_websites\"] = pref_df[\"Most_visited_websites\"].apply(split_categories) \n",
    "pref_df[\"Most_listened_musics\"] = pref_df[\"Most_listened_musics\"].apply(split_categories)\n",
    "pref_df[\"Most_watched_movies\"] = pref_df[\"Most_watched_movies\"].apply(split_categories)\n",
    "pref_df[\"Most_watched_tv_programmes\"] = pref_df[\"Most_watched_tv_programmes\"].apply(split_categories)\n",
    "pref_df[\"Most_read_books\"] = pref_df[\"Most_read_books\"].apply(split_categories)\n"
   ]
  },
  {
   "cell_type": "code",
   "execution_count": 26,
   "id": "packed-stuart",
   "metadata": {
    "ExecuteTime": {
     "end_time": "2021-03-04T22:01:49.236917Z",
     "start_time": "2021-03-04T22:01:49.204915Z"
    }
   },
   "outputs": [
    {
     "data": {
      "text/html": [
       "<div>\n",
       "<style scoped>\n",
       "    .dataframe tbody tr th:only-of-type {\n",
       "        vertical-align: middle;\n",
       "    }\n",
       "\n",
       "    .dataframe tbody tr th {\n",
       "        vertical-align: top;\n",
       "    }\n",
       "\n",
       "    .dataframe thead th {\n",
       "        text-align: right;\n",
       "    }\n",
       "</style>\n",
       "<table border=\"1\" class=\"dataframe\">\n",
       "  <thead>\n",
       "    <tr style=\"text-align: right;\">\n",
       "      <th></th>\n",
       "      <th>Most_visited_websites</th>\n",
       "      <th>Most_listened_musics</th>\n",
       "      <th>Most_watched_movies</th>\n",
       "      <th>Most_watched_tv_programmes</th>\n",
       "      <th>Most_read_books</th>\n",
       "      <th>user_id</th>\n",
       "    </tr>\n",
       "  </thead>\n",
       "  <tbody>\n",
       "    <tr>\n",
       "      <th>0</th>\n",
       "      <td>[Media (Books, DVD, CD/DVD Music) sites,  Groc...</td>\n",
       "      <td>[Classical Music,  Easy Listening,  Jazz]</td>\n",
       "      <td>[Action,  Thriller,  Drama,  Comedy,  Mystery]</td>\n",
       "      <td>[Comedy,  Drama]</td>\n",
       "      <td>[Mystery]</td>\n",
       "      <td>U0001</td>\n",
       "    </tr>\n",
       "    <tr>\n",
       "      <th>1</th>\n",
       "      <td>[Toys &amp;amp; games sites,  Console &amp;amp; video ...</td>\n",
       "      <td>[Dance Music,  Electronic Music,  Indie Pop,  ...</td>\n",
       "      <td>[Drama]</td>\n",
       "      <td>[Drama]</td>\n",
       "      <td>[Romance,  Mystery,  Science fiction,  Science]</td>\n",
       "      <td>U0002</td>\n",
       "    </tr>\n",
       "    <tr>\n",
       "      <th>2</th>\n",
       "      <td>[Sports &amp;amp; outdoor sites,  Media (Books, DV...</td>\n",
       "      <td>[Hip Hop - Rap,  Dance Music,  Electronic Musi...</td>\n",
       "      <td>[Comedy,  Documentary]</td>\n",
       "      <td>[Sport,  News]</td>\n",
       "      <td>[Biographies]</td>\n",
       "      <td>U0003</td>\n",
       "    </tr>\n",
       "    <tr>\n",
       "      <th>3</th>\n",
       "      <td>[Stationery &amp;amp; office supplies sites,  Clot...</td>\n",
       "      <td>[Alternative Music,  Pop (Popular music),  Rock]</td>\n",
       "      <td>[Comedy,  Action,  Drama,  Animation,  Musical...</td>\n",
       "      <td>[Comedy,  Drama]</td>\n",
       "      <td>[Science fiction,  Satire,  Trilogies,  Series]</td>\n",
       "      <td>U0004</td>\n",
       "    </tr>\n",
       "    <tr>\n",
       "      <th>4</th>\n",
       "      <td>[Consumer electronics sites,  Clothing &amp;amp; s...</td>\n",
       "      <td>[Electronic Music,  Asian Pop (J-Pop or K-pop)...</td>\n",
       "      <td>[Sci-Fi,  Adventure,  Thriller,  Action,  Crim...</td>\n",
       "      <td>[Learning,  Weather]</td>\n",
       "      <td>[Science fiction,  Action and Adventure,  Myst...</td>\n",
       "      <td>U0005</td>\n",
       "    </tr>\n",
       "    <tr>\n",
       "      <th>...</th>\n",
       "      <td>...</td>\n",
       "      <td>...</td>\n",
       "      <td>...</td>\n",
       "      <td>...</td>\n",
       "      <td>...</td>\n",
       "      <td>...</td>\n",
       "    </tr>\n",
       "    <tr>\n",
       "      <th>115</th>\n",
       "      <td>[Clothing &amp;amp; shoes sites,  Baby products si...</td>\n",
       "      <td>[Alternative Music,  Pop (Popular music)]</td>\n",
       "      <td>[Drama,  Comedy,  Family]</td>\n",
       "      <td>[Drama,  Children's]</td>\n",
       "      <td>[Series,  Romance,  Fantasy,  Trilogies]</td>\n",
       "      <td>U0116</td>\n",
       "    </tr>\n",
       "    <tr>\n",
       "      <th>116</th>\n",
       "      <td>[Health &amp;amp; Beauty sites,  Home stuffs sites...</td>\n",
       "      <td>[Hip Hop - Rap,  R&amp;amp;B - Soul,  Pop (Popular...</td>\n",
       "      <td>[Drama,  Comedy,  Crime and Gangster]</td>\n",
       "      <td>[Comedy,  Drama,  Entertainment (Variety Shows...</td>\n",
       "      <td>[Drama,  Romance,  Mystery]</td>\n",
       "      <td>U0117</td>\n",
       "    </tr>\n",
       "    <tr>\n",
       "      <th>117</th>\n",
       "      <td>[Media (Books, DVD, CD/DVD Music) sites,  Heal...</td>\n",
       "      <td>[Electronic Music,  Hip Hop - Rap,  Asian Pop ...</td>\n",
       "      <td>[Action,  Thriller,  Comedy,  Crime and Gangst...</td>\n",
       "      <td>[Comedy,  Drama,  Entertainment (Variety Shows)]</td>\n",
       "      <td>[Drama,  Action and Adventure,  Romance,  Myst...</td>\n",
       "      <td>U0118</td>\n",
       "    </tr>\n",
       "    <tr>\n",
       "      <th>118</th>\n",
       "      <td>[Clothing &amp;amp; shoes sites,  Health &amp;amp; Bea...</td>\n",
       "      <td>[New Age,  Jazz]</td>\n",
       "      <td>[Comedy,  Drama,  Documentary]</td>\n",
       "      <td>[Comedy,  Drama]</td>\n",
       "      <td>[Satire,  Romance,  Biographies]</td>\n",
       "      <td>U0119</td>\n",
       "    </tr>\n",
       "    <tr>\n",
       "      <th>119</th>\n",
       "      <td>[Consumer electronics sites]</td>\n",
       "      <td>[Indie Pop]</td>\n",
       "      <td>[Action]</td>\n",
       "      <td>[Sport]</td>\n",
       "      <td>[Self help]</td>\n",
       "      <td>U0120</td>\n",
       "    </tr>\n",
       "  </tbody>\n",
       "</table>\n",
       "<p>120 rows × 6 columns</p>\n",
       "</div>"
      ],
      "text/plain": [
       "                                 Most_visited_websites  \\\n",
       "0    [Media (Books, DVD, CD/DVD Music) sites,  Groc...   \n",
       "1    [Toys &amp; games sites,  Console &amp; video ...   \n",
       "2    [Sports &amp; outdoor sites,  Media (Books, DV...   \n",
       "3    [Stationery &amp; office supplies sites,  Clot...   \n",
       "4    [Consumer electronics sites,  Clothing &amp; s...   \n",
       "..                                                 ...   \n",
       "115  [Clothing &amp; shoes sites,  Baby products si...   \n",
       "116  [Health &amp; Beauty sites,  Home stuffs sites...   \n",
       "117  [Media (Books, DVD, CD/DVD Music) sites,  Heal...   \n",
       "118  [Clothing &amp; shoes sites,  Health &amp; Bea...   \n",
       "119                       [Consumer electronics sites]   \n",
       "\n",
       "                                  Most_listened_musics  \\\n",
       "0            [Classical Music,  Easy Listening,  Jazz]   \n",
       "1    [Dance Music,  Electronic Music,  Indie Pop,  ...   \n",
       "2    [Hip Hop - Rap,  Dance Music,  Electronic Musi...   \n",
       "3     [Alternative Music,  Pop (Popular music),  Rock]   \n",
       "4    [Electronic Music,  Asian Pop (J-Pop or K-pop)...   \n",
       "..                                                 ...   \n",
       "115          [Alternative Music,  Pop (Popular music)]   \n",
       "116  [Hip Hop - Rap,  R&amp;B - Soul,  Pop (Popular...   \n",
       "117  [Electronic Music,  Hip Hop - Rap,  Asian Pop ...   \n",
       "118                                   [New Age,  Jazz]   \n",
       "119                                        [Indie Pop]   \n",
       "\n",
       "                                   Most_watched_movies  \\\n",
       "0       [Action,  Thriller,  Drama,  Comedy,  Mystery]   \n",
       "1                                              [Drama]   \n",
       "2                               [Comedy,  Documentary]   \n",
       "3    [Comedy,  Action,  Drama,  Animation,  Musical...   \n",
       "4    [Sci-Fi,  Adventure,  Thriller,  Action,  Crim...   \n",
       "..                                                 ...   \n",
       "115                          [Drama,  Comedy,  Family]   \n",
       "116              [Drama,  Comedy,  Crime and Gangster]   \n",
       "117  [Action,  Thriller,  Comedy,  Crime and Gangst...   \n",
       "118                     [Comedy,  Drama,  Documentary]   \n",
       "119                                           [Action]   \n",
       "\n",
       "                            Most_watched_tv_programmes  \\\n",
       "0                                     [Comedy,  Drama]   \n",
       "1                                              [Drama]   \n",
       "2                                       [Sport,  News]   \n",
       "3                                     [Comedy,  Drama]   \n",
       "4                                 [Learning,  Weather]   \n",
       "..                                                 ...   \n",
       "115                               [Drama,  Children's]   \n",
       "116  [Comedy,  Drama,  Entertainment (Variety Shows...   \n",
       "117   [Comedy,  Drama,  Entertainment (Variety Shows)]   \n",
       "118                                   [Comedy,  Drama]   \n",
       "119                                            [Sport]   \n",
       "\n",
       "                                       Most_read_books user_id  \n",
       "0                                            [Mystery]   U0001  \n",
       "1      [Romance,  Mystery,  Science fiction,  Science]   U0002  \n",
       "2                                        [Biographies]   U0003  \n",
       "3      [Science fiction,  Satire,  Trilogies,  Series]   U0004  \n",
       "4    [Science fiction,  Action and Adventure,  Myst...   U0005  \n",
       "..                                                 ...     ...  \n",
       "115           [Series,  Romance,  Fantasy,  Trilogies]   U0116  \n",
       "116                        [Drama,  Romance,  Mystery]   U0117  \n",
       "117  [Drama,  Action and Adventure,  Romance,  Myst...   U0118  \n",
       "118                   [Satire,  Romance,  Biographies]   U0119  \n",
       "119                                        [Self help]   U0120  \n",
       "\n",
       "[120 rows x 6 columns]"
      ]
     },
     "execution_count": 26,
     "metadata": {},
     "output_type": "execute_result"
    }
   ],
   "source": [
    "pref_df"
   ]
  },
  {
   "cell_type": "code",
   "execution_count": 27,
   "id": "arbitrary-contrast",
   "metadata": {
    "ExecuteTime": {
     "end_time": "2021-03-04T22:06:05.951577Z",
     "start_time": "2021-03-04T22:06:05.941540Z"
    }
   },
   "outputs": [],
   "source": [
    "newdf = pref_df.copy()"
   ]
  },
  {
   "cell_type": "code",
   "execution_count": 28,
   "id": "obvious-living",
   "metadata": {
    "ExecuteTime": {
     "end_time": "2021-03-04T22:06:32.229526Z",
     "start_time": "2021-03-04T22:06:32.215516Z"
    }
   },
   "outputs": [],
   "source": [
    "newdf = newdf[[\"user_id\",\"Most_visited_websites\"]]"
   ]
  },
  {
   "cell_type": "code",
   "execution_count": 29,
   "id": "meaningful-brunswick",
   "metadata": {
    "ExecuteTime": {
     "end_time": "2021-03-04T22:06:35.294025Z",
     "start_time": "2021-03-04T22:06:35.278023Z"
    }
   },
   "outputs": [
    {
     "data": {
      "text/html": [
       "<div>\n",
       "<style scoped>\n",
       "    .dataframe tbody tr th:only-of-type {\n",
       "        vertical-align: middle;\n",
       "    }\n",
       "\n",
       "    .dataframe tbody tr th {\n",
       "        vertical-align: top;\n",
       "    }\n",
       "\n",
       "    .dataframe thead th {\n",
       "        text-align: right;\n",
       "    }\n",
       "</style>\n",
       "<table border=\"1\" class=\"dataframe\">\n",
       "  <thead>\n",
       "    <tr style=\"text-align: right;\">\n",
       "      <th></th>\n",
       "      <th>user_id</th>\n",
       "      <th>Most_visited_websites</th>\n",
       "    </tr>\n",
       "  </thead>\n",
       "  <tbody>\n",
       "    <tr>\n",
       "      <th>0</th>\n",
       "      <td>U0001</td>\n",
       "      <td>[Media (Books, DVD, CD/DVD Music) sites,  Groc...</td>\n",
       "    </tr>\n",
       "    <tr>\n",
       "      <th>1</th>\n",
       "      <td>U0002</td>\n",
       "      <td>[Toys &amp;amp; games sites,  Console &amp;amp; video ...</td>\n",
       "    </tr>\n",
       "    <tr>\n",
       "      <th>2</th>\n",
       "      <td>U0003</td>\n",
       "      <td>[Sports &amp;amp; outdoor sites,  Media (Books, DV...</td>\n",
       "    </tr>\n",
       "    <tr>\n",
       "      <th>3</th>\n",
       "      <td>U0004</td>\n",
       "      <td>[Stationery &amp;amp; office supplies sites,  Clot...</td>\n",
       "    </tr>\n",
       "    <tr>\n",
       "      <th>4</th>\n",
       "      <td>U0005</td>\n",
       "      <td>[Consumer electronics sites,  Clothing &amp;amp; s...</td>\n",
       "    </tr>\n",
       "    <tr>\n",
       "      <th>...</th>\n",
       "      <td>...</td>\n",
       "      <td>...</td>\n",
       "    </tr>\n",
       "    <tr>\n",
       "      <th>115</th>\n",
       "      <td>U0116</td>\n",
       "      <td>[Clothing &amp;amp; shoes sites,  Baby products si...</td>\n",
       "    </tr>\n",
       "    <tr>\n",
       "      <th>116</th>\n",
       "      <td>U0117</td>\n",
       "      <td>[Health &amp;amp; Beauty sites,  Home stuffs sites...</td>\n",
       "    </tr>\n",
       "    <tr>\n",
       "      <th>117</th>\n",
       "      <td>U0118</td>\n",
       "      <td>[Media (Books, DVD, CD/DVD Music) sites,  Heal...</td>\n",
       "    </tr>\n",
       "    <tr>\n",
       "      <th>118</th>\n",
       "      <td>U0119</td>\n",
       "      <td>[Clothing &amp;amp; shoes sites,  Health &amp;amp; Bea...</td>\n",
       "    </tr>\n",
       "    <tr>\n",
       "      <th>119</th>\n",
       "      <td>U0120</td>\n",
       "      <td>[Consumer electronics sites]</td>\n",
       "    </tr>\n",
       "  </tbody>\n",
       "</table>\n",
       "<p>120 rows × 2 columns</p>\n",
       "</div>"
      ],
      "text/plain": [
       "    user_id                              Most_visited_websites\n",
       "0     U0001  [Media (Books, DVD, CD/DVD Music) sites,  Groc...\n",
       "1     U0002  [Toys &amp; games sites,  Console &amp; video ...\n",
       "2     U0003  [Sports &amp; outdoor sites,  Media (Books, DV...\n",
       "3     U0004  [Stationery &amp; office supplies sites,  Clot...\n",
       "4     U0005  [Consumer electronics sites,  Clothing &amp; s...\n",
       "..      ...                                                ...\n",
       "115   U0116  [Clothing &amp; shoes sites,  Baby products si...\n",
       "116   U0117  [Health &amp; Beauty sites,  Home stuffs sites...\n",
       "117   U0118  [Media (Books, DVD, CD/DVD Music) sites,  Heal...\n",
       "118   U0119  [Clothing &amp; shoes sites,  Health &amp; Bea...\n",
       "119   U0120                       [Consumer electronics sites]\n",
       "\n",
       "[120 rows x 2 columns]"
      ]
     },
     "execution_count": 29,
     "metadata": {},
     "output_type": "execute_result"
    }
   ],
   "source": [
    "newdf"
   ]
  },
  {
   "cell_type": "markdown",
   "id": "electronic-merchant",
   "metadata": {},
   "source": [
    "# Flattening the pandas dataframe containing lists and writing individual files"
   ]
  },
  {
   "cell_type": "code",
   "execution_count": 38,
   "id": "activated-thinking",
   "metadata": {
    "ExecuteTime": {
     "end_time": "2021-03-04T22:14:39.508954Z",
     "start_time": "2021-03-04T22:14:39.494953Z"
    }
   },
   "outputs": [],
   "source": [
    "def convert_list_to_df(df, column_name):\n",
    "    newdf = df.copy()\n",
    "    newdf = newdf[[\"user_id\",column_name]]\n",
    "    \n",
    "    result = []\n",
    "    for i, row in newdf.iterrows():\n",
    "        d = pd.DataFrame({\"user_id\":row[0], column_name: row[1]})\n",
    "        result.append(d)\n",
    "    result = pd.concat(result)\n",
    "    return result.reset_index(drop=True)"
   ]
  },
  {
   "cell_type": "code",
   "execution_count": 78,
   "id": "oriented-makeup",
   "metadata": {
    "ExecuteTime": {
     "end_time": "2021-03-04T23:28:19.064574Z",
     "start_time": "2021-03-04T23:28:18.935955Z"
    }
   },
   "outputs": [
    {
     "data": {
      "text/html": [
       "<div>\n",
       "<style scoped>\n",
       "    .dataframe tbody tr th:only-of-type {\n",
       "        vertical-align: middle;\n",
       "    }\n",
       "\n",
       "    .dataframe tbody tr th {\n",
       "        vertical-align: top;\n",
       "    }\n",
       "\n",
       "    .dataframe thead th {\n",
       "        text-align: right;\n",
       "    }\n",
       "</style>\n",
       "<table border=\"1\" class=\"dataframe\">\n",
       "  <thead>\n",
       "    <tr style=\"text-align: right;\">\n",
       "      <th></th>\n",
       "      <th>user_id</th>\n",
       "      <th>Most_visited_websites</th>\n",
       "    </tr>\n",
       "  </thead>\n",
       "  <tbody>\n",
       "    <tr>\n",
       "      <th>0</th>\n",
       "      <td>U0001</td>\n",
       "      <td>Media (Books, DVD, CD/DVD Music) sites</td>\n",
       "    </tr>\n",
       "    <tr>\n",
       "      <th>1</th>\n",
       "      <td>U0001</td>\n",
       "      <td>Grocery &amp;amp; beverages sites</td>\n",
       "    </tr>\n",
       "    <tr>\n",
       "      <th>2</th>\n",
       "      <td>U0001</td>\n",
       "      <td>Pet supplies sites</td>\n",
       "    </tr>\n",
       "    <tr>\n",
       "      <th>3</th>\n",
       "      <td>U0002</td>\n",
       "      <td>Toys &amp;amp; games sites</td>\n",
       "    </tr>\n",
       "    <tr>\n",
       "      <th>4</th>\n",
       "      <td>U0002</td>\n",
       "      <td>Console &amp;amp; video games sites</td>\n",
       "    </tr>\n",
       "    <tr>\n",
       "      <th>...</th>\n",
       "      <td>...</td>\n",
       "      <td>...</td>\n",
       "    </tr>\n",
       "    <tr>\n",
       "      <th>353</th>\n",
       "      <td>U0118</td>\n",
       "      <td>Health &amp;amp; Beauty sites</td>\n",
       "    </tr>\n",
       "    <tr>\n",
       "      <th>354</th>\n",
       "      <td>U0119</td>\n",
       "      <td>Clothing &amp;amp; shoes sites</td>\n",
       "    </tr>\n",
       "    <tr>\n",
       "      <th>355</th>\n",
       "      <td>U0119</td>\n",
       "      <td>Health &amp;amp; Beauty sites</td>\n",
       "    </tr>\n",
       "    <tr>\n",
       "      <th>356</th>\n",
       "      <td>U0119</td>\n",
       "      <td>Grocery &amp;amp; beverages sites</td>\n",
       "    </tr>\n",
       "    <tr>\n",
       "      <th>357</th>\n",
       "      <td>U0120</td>\n",
       "      <td>Consumer electronics sites</td>\n",
       "    </tr>\n",
       "  </tbody>\n",
       "</table>\n",
       "<p>358 rows × 2 columns</p>\n",
       "</div>"
      ],
      "text/plain": [
       "    user_id                   Most_visited_websites\n",
       "0     U0001  Media (Books, DVD, CD/DVD Music) sites\n",
       "1     U0001           Grocery &amp; beverages sites\n",
       "2     U0001                      Pet supplies sites\n",
       "3     U0002                  Toys &amp; games sites\n",
       "4     U0002         Console &amp; video games sites\n",
       "..      ...                                     ...\n",
       "353   U0118               Health &amp; Beauty sites\n",
       "354   U0119              Clothing &amp; shoes sites\n",
       "355   U0119               Health &amp; Beauty sites\n",
       "356   U0119           Grocery &amp; beverages sites\n",
       "357   U0120              Consumer electronics sites\n",
       "\n",
       "[358 rows x 2 columns]"
      ]
     },
     "execution_count": 78,
     "metadata": {},
     "output_type": "execute_result"
    }
   ],
   "source": [
    "pref_websites = convert_list_to_df(pref_df, \"Most_visited_websites\")\n",
    "pref_websites.to_csv(\"data/processed/pref_websites.csv\", index= False)\n",
    "pref_websites"
   ]
  },
  {
   "cell_type": "code",
   "execution_count": 81,
   "id": "personalized-animal",
   "metadata": {
    "ExecuteTime": {
     "end_time": "2021-03-04T23:28:31.714472Z",
     "start_time": "2021-03-04T23:28:31.584707Z"
    }
   },
   "outputs": [
    {
     "data": {
      "text/html": [
       "<div>\n",
       "<style scoped>\n",
       "    .dataframe tbody tr th:only-of-type {\n",
       "        vertical-align: middle;\n",
       "    }\n",
       "\n",
       "    .dataframe tbody tr th {\n",
       "        vertical-align: top;\n",
       "    }\n",
       "\n",
       "    .dataframe thead th {\n",
       "        text-align: right;\n",
       "    }\n",
       "</style>\n",
       "<table border=\"1\" class=\"dataframe\">\n",
       "  <thead>\n",
       "    <tr style=\"text-align: right;\">\n",
       "      <th></th>\n",
       "      <th>user_id</th>\n",
       "      <th>Most_listened_musics</th>\n",
       "    </tr>\n",
       "  </thead>\n",
       "  <tbody>\n",
       "    <tr>\n",
       "      <th>0</th>\n",
       "      <td>U0001</td>\n",
       "      <td>Classical Music</td>\n",
       "    </tr>\n",
       "    <tr>\n",
       "      <th>1</th>\n",
       "      <td>U0001</td>\n",
       "      <td>Easy Listening</td>\n",
       "    </tr>\n",
       "    <tr>\n",
       "      <th>2</th>\n",
       "      <td>U0001</td>\n",
       "      <td>Jazz</td>\n",
       "    </tr>\n",
       "    <tr>\n",
       "      <th>3</th>\n",
       "      <td>U0002</td>\n",
       "      <td>Dance Music</td>\n",
       "    </tr>\n",
       "    <tr>\n",
       "      <th>4</th>\n",
       "      <td>U0002</td>\n",
       "      <td>Electronic Music</td>\n",
       "    </tr>\n",
       "    <tr>\n",
       "      <th>...</th>\n",
       "      <td>...</td>\n",
       "      <td>...</td>\n",
       "    </tr>\n",
       "    <tr>\n",
       "      <th>343</th>\n",
       "      <td>U0118</td>\n",
       "      <td>Rock</td>\n",
       "    </tr>\n",
       "    <tr>\n",
       "      <th>344</th>\n",
       "      <td>U0118</td>\n",
       "      <td>R&amp;amp;B - Soul</td>\n",
       "    </tr>\n",
       "    <tr>\n",
       "      <th>345</th>\n",
       "      <td>U0119</td>\n",
       "      <td>New Age</td>\n",
       "    </tr>\n",
       "    <tr>\n",
       "      <th>346</th>\n",
       "      <td>U0119</td>\n",
       "      <td>Jazz</td>\n",
       "    </tr>\n",
       "    <tr>\n",
       "      <th>347</th>\n",
       "      <td>U0120</td>\n",
       "      <td>Indie Pop</td>\n",
       "    </tr>\n",
       "  </tbody>\n",
       "</table>\n",
       "<p>348 rows × 2 columns</p>\n",
       "</div>"
      ],
      "text/plain": [
       "    user_id Most_listened_musics\n",
       "0     U0001      Classical Music\n",
       "1     U0001       Easy Listening\n",
       "2     U0001                 Jazz\n",
       "3     U0002          Dance Music\n",
       "4     U0002     Electronic Music\n",
       "..      ...                  ...\n",
       "343   U0118                 Rock\n",
       "344   U0118       R&amp;B - Soul\n",
       "345   U0119              New Age\n",
       "346   U0119                 Jazz\n",
       "347   U0120            Indie Pop\n",
       "\n",
       "[348 rows x 2 columns]"
      ]
     },
     "execution_count": 81,
     "metadata": {},
     "output_type": "execute_result"
    }
   ],
   "source": [
    "pref_music = convert_list_to_df(pref_df, \"Most_listened_musics\")\n",
    "pref_music.to_csv(\"data/processed/pref_music.csv\", index = False)\n",
    "pref_music"
   ]
  },
  {
   "cell_type": "code",
   "execution_count": 82,
   "id": "adverse-sport",
   "metadata": {
    "ExecuteTime": {
     "end_time": "2021-03-04T23:28:36.458054Z",
     "start_time": "2021-03-04T23:28:36.345995Z"
    }
   },
   "outputs": [
    {
     "data": {
      "text/html": [
       "<div>\n",
       "<style scoped>\n",
       "    .dataframe tbody tr th:only-of-type {\n",
       "        vertical-align: middle;\n",
       "    }\n",
       "\n",
       "    .dataframe tbody tr th {\n",
       "        vertical-align: top;\n",
       "    }\n",
       "\n",
       "    .dataframe thead th {\n",
       "        text-align: right;\n",
       "    }\n",
       "</style>\n",
       "<table border=\"1\" class=\"dataframe\">\n",
       "  <thead>\n",
       "    <tr style=\"text-align: right;\">\n",
       "      <th></th>\n",
       "      <th>user_id</th>\n",
       "      <th>Most_watched_movies</th>\n",
       "    </tr>\n",
       "  </thead>\n",
       "  <tbody>\n",
       "    <tr>\n",
       "      <th>0</th>\n",
       "      <td>U0001</td>\n",
       "      <td>Action</td>\n",
       "    </tr>\n",
       "    <tr>\n",
       "      <th>1</th>\n",
       "      <td>U0001</td>\n",
       "      <td>Thriller</td>\n",
       "    </tr>\n",
       "    <tr>\n",
       "      <th>2</th>\n",
       "      <td>U0001</td>\n",
       "      <td>Drama</td>\n",
       "    </tr>\n",
       "    <tr>\n",
       "      <th>3</th>\n",
       "      <td>U0001</td>\n",
       "      <td>Comedy</td>\n",
       "    </tr>\n",
       "    <tr>\n",
       "      <th>4</th>\n",
       "      <td>U0001</td>\n",
       "      <td>Mystery</td>\n",
       "    </tr>\n",
       "    <tr>\n",
       "      <th>...</th>\n",
       "      <td>...</td>\n",
       "      <td>...</td>\n",
       "    </tr>\n",
       "    <tr>\n",
       "      <th>481</th>\n",
       "      <td>U0118</td>\n",
       "      <td>Romance</td>\n",
       "    </tr>\n",
       "    <tr>\n",
       "      <th>482</th>\n",
       "      <td>U0119</td>\n",
       "      <td>Comedy</td>\n",
       "    </tr>\n",
       "    <tr>\n",
       "      <th>483</th>\n",
       "      <td>U0119</td>\n",
       "      <td>Drama</td>\n",
       "    </tr>\n",
       "    <tr>\n",
       "      <th>484</th>\n",
       "      <td>U0119</td>\n",
       "      <td>Documentary</td>\n",
       "    </tr>\n",
       "    <tr>\n",
       "      <th>485</th>\n",
       "      <td>U0120</td>\n",
       "      <td>Action</td>\n",
       "    </tr>\n",
       "  </tbody>\n",
       "</table>\n",
       "<p>486 rows × 2 columns</p>\n",
       "</div>"
      ],
      "text/plain": [
       "    user_id Most_watched_movies\n",
       "0     U0001              Action\n",
       "1     U0001            Thriller\n",
       "2     U0001               Drama\n",
       "3     U0001              Comedy\n",
       "4     U0001             Mystery\n",
       "..      ...                 ...\n",
       "481   U0118             Romance\n",
       "482   U0119              Comedy\n",
       "483   U0119               Drama\n",
       "484   U0119         Documentary\n",
       "485   U0120              Action\n",
       "\n",
       "[486 rows x 2 columns]"
      ]
     },
     "execution_count": 82,
     "metadata": {},
     "output_type": "execute_result"
    }
   ],
   "source": [
    "pref_movies = convert_list_to_df(pref_df, \"Most_watched_movies\")\n",
    "pref_movies.to_csv(\"data/processed/pref_movies.csv\", index = False)\n",
    "pref_movies"
   ]
  },
  {
   "cell_type": "code",
   "execution_count": 45,
   "id": "specified-pharmacy",
   "metadata": {
    "ExecuteTime": {
     "end_time": "2021-03-04T22:18:22.439142Z",
     "start_time": "2021-03-04T22:18:22.374154Z"
    }
   },
   "outputs": [
    {
     "data": {
      "text/html": [
       "<div>\n",
       "<style scoped>\n",
       "    .dataframe tbody tr th:only-of-type {\n",
       "        vertical-align: middle;\n",
       "    }\n",
       "\n",
       "    .dataframe tbody tr th {\n",
       "        vertical-align: top;\n",
       "    }\n",
       "\n",
       "    .dataframe thead th {\n",
       "        text-align: right;\n",
       "    }\n",
       "</style>\n",
       "<table border=\"1\" class=\"dataframe\">\n",
       "  <thead>\n",
       "    <tr style=\"text-align: right;\">\n",
       "      <th></th>\n",
       "      <th>user_id</th>\n",
       "      <th>Most_watched_tv_programmes</th>\n",
       "    </tr>\n",
       "  </thead>\n",
       "  <tbody>\n",
       "    <tr>\n",
       "      <th>0</th>\n",
       "      <td>U0001</td>\n",
       "      <td>Comedy</td>\n",
       "    </tr>\n",
       "    <tr>\n",
       "      <th>1</th>\n",
       "      <td>U0001</td>\n",
       "      <td>Drama</td>\n",
       "    </tr>\n",
       "    <tr>\n",
       "      <th>2</th>\n",
       "      <td>U0002</td>\n",
       "      <td>Drama</td>\n",
       "    </tr>\n",
       "    <tr>\n",
       "      <th>3</th>\n",
       "      <td>U0003</td>\n",
       "      <td>Sport</td>\n",
       "    </tr>\n",
       "    <tr>\n",
       "      <th>4</th>\n",
       "      <td>U0003</td>\n",
       "      <td>News</td>\n",
       "    </tr>\n",
       "    <tr>\n",
       "      <th>...</th>\n",
       "      <td>...</td>\n",
       "      <td>...</td>\n",
       "    </tr>\n",
       "    <tr>\n",
       "      <th>320</th>\n",
       "      <td>U0118</td>\n",
       "      <td>Drama</td>\n",
       "    </tr>\n",
       "    <tr>\n",
       "      <th>321</th>\n",
       "      <td>U0118</td>\n",
       "      <td>Entertainment (Variety Shows)</td>\n",
       "    </tr>\n",
       "    <tr>\n",
       "      <th>322</th>\n",
       "      <td>U0119</td>\n",
       "      <td>Comedy</td>\n",
       "    </tr>\n",
       "    <tr>\n",
       "      <th>323</th>\n",
       "      <td>U0119</td>\n",
       "      <td>Drama</td>\n",
       "    </tr>\n",
       "    <tr>\n",
       "      <th>324</th>\n",
       "      <td>U0120</td>\n",
       "      <td>Sport</td>\n",
       "    </tr>\n",
       "  </tbody>\n",
       "</table>\n",
       "<p>325 rows × 2 columns</p>\n",
       "</div>"
      ],
      "text/plain": [
       "    user_id      Most_watched_tv_programmes\n",
       "0     U0001                          Comedy\n",
       "1     U0001                           Drama\n",
       "2     U0002                           Drama\n",
       "3     U0003                           Sport\n",
       "4     U0003                            News\n",
       "..      ...                             ...\n",
       "320   U0118                           Drama\n",
       "321   U0118   Entertainment (Variety Shows)\n",
       "322   U0119                          Comedy\n",
       "323   U0119                           Drama\n",
       "324   U0120                           Sport\n",
       "\n",
       "[325 rows x 2 columns]"
      ]
     },
     "execution_count": 45,
     "metadata": {},
     "output_type": "execute_result"
    }
   ],
   "source": [
    "pref_tv = convert_list_to_df(pref_df, \"Most_watched_tv_programmes\")\n",
    "pref_tv.to_csv(\"data/processed/pref_tv.csv\")\n",
    "pref_tv"
   ]
  },
  {
   "cell_type": "code",
   "execution_count": 83,
   "id": "reasonable-deployment",
   "metadata": {
    "ExecuteTime": {
     "end_time": "2021-03-04T23:28:45.669775Z",
     "start_time": "2021-03-04T23:28:45.547535Z"
    }
   },
   "outputs": [
    {
     "data": {
      "text/html": [
       "<div>\n",
       "<style scoped>\n",
       "    .dataframe tbody tr th:only-of-type {\n",
       "        vertical-align: middle;\n",
       "    }\n",
       "\n",
       "    .dataframe tbody tr th {\n",
       "        vertical-align: top;\n",
       "    }\n",
       "\n",
       "    .dataframe thead th {\n",
       "        text-align: right;\n",
       "    }\n",
       "</style>\n",
       "<table border=\"1\" class=\"dataframe\">\n",
       "  <thead>\n",
       "    <tr style=\"text-align: right;\">\n",
       "      <th></th>\n",
       "      <th>user_id</th>\n",
       "      <th>Most_read_books</th>\n",
       "    </tr>\n",
       "  </thead>\n",
       "  <tbody>\n",
       "    <tr>\n",
       "      <th>0</th>\n",
       "      <td>U0001</td>\n",
       "      <td>Mystery</td>\n",
       "    </tr>\n",
       "    <tr>\n",
       "      <th>1</th>\n",
       "      <td>U0002</td>\n",
       "      <td>Romance</td>\n",
       "    </tr>\n",
       "    <tr>\n",
       "      <th>2</th>\n",
       "      <td>U0002</td>\n",
       "      <td>Mystery</td>\n",
       "    </tr>\n",
       "    <tr>\n",
       "      <th>3</th>\n",
       "      <td>U0002</td>\n",
       "      <td>Science fiction</td>\n",
       "    </tr>\n",
       "    <tr>\n",
       "      <th>4</th>\n",
       "      <td>U0002</td>\n",
       "      <td>Science</td>\n",
       "    </tr>\n",
       "    <tr>\n",
       "      <th>...</th>\n",
       "      <td>...</td>\n",
       "      <td>...</td>\n",
       "    </tr>\n",
       "    <tr>\n",
       "      <th>417</th>\n",
       "      <td>U0118</td>\n",
       "      <td>Fantasy</td>\n",
       "    </tr>\n",
       "    <tr>\n",
       "      <th>418</th>\n",
       "      <td>U0119</td>\n",
       "      <td>Satire</td>\n",
       "    </tr>\n",
       "    <tr>\n",
       "      <th>419</th>\n",
       "      <td>U0119</td>\n",
       "      <td>Romance</td>\n",
       "    </tr>\n",
       "    <tr>\n",
       "      <th>420</th>\n",
       "      <td>U0119</td>\n",
       "      <td>Biographies</td>\n",
       "    </tr>\n",
       "    <tr>\n",
       "      <th>421</th>\n",
       "      <td>U0120</td>\n",
       "      <td>Self help</td>\n",
       "    </tr>\n",
       "  </tbody>\n",
       "</table>\n",
       "<p>422 rows × 2 columns</p>\n",
       "</div>"
      ],
      "text/plain": [
       "    user_id   Most_read_books\n",
       "0     U0001           Mystery\n",
       "1     U0002           Romance\n",
       "2     U0002           Mystery\n",
       "3     U0002   Science fiction\n",
       "4     U0002           Science\n",
       "..      ...               ...\n",
       "417   U0118           Fantasy\n",
       "418   U0119            Satire\n",
       "419   U0119           Romance\n",
       "420   U0119       Biographies\n",
       "421   U0120         Self help\n",
       "\n",
       "[422 rows x 2 columns]"
      ]
     },
     "execution_count": 83,
     "metadata": {},
     "output_type": "execute_result"
    }
   ],
   "source": [
    "pref_books = convert_list_to_df(pref_df, \"Most_read_books\")\n",
    "pref_books.to_csv(\"data/processed/pref_books.csv\", index = False)\n",
    "pref_books"
   ]
  },
  {
   "cell_type": "markdown",
   "id": "opposite-india",
   "metadata": {},
   "source": [
    "# Convert all column names to lower case"
   ]
  },
  {
   "cell_type": "code",
   "execution_count": 94,
   "id": "ready-biotechnology",
   "metadata": {
    "ExecuteTime": {
     "end_time": "2021-03-04T23:46:39.691012Z",
     "start_time": "2021-03-04T23:46:39.679868Z"
    }
   },
   "outputs": [],
   "source": [
    "def convert_columns_tolower(filepath):\n",
    "    df = pd.read_csv(filepath)\n",
    "    colnames = df.columns\n",
    "    colnames = [col.lower() for col in colnames]\n",
    "    df.columns = sanitize_names(colnames)\n",
    "    df.to_csv(filepath, index=False)\n",
    "    return colnames"
   ]
  },
  {
   "cell_type": "code",
   "execution_count": null,
   "id": "lonely-newton",
   "metadata": {},
   "outputs": [],
   "source": [
    "pref_df.to_csv"
   ]
  },
  {
   "cell_type": "code",
   "execution_count": 85,
   "id": "desirable-secretariat",
   "metadata": {
    "ExecuteTime": {
     "end_time": "2021-03-04T23:29:01.595786Z",
     "start_time": "2021-03-04T23:29:01.589699Z"
    }
   },
   "outputs": [
    {
     "data": {
      "text/plain": [
       "['data/processed\\\\b5.csv',\n",
       " 'data/processed\\\\inf.csv',\n",
       " 'data/processed\\\\negative.csv',\n",
       " 'data/processed\\\\positive.csv',\n",
       " 'data/processed\\\\pref_books.csv',\n",
       " 'data/processed\\\\pref_movies.csv',\n",
       " 'data/processed\\\\pref_music.csv',\n",
       " 'data/processed\\\\pref_tv.csv',\n",
       " 'data/processed\\\\pref_websites.csv',\n",
       " 'data/processed\\\\rating.csv']"
      ]
     },
     "execution_count": 85,
     "metadata": {},
     "output_type": "execute_result"
    }
   ],
   "source": [
    "glob.glob(\"data/processed/*.csv\")"
   ]
  },
  {
   "cell_type": "code",
   "execution_count": 86,
   "id": "official-capture",
   "metadata": {
    "ExecuteTime": {
     "end_time": "2021-03-04T23:29:02.871736Z",
     "start_time": "2021-03-04T23:29:02.838685Z"
    }
   },
   "outputs": [
    {
     "data": {
      "text/plain": [
       "['name',\n",
       " 'last_name',\n",
       " 'gender',\n",
       " 'age',\n",
       " 'paypal',\n",
       " 'type_of_job',\n",
       " 'weekly_working_hours',\n",
       " 'income',\n",
       " 'home_country',\n",
       " 'home_town',\n",
       " 'cap_zip_code',\n",
       " 'timepass',\n",
       " 'countries_visited',\n",
       " 'fave_sports',\n",
       " 'user_id']"
      ]
     },
     "execution_count": 86,
     "metadata": {},
     "output_type": "execute_result"
    }
   ],
   "source": [
    "convert_columns_tolower('data/processed\\\\inf.csv')"
   ]
  },
  {
   "cell_type": "code",
   "execution_count": 87,
   "id": "defined-viewer",
   "metadata": {
    "ExecuteTime": {
     "end_time": "2021-03-04T23:29:06.793258Z",
     "start_time": "2021-03-04T23:29:06.522872Z"
    }
   },
   "outputs": [],
   "source": [
    "for path in glob.glob(\"data/processed/*.csv\"):\n",
    "    convert_columns_tolower(path)"
   ]
  },
  {
   "cell_type": "code",
   "execution_count": 95,
   "id": "individual-worship",
   "metadata": {
    "ExecuteTime": {
     "end_time": "2021-03-04T23:46:45.873361Z",
     "start_time": "2021-03-04T23:46:45.731258Z"
    }
   },
   "outputs": [
    {
     "data": {
      "text/plain": [
       "['question no.', 'user_id', 'category', 'value']"
      ]
     },
     "execution_count": 95,
     "metadata": {},
     "output_type": "execute_result"
    }
   ],
   "source": [
    "convert_columns_tolower('data/processed\\\\rating.csv')"
   ]
  },
  {
   "cell_type": "code",
   "execution_count": 96,
   "id": "united-request",
   "metadata": {
    "ExecuteTime": {
     "end_time": "2021-03-04T23:46:49.165608Z",
     "start_time": "2021-03-04T23:46:49.123424Z"
    }
   },
   "outputs": [],
   "source": [
    "r = pd.read_csv('data/processed\\\\rating.csv')"
   ]
  },
  {
   "cell_type": "code",
   "execution_count": 97,
   "id": "sustainable-courtesy",
   "metadata": {
    "ExecuteTime": {
     "end_time": "2021-03-04T23:46:49.761550Z",
     "start_time": "2021-03-04T23:46:49.748549Z"
    }
   },
   "outputs": [
    {
     "data": {
      "text/html": [
       "<div>\n",
       "<style scoped>\n",
       "    .dataframe tbody tr th:only-of-type {\n",
       "        vertical-align: middle;\n",
       "    }\n",
       "\n",
       "    .dataframe tbody tr th {\n",
       "        vertical-align: top;\n",
       "    }\n",
       "\n",
       "    .dataframe thead th {\n",
       "        text-align: right;\n",
       "    }\n",
       "</style>\n",
       "<table border=\"1\" class=\"dataframe\">\n",
       "  <thead>\n",
       "    <tr style=\"text-align: right;\">\n",
       "      <th></th>\n",
       "      <th>question_no_</th>\n",
       "      <th>user_id</th>\n",
       "      <th>category</th>\n",
       "      <th>value</th>\n",
       "    </tr>\n",
       "  </thead>\n",
       "  <tbody>\n",
       "    <tr>\n",
       "      <th>0</th>\n",
       "      <td>0</td>\n",
       "      <td>U0001</td>\n",
       "      <td>Automotive</td>\n",
       "      <td>1</td>\n",
       "    </tr>\n",
       "    <tr>\n",
       "      <th>1</th>\n",
       "      <td>1</td>\n",
       "      <td>U0001</td>\n",
       "      <td>Automotive</td>\n",
       "      <td>1</td>\n",
       "    </tr>\n",
       "    <tr>\n",
       "      <th>2</th>\n",
       "      <td>2</td>\n",
       "      <td>U0001</td>\n",
       "      <td>Automotive</td>\n",
       "      <td>1</td>\n",
       "    </tr>\n",
       "    <tr>\n",
       "      <th>3</th>\n",
       "      <td>3</td>\n",
       "      <td>U0001</td>\n",
       "      <td>Automotive</td>\n",
       "      <td>1</td>\n",
       "    </tr>\n",
       "    <tr>\n",
       "      <th>4</th>\n",
       "      <td>4</td>\n",
       "      <td>U0001</td>\n",
       "      <td>Automotive</td>\n",
       "      <td>1</td>\n",
       "    </tr>\n",
       "  </tbody>\n",
       "</table>\n",
       "</div>"
      ],
      "text/plain": [
       "   question_no_ user_id    category  value\n",
       "0             0   U0001  Automotive      1\n",
       "1             1   U0001  Automotive      1\n",
       "2             2   U0001  Automotive      1\n",
       "3             3   U0001  Automotive      1\n",
       "4             4   U0001  Automotive      1"
      ]
     },
     "execution_count": 97,
     "metadata": {},
     "output_type": "execute_result"
    }
   ],
   "source": [
    "r.head()"
   ]
  },
  {
   "cell_type": "code",
   "execution_count": 102,
   "id": "generic-duncan",
   "metadata": {
    "ExecuteTime": {
     "end_time": "2021-03-05T01:00:43.418684Z",
     "start_time": "2021-03-05T01:00:43.412718Z"
    }
   },
   "outputs": [],
   "source": [
    "inf_df = inf_df[[\"user_id\", 'name', 'last_name', 'gender', 'age', 'paypal', 'type_of_job',\n",
    "       'weekly_working_hours', 'income', 'home_country', 'home_town',\n",
    "       'cap_zip_code', 'timepass', 'countries_visited', 'fave_sports']]"
   ]
  },
  {
   "cell_type": "code",
   "execution_count": 100,
   "id": "saving-schema",
   "metadata": {
    "ExecuteTime": {
     "end_time": "2021-03-05T01:00:05.783698Z",
     "start_time": "2021-03-05T01:00:05.777698Z"
    }
   },
   "outputs": [
    {
     "data": {
      "text/plain": [
       "Index(['name', 'last_name', 'gender', 'age', 'paypal', 'type_of_job',\n",
       "       'weekly_working_hours', 'income', 'home_country', 'home_town',\n",
       "       'cap_zip_code', 'timepass', 'countries_visited', 'fave_sports',\n",
       "       'user_id'],\n",
       "      dtype='object')"
      ]
     },
     "execution_count": 100,
     "metadata": {},
     "output_type": "execute_result"
    }
   ],
   "source": [
    "inf_df.columns"
   ]
  },
  {
   "cell_type": "code",
   "execution_count": 104,
   "id": "challenging-authentication",
   "metadata": {
    "ExecuteTime": {
     "end_time": "2021-03-05T01:02:52.990032Z",
     "start_time": "2021-03-05T01:02:52.970012Z"
    }
   },
   "outputs": [
    {
     "data": {
      "text/html": [
       "<div>\n",
       "<style scoped>\n",
       "    .dataframe tbody tr th:only-of-type {\n",
       "        vertical-align: middle;\n",
       "    }\n",
       "\n",
       "    .dataframe tbody tr th {\n",
       "        vertical-align: top;\n",
       "    }\n",
       "\n",
       "    .dataframe thead th {\n",
       "        text-align: right;\n",
       "    }\n",
       "</style>\n",
       "<table border=\"1\" class=\"dataframe\">\n",
       "  <thead>\n",
       "    <tr style=\"text-align: right;\">\n",
       "      <th></th>\n",
       "      <th>user_id</th>\n",
       "      <th>name</th>\n",
       "      <th>last_name</th>\n",
       "      <th>gender</th>\n",
       "      <th>age</th>\n",
       "      <th>paypal</th>\n",
       "      <th>type_of_job</th>\n",
       "      <th>weekly_working_hours</th>\n",
       "      <th>income</th>\n",
       "      <th>home_country</th>\n",
       "      <th>home_town</th>\n",
       "      <th>cap_zip_code</th>\n",
       "      <th>timepass</th>\n",
       "      <th>countries_visited</th>\n",
       "      <th>fave_sports</th>\n",
       "    </tr>\n",
       "  </thead>\n",
       "  <tbody>\n",
       "    <tr>\n",
       "      <th>0</th>\n",
       "      <td>U0001</td>\n",
       "      <td>Hidden</td>\n",
       "      <td>Hidden</td>\n",
       "      <td>F</td>\n",
       "      <td>62</td>\n",
       "      <td>hidden@comcast.net</td>\n",
       "      <td>Housewife/Househusband</td>\n",
       "      <td>Full Time</td>\n",
       "      <td>1</td>\n",
       "      <td>United States of America</td>\n",
       "      <td>Apollo</td>\n",
       "      <td>15613</td>\n",
       "      <td>Internet</td>\n",
       "      <td>United States of America</td>\n",
       "      <td>I do not like Sports</td>\n",
       "    </tr>\n",
       "    <tr>\n",
       "      <th>0</th>\n",
       "      <td>U0002</td>\n",
       "      <td>Hidden</td>\n",
       "      <td>Hidden</td>\n",
       "      <td>F</td>\n",
       "      <td>26</td>\n",
       "      <td>hidden@gmail.com</td>\n",
       "      <td>Contract employment</td>\n",
       "      <td>Full Time</td>\n",
       "      <td>1</td>\n",
       "      <td>United States of America</td>\n",
       "      <td>Chicago</td>\n",
       "      <td>60638</td>\n",
       "      <td>Internet</td>\n",
       "      <td>Poland, Mexico, United States of America</td>\n",
       "      <td>Nothing</td>\n",
       "    </tr>\n",
       "    <tr>\n",
       "      <th>0</th>\n",
       "      <td>U0003</td>\n",
       "      <td>Hidden</td>\n",
       "      <td>Hidden</td>\n",
       "      <td>M</td>\n",
       "      <td>22</td>\n",
       "      <td>hidden@uwosh.edu</td>\n",
       "      <td>Contract employment</td>\n",
       "      <td>Full Time</td>\n",
       "      <td>1</td>\n",
       "      <td>United States of America</td>\n",
       "      <td>Greenville</td>\n",
       "      <td>54942</td>\n",
       "      <td>Sports</td>\n",
       "      <td>France</td>\n",
       "      <td>Team sports (Footbal, Baseball, Rugby, ...)</td>\n",
       "    </tr>\n",
       "    <tr>\n",
       "      <th>0</th>\n",
       "      <td>U0004</td>\n",
       "      <td>Hidden</td>\n",
       "      <td>Hidden</td>\n",
       "      <td>F</td>\n",
       "      <td>24</td>\n",
       "      <td>hidden@hotmail.co.uk</td>\n",
       "      <td>Student</td>\n",
       "      <td>Part Time</td>\n",
       "      <td>1</td>\n",
       "      <td>Great Britain</td>\n",
       "      <td>London</td>\n",
       "      <td>NW1 1EU</td>\n",
       "      <td>Internet</td>\n",
       "      <td>United States of America, United Kingdom, Ital...</td>\n",
       "      <td>Individual sports‎ (Tennis, Archery, ...)</td>\n",
       "    </tr>\n",
       "    <tr>\n",
       "      <th>0</th>\n",
       "      <td>U0005</td>\n",
       "      <td>Hidden</td>\n",
       "      <td>Hidden</td>\n",
       "      <td>F</td>\n",
       "      <td>34</td>\n",
       "      <td>hidden@email.cz</td>\n",
       "      <td>Contract employment</td>\n",
       "      <td>Full Time</td>\n",
       "      <td>1</td>\n",
       "      <td>Czech Republic</td>\n",
       "      <td>Prague</td>\n",
       "      <td>10000</td>\n",
       "      <td>Sports</td>\n",
       "      <td>Russia, Slovakia, Slovenia, China, India, Fran...</td>\n",
       "      <td>Individual sports‎ (Tennis, Archery, ...)</td>\n",
       "    </tr>\n",
       "  </tbody>\n",
       "</table>\n",
       "</div>"
      ],
      "text/plain": [
       "  user_id    name last_name gender  age                paypal  \\\n",
       "0   U0001  Hidden    Hidden      F   62    hidden@comcast.net   \n",
       "0   U0002  Hidden    Hidden      F   26      hidden@gmail.com   \n",
       "0   U0003  Hidden    Hidden      M   22      hidden@uwosh.edu   \n",
       "0   U0004  Hidden    Hidden      F   24  hidden@hotmail.co.uk   \n",
       "0   U0005  Hidden    Hidden      F   34       hidden@email.cz   \n",
       "\n",
       "              type_of_job weekly_working_hours  income  \\\n",
       "0  Housewife/Househusband            Full Time       1   \n",
       "0     Contract employment            Full Time       1   \n",
       "0     Contract employment            Full Time       1   \n",
       "0                 Student            Part Time       1   \n",
       "0     Contract employment            Full Time       1   \n",
       "\n",
       "               home_country   home_town cap_zip_code  timepass  \\\n",
       "0  United States of America      Apollo        15613  Internet   \n",
       "0  United States of America     Chicago        60638  Internet   \n",
       "0  United States of America  Greenville        54942    Sports   \n",
       "0             Great Britain      London      NW1 1EU  Internet   \n",
       "0            Czech Republic      Prague        10000    Sports   \n",
       "\n",
       "                                   countries_visited  \\\n",
       "0                           United States of America   \n",
       "0           Poland, Mexico, United States of America   \n",
       "0                                             France   \n",
       "0  United States of America, United Kingdom, Ital...   \n",
       "0  Russia, Slovakia, Slovenia, China, India, Fran...   \n",
       "\n",
       "                                    fave_sports  \n",
       "0                          I do not like Sports  \n",
       "0                                       Nothing  \n",
       "0  Team sports (Footbal, Baseball, Rugby, ...)   \n",
       "0     Individual sports‎ (Tennis, Archery, ...)  \n",
       "0     Individual sports‎ (Tennis, Archery, ...)  "
      ]
     },
     "execution_count": 104,
     "metadata": {},
     "output_type": "execute_result"
    }
   ],
   "source": [
    "inf_df.head()"
   ]
  },
  {
   "cell_type": "code",
   "execution_count": 105,
   "id": "nervous-creation",
   "metadata": {
    "ExecuteTime": {
     "end_time": "2021-03-05T01:10:45.933588Z",
     "start_time": "2021-03-05T01:10:45.905552Z"
    }
   },
   "outputs": [],
   "source": [
    "rating_df = pd.read_csv('data/processed\\\\rating.csv')"
   ]
  },
  {
   "cell_type": "code",
   "execution_count": 110,
   "id": "forced-lindsay",
   "metadata": {
    "ExecuteTime": {
     "end_time": "2021-03-05T01:11:44.355930Z",
     "start_time": "2021-03-05T01:11:44.336929Z"
    }
   },
   "outputs": [
    {
     "data": {
      "text/html": [
       "<div>\n",
       "<style scoped>\n",
       "    .dataframe tbody tr th:only-of-type {\n",
       "        vertical-align: middle;\n",
       "    }\n",
       "\n",
       "    .dataframe tbody tr th {\n",
       "        vertical-align: top;\n",
       "    }\n",
       "\n",
       "    .dataframe thead th {\n",
       "        text-align: right;\n",
       "    }\n",
       "</style>\n",
       "<table border=\"1\" class=\"dataframe\">\n",
       "  <thead>\n",
       "    <tr style=\"text-align: right;\">\n",
       "      <th></th>\n",
       "      <th>user_id</th>\n",
       "      <th>category</th>\n",
       "      <th>question_no_</th>\n",
       "      <th>value</th>\n",
       "    </tr>\n",
       "  </thead>\n",
       "  <tbody>\n",
       "    <tr>\n",
       "      <th>0</th>\n",
       "      <td>U0001</td>\n",
       "      <td>Automotive</td>\n",
       "      <td>0</td>\n",
       "      <td>1</td>\n",
       "    </tr>\n",
       "    <tr>\n",
       "      <th>1</th>\n",
       "      <td>U0001</td>\n",
       "      <td>Automotive</td>\n",
       "      <td>1</td>\n",
       "      <td>1</td>\n",
       "    </tr>\n",
       "    <tr>\n",
       "      <th>2</th>\n",
       "      <td>U0001</td>\n",
       "      <td>Automotive</td>\n",
       "      <td>2</td>\n",
       "      <td>1</td>\n",
       "    </tr>\n",
       "    <tr>\n",
       "      <th>3</th>\n",
       "      <td>U0001</td>\n",
       "      <td>Automotive</td>\n",
       "      <td>3</td>\n",
       "      <td>1</td>\n",
       "    </tr>\n",
       "    <tr>\n",
       "      <th>4</th>\n",
       "      <td>U0001</td>\n",
       "      <td>Automotive</td>\n",
       "      <td>4</td>\n",
       "      <td>1</td>\n",
       "    </tr>\n",
       "  </tbody>\n",
       "</table>\n",
       "</div>"
      ],
      "text/plain": [
       "  user_id    category  question_no_  value\n",
       "0   U0001  Automotive             0      1\n",
       "1   U0001  Automotive             1      1\n",
       "2   U0001  Automotive             2      1\n",
       "3   U0001  Automotive             3      1\n",
       "4   U0001  Automotive             4      1"
      ]
     },
     "execution_count": 110,
     "metadata": {},
     "output_type": "execute_result"
    }
   ],
   "source": [
    "rating_df.head()"
   ]
  },
  {
   "cell_type": "code",
   "execution_count": 109,
   "id": "contrary-numbers",
   "metadata": {
    "ExecuteTime": {
     "end_time": "2021-03-05T01:11:39.649157Z",
     "start_time": "2021-03-05T01:11:39.641150Z"
    }
   },
   "outputs": [],
   "source": [
    "rating_df = rating_df[[\"user_id\",\"category\",\"question_no_\",\"value\"]]"
   ]
  },
  {
   "cell_type": "code",
   "execution_count": 111,
   "id": "collective-trash",
   "metadata": {
    "ExecuteTime": {
     "end_time": "2021-03-05T01:12:12.574431Z",
     "start_time": "2021-03-05T01:12:12.515432Z"
    }
   },
   "outputs": [],
   "source": [
    "rating_df.to_csv('data/processed\\\\rating.csv', index=False)"
   ]
  },
  {
   "cell_type": "code",
   "execution_count": 112,
   "id": "entertaining-poison",
   "metadata": {
    "ExecuteTime": {
     "end_time": "2021-03-05T01:13:06.882030Z",
     "start_time": "2021-03-05T01:13:06.412859Z"
    }
   },
   "outputs": [
    {
     "data": {
      "text/plain": [
       "<AxesSubplot:>"
      ]
     },
     "execution_count": 112,
     "metadata": {},
     "output_type": "execute_result"
    },
    {
     "data": {
      "image/png": "[encoded data removed]",
      "text/plain": [
       "<Figure size 1800x720 with 2 Axes>"
      ]
     },
     "metadata": {
      "needs_background": "light"
     },
     "output_type": "display_data"
    }
   ],
   "source": [
    "missingno.matrix(rating_df)"
   ]
  },
  {
   "cell_type": "code",
   "execution_count": null,
   "id": "muslim-angle",
   "metadata": {},
   "outputs": [],
   "source": []
  }
 ],
 "metadata": {
  "kernelspec": {
   "display_name": "Python (torch3.8)",
   "language": "python",
   "name": "torch3.8"
  },
  "language_info": {
   "codemirror_mode": {
    "name": "ipython",
    "version": 3
   },
   "file_extension": ".py",
   "mimetype": "text/x-python",
   "name": "python",
   "nbconvert_exporter": "python",
   "pygments_lexer": "ipython3",
   "version": "3.8.5"
  }
 },
 "nbformat": 4,
 "nbformat_minor": 5
}
