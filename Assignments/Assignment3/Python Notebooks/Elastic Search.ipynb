{
  "nbformat": 4,
  "nbformat_minor": 0,
  "metadata": {
    "kernelspec": {
      "display_name": "Python 3",
      "language": "python",
      "name": "python3"
    },
    "language_info": {
      "codemirror_mode": {
        "name": "ipython",
        "version": 3
      },
      "file_extension": ".py",
      "mimetype": "text/x-python",
      "name": "python",
      "nbconvert_exporter": "python",
      "pygments_lexer": "ipython3",
      "version": "3.7.6"
    },
    "colab": {
      "name": "Elastic Search.ipynb",
      "provenance": [],
      "collapsed_sections": []
    }
  },
  "cells": [
    {
      "cell_type": "code",
      "metadata": {
        "id": "7ddKrZKr7XX9"
      },
      "source": [
        "!pip install elasticsearch"
      ],
      "execution_count": null,
      "outputs": []
    },
    {
      "cell_type": "code",
      "metadata": {
        "id": "KxoSK6CN7PX0"
      },
      "source": [
        "import elasticsearch\n",
        "from elasticsearch import Elasticsearch, RequestsHttpConnection\n",
        "from requests_aws4auth import AWS4Auth\n",
        "from elasticsearch import helpers\n",
        "import pandas as pd\n",
        "import botocore.session\n",
        "\n",
        "import os\n",
        "import sys\n",
        "import pickle\n",
        "import json\n",
        "import io\n",
        "from skimage.io import imread\n",
        "import matplotlib.pyplot as plt"
      ],
      "execution_count": null,
      "outputs": []
    },
    {
      "cell_type": "code",
      "metadata": {
        "id": "eHdht5hm7jMW"
      },
      "source": [
        "es = Elasticsearch([{\"host\":\"3.12.152.249\",\"port\":\"9200\"}])"
      ],
      "execution_count": null,
      "outputs": []
    },
    {
      "cell_type": "code",
      "metadata": {
        "id": "dZ7dYoUz7PX8",
        "outputId": "9ab1e6f0-96b6-4a53-d3d7-d6eafc45aa56"
      },
      "source": [
        "es.ping()"
      ],
      "execution_count": null,
      "outputs": [
        {
          "output_type": "execute_result",
          "data": {
            "text/plain": [
              "False"
            ]
          },
          "metadata": {
            "tags": []
          },
          "execution_count": 292
        }
      ]
    },
    {
      "cell_type": "code",
      "metadata": {
        "id": "dmWt8_tj7PX9"
      },
      "source": [
        "settings ={\n",
        "    'settings':{\n",
        "        'number_of_shards':1,\n",
        "        'number_of_replicas':0\n",
        "    },\n",
        "    'mappings':{'dynamic':'true','_source':{'enabled':'true'},\n",
        "        'properties':{\n",
        "            'image_vector':{\n",
        "                'type':'dense_vector',\n",
        "                'dims':1792\n",
        "            }\n",
        "        }\n",
        "    }\n",
        "}"
      ],
      "execution_count": null,
      "outputs": []
    },
    {
      "cell_type": "code",
      "metadata": {
        "id": "kq-mfbAQ7PX9",
        "outputId": "84936803-2f65-4846-b108-0d7f0a74de5d"
      },
      "source": [
        "es.indices.create(index='similarity-search',ignore=[400,404],body=settings)"
      ],
      "execution_count": null,
      "outputs": [
        {
          "output_type": "execute_result",
          "data": {
            "text/plain": [
              "{'acknowledged': True,\n",
              " 'shards_acknowledged': True,\n",
              " 'index': 'similarity-search'}"
            ]
          },
          "metadata": {
            "tags": []
          },
          "execution_count": 79
        }
      ]
    },
    {
      "cell_type": "code",
      "metadata": {
        "id": "NuEqIV107PX9",
        "outputId": "1c8dd266-e36b-4804-cea1-37e478145d64"
      },
      "source": [
        "res = es.indices.get_alias(['*'])\n",
        "for name in res:\n",
        "    print(name)"
      ],
      "execution_count": null,
      "outputs": [
        {
          "output_type": "stream",
          "text": [
            ".apm-agent-configuration\n",
            "similarity-search\n",
            ".kibana-event-log-7.12.0-000001\n",
            ".apm-custom-link\n",
            ".tasks\n",
            ".kibana_task_manager_7.12.0_001\n",
            ".kibana_7.12.0_001\n",
            ".ds-ilm-history-5-2021.04.14-000001\n"
          ],
          "name": "stdout"
        },
        {
          "output_type": "stream",
          "text": [
            "C:\\Users\\sdeva\\anaconda3\\lib\\site-packages\\elasticsearch\\connection\\base.py:200: ElasticsearchWarning: this request accesses system indices: [.apm-agent-configuration, .apm-custom-link, .tasks, .kibana_task_manager_7.12.0_001, .kibana_7.12.0_001], but in a future major version, direct access to system indices will be prevented by default\n",
            "  warnings.warn(message, category=ElasticsearchWarning)\n"
          ],
          "name": "stderr"
        }
      ]
    },
    {
      "cell_type": "code",
      "metadata": {
        "id": "LDWZZaDI7PX-"
      },
      "source": [
        "#es.indices.delete(index='similarity-search',ignore=[400,404])"
      ],
      "execution_count": null,
      "outputs": []
    },
    {
      "cell_type": "code",
      "metadata": {
        "id": "peVZoQQq7PX-"
      },
      "source": [
        "with open(r'D:\\ADM\\Assignments\\Assignment_3\\final_data','rb') as f:\n",
        "    df = pickle.load(f)"
      ],
      "execution_count": null,
      "outputs": []
    },
    {
      "cell_type": "code",
      "metadata": {
        "id": "XeBfONJD7PX-"
      },
      "source": [
        "df = df[df['product_id'].duplicated()]\n",
        "df.index.rename('picture_id',inplace=True)\n",
        "df.reset_index(inplace=True)"
      ],
      "execution_count": null,
      "outputs": []
    },
    {
      "cell_type": "code",
      "metadata": {
        "id": "93n6LjIV7PX-"
      },
      "source": [
        "with open(r'D:\\ADM\\Assignments\\Assignment_3\\image_vector_ELK','rb')as f:\n",
        "    image_vector = pickle.load(f)"
      ],
      "execution_count": null,
      "outputs": []
    },
    {
      "cell_type": "code",
      "metadata": {
        "id": "7qOrTReM7PX_",
        "outputId": "a7f18811-bad4-465f-d022-5afef7c63ae5"
      },
      "source": [
        "df"
      ],
      "execution_count": null,
      "outputs": [
        {
          "output_type": "execute_result",
          "data": {
            "text/html": [
              "<div>\n",
              "<style scoped>\n",
              "    .dataframe tbody tr th:only-of-type {\n",
              "        vertical-align: middle;\n",
              "    }\n",
              "\n",
              "    .dataframe tbody tr th {\n",
              "        vertical-align: top;\n",
              "    }\n",
              "\n",
              "    .dataframe thead th {\n",
              "        text-align: right;\n",
              "    }\n",
              "</style>\n",
              "<table border=\"1\" class=\"dataframe\">\n",
              "  <thead>\n",
              "    <tr style=\"text-align: right;\">\n",
              "      <th></th>\n",
              "      <th>picture_id</th>\n",
              "      <th>category_id</th>\n",
              "      <th>product_id</th>\n",
              "      <th>picture</th>\n",
              "    </tr>\n",
              "  </thead>\n",
              "  <tbody>\n",
              "    <tr>\n",
              "      <th>0</th>\n",
              "      <td>2</td>\n",
              "      <td>1000001703</td>\n",
              "      <td>2572285</td>\n",
              "      <td>{'picture': b'\\xff\\xd8\\xff\\xe0\\x00\\x10JFIF\\x00...</td>\n",
              "    </tr>\n",
              "    <tr>\n",
              "      <th>1</th>\n",
              "      <td>5</td>\n",
              "      <td>1000001703</td>\n",
              "      <td>2695158</td>\n",
              "      <td>{'picture': b'\\xff\\xd8\\xff\\xe0\\x00\\x10JFIF\\x00...</td>\n",
              "    </tr>\n",
              "    <tr>\n",
              "      <th>2</th>\n",
              "      <td>11</td>\n",
              "      <td>1000001703</td>\n",
              "      <td>2899743</td>\n",
              "      <td>{'picture': b'\\xff\\xd8\\xff\\xe0\\x00\\x10JFIF\\x00...</td>\n",
              "    </tr>\n",
              "    <tr>\n",
              "      <th>3</th>\n",
              "      <td>13</td>\n",
              "      <td>1000001703</td>\n",
              "      <td>2868296</td>\n",
              "      <td>{'picture': b'\\xff\\xd8\\xff\\xe0\\x00\\x10JFIF\\x00...</td>\n",
              "    </tr>\n",
              "    <tr>\n",
              "      <th>4</th>\n",
              "      <td>14</td>\n",
              "      <td>1000001703</td>\n",
              "      <td>2868296</td>\n",
              "      <td>{'picture': b'\\xff\\xd8\\xff\\xe0\\x00\\x10JFIF\\x00...</td>\n",
              "    </tr>\n",
              "    <tr>\n",
              "      <th>...</th>\n",
              "      <td>...</td>\n",
              "      <td>...</td>\n",
              "      <td>...</td>\n",
              "      <td>...</td>\n",
              "    </tr>\n",
              "    <tr>\n",
              "      <th>14549</th>\n",
              "      <td>33248</td>\n",
              "      <td>1000021535</td>\n",
              "      <td>2720744</td>\n",
              "      <td>{'picture': b'\\xff\\xd8\\xff\\xe0\\x00\\x10JFIF\\x00...</td>\n",
              "    </tr>\n",
              "    <tr>\n",
              "      <th>14550</th>\n",
              "      <td>33249</td>\n",
              "      <td>1000021535</td>\n",
              "      <td>2720744</td>\n",
              "      <td>{'picture': b'\\xff\\xd8\\xff\\xe0\\x00\\x10JFIF\\x00...</td>\n",
              "    </tr>\n",
              "    <tr>\n",
              "      <th>14551</th>\n",
              "      <td>33251</td>\n",
              "      <td>1000021535</td>\n",
              "      <td>2594064</td>\n",
              "      <td>{'picture': b'\\xff\\xd8\\xff\\xe0\\x00\\x10JFIF\\x00...</td>\n",
              "    </tr>\n",
              "    <tr>\n",
              "      <th>14552</th>\n",
              "      <td>33252</td>\n",
              "      <td>1000021535</td>\n",
              "      <td>2594064</td>\n",
              "      <td>{'picture': b'\\xff\\xd8\\xff\\xe0\\x00\\x10JFIF\\x00...</td>\n",
              "    </tr>\n",
              "    <tr>\n",
              "      <th>14553</th>\n",
              "      <td>33253</td>\n",
              "      <td>1000021535</td>\n",
              "      <td>2594064</td>\n",
              "      <td>{'picture': b'\\xff\\xd8\\xff\\xe0\\x00\\x10JFIF\\x00...</td>\n",
              "    </tr>\n",
              "  </tbody>\n",
              "</table>\n",
              "<p>14554 rows × 4 columns</p>\n",
              "</div>"
            ],
            "text/plain": [
              "       picture_id  category_id  product_id  \\\n",
              "0               2   1000001703     2572285   \n",
              "1               5   1000001703     2695158   \n",
              "2              11   1000001703     2899743   \n",
              "3              13   1000001703     2868296   \n",
              "4              14   1000001703     2868296   \n",
              "...           ...          ...         ...   \n",
              "14549       33248   1000021535     2720744   \n",
              "14550       33249   1000021535     2720744   \n",
              "14551       33251   1000021535     2594064   \n",
              "14552       33252   1000021535     2594064   \n",
              "14553       33253   1000021535     2594064   \n",
              "\n",
              "                                                 picture  \n",
              "0      {'picture': b'\\xff\\xd8\\xff\\xe0\\x00\\x10JFIF\\x00...  \n",
              "1      {'picture': b'\\xff\\xd8\\xff\\xe0\\x00\\x10JFIF\\x00...  \n",
              "2      {'picture': b'\\xff\\xd8\\xff\\xe0\\x00\\x10JFIF\\x00...  \n",
              "3      {'picture': b'\\xff\\xd8\\xff\\xe0\\x00\\x10JFIF\\x00...  \n",
              "4      {'picture': b'\\xff\\xd8\\xff\\xe0\\x00\\x10JFIF\\x00...  \n",
              "...                                                  ...  \n",
              "14549  {'picture': b'\\xff\\xd8\\xff\\xe0\\x00\\x10JFIF\\x00...  \n",
              "14550  {'picture': b'\\xff\\xd8\\xff\\xe0\\x00\\x10JFIF\\x00...  \n",
              "14551  {'picture': b'\\xff\\xd8\\xff\\xe0\\x00\\x10JFIF\\x00...  \n",
              "14552  {'picture': b'\\xff\\xd8\\xff\\xe0\\x00\\x10JFIF\\x00...  \n",
              "14553  {'picture': b'\\xff\\xd8\\xff\\xe0\\x00\\x10JFIF\\x00...  \n",
              "\n",
              "[14554 rows x 4 columns]"
            ]
          },
          "metadata": {
            "tags": []
          },
          "execution_count": 36
        }
      ]
    },
    {
      "cell_type": "code",
      "metadata": {
        "id": "R9g6uUWd7PX_"
      },
      "source": [
        "df = df[['picture_id','category_id','product_id']]"
      ],
      "execution_count": null,
      "outputs": []
    },
    {
      "cell_type": "code",
      "metadata": {
        "id": "8wKxFVUO7PX_"
      },
      "source": [
        "image_vector_df = pd.DataFrame(pd.Series(image_vector))"
      ],
      "execution_count": null,
      "outputs": []
    },
    {
      "cell_type": "code",
      "metadata": {
        "id": "L5aC-9Wp7PX_"
      },
      "source": [
        "image_vector_df.rename(columns={0:'image_vector'},inplace=True)\n",
        "image_vector_df.reset_index(inplace=True,drop=True)\n",
        "df = pd.concat([df,image_vector_df],axis=1)"
      ],
      "execution_count": null,
      "outputs": []
    },
    {
      "cell_type": "code",
      "metadata": {
        "id": "qoI5EFxP7PX_",
        "outputId": "c9296a40-f97f-41c8-8a9a-8ed0723d6574"
      },
      "source": [
        "df = df.to_dict('records')"
      ],
      "execution_count": null,
      "outputs": [
        {
          "output_type": "execute_result",
          "data": {
            "text/plain": [
              "[{'picture_id': 2,\n",
              "  'category_id': 1000001703,\n",
              "  'product_id': 2572285,\n",
              "  'image_vector': array([0.08868098, 1.0076277 , 0.        , ..., 1.0113069 , 0.13078898,\n",
              "         0.42825773], dtype=float32)},\n",
              " {'picture_id': 5,\n",
              "  'category_id': 1000001703,\n",
              "  'product_id': 2695158,\n",
              "  'image_vector': array([0.18519479, 2.2332072 , 0.        , ..., 0.29967332, 0.        ,\n",
              "         0.16150214], dtype=float32)}]"
            ]
          },
          "metadata": {
            "tags": []
          },
          "execution_count": 97
        }
      ]
    },
    {
      "cell_type": "code",
      "metadata": {
        "id": "eSVOG-A07PYA"
      },
      "source": [
        "def generator(df):\n",
        "    for c, line in enumerate(df):\n",
        "        yield{\n",
        "            '_index':'similarity-search',\n",
        "            '_type':'_doc',\n",
        "            '_id':c,\n",
        "            '_source':{\n",
        "                'picture_id':line.get('picture_id',\"\"),\n",
        "                'category_id':line.get('category_id',\"\"),\n",
        "                'product_id':line.get('product_id',\"\"),\n",
        "                'image_vector':line.get('image_vector',\"\")\n",
        "            }\n",
        "        }\n",
        "    raise StopIteration"
      ],
      "execution_count": null,
      "outputs": []
    },
    {
      "cell_type": "code",
      "metadata": {
        "id": "ZqJXiX747PYA"
      },
      "source": [
        "load = generator(df)"
      ],
      "execution_count": null,
      "outputs": []
    },
    {
      "cell_type": "code",
      "metadata": {
        "id": "8n1STMEL7PYA",
        "outputId": "637a96da-6d55-4716-f7ff-9d6864da5a08"
      },
      "source": [
        "#next(load)"
      ],
      "execution_count": null,
      "outputs": [
        {
          "output_type": "execute_result",
          "data": {
            "text/plain": [
              "{'_index': 'similarity-search',\n",
              " '_type': '_doc',\n",
              " '_id': 0,\n",
              " '_source': {'picture_id': 2,\n",
              "  'category_id': 1000001703,\n",
              "  'product_id': 2572285,\n",
              "  'image_vector': array([0.08868098, 1.0076277 , 0.        , ..., 1.0113069 , 0.13078898,\n",
              "         0.42825773], dtype=float32)}}"
            ]
          },
          "metadata": {
            "tags": []
          },
          "execution_count": 71
        }
      ]
    },
    {
      "cell_type": "code",
      "metadata": {
        "id": "W0mpEfJa7PYA"
      },
      "source": [
        "try:\n",
        "    res = helpers.bulk(es,generator(df))\n",
        "except Exception as e:\n",
        "    pass"
      ],
      "execution_count": null,
      "outputs": []
    },
    {
      "cell_type": "code",
      "metadata": {
        "id": "omVO22DX7PYB",
        "outputId": "a458bf91-0fb9-4251-cdd6-392e852c31dc"
      },
      "source": [
        "res"
      ],
      "execution_count": null,
      "outputs": [
        {
          "output_type": "execute_result",
          "data": {
            "text/plain": [
              "{'.apm-agent-configuration': {'aliases': {}},\n",
              " 'similarity-search': {'aliases': {}},\n",
              " '.kibana-event-log-7.12.0-000001': {'aliases': {'.kibana-event-log-7.12.0': {'is_write_index': True}}},\n",
              " '.apm-custom-link': {'aliases': {}},\n",
              " '.tasks': {'aliases': {}},\n",
              " '.kibana_task_manager_7.12.0_001': {'aliases': {'.kibana_task_manager': {},\n",
              "   '.kibana_task_manager_7.12.0': {}}},\n",
              " '.kibana_7.12.0_001': {'aliases': {'.kibana': {}, '.kibana_7.12.0': {}}},\n",
              " '.ds-ilm-history-5-2021.04.14-000001': {'aliases': {}}}"
            ]
          },
          "metadata": {
            "tags": []
          },
          "execution_count": 81
        }
      ]
    },
    {
      "cell_type": "code",
      "metadata": {
        "id": "dbjRBdkK7PYB",
        "outputId": "5e6fd6b2-9201-46a5-bb20-0733968379de"
      },
      "source": [
        "es.indices.delete(index='similarity-search',ignore=[400,404])"
      ],
      "execution_count": null,
      "outputs": [
        {
          "output_type": "execute_result",
          "data": {
            "text/plain": [
              "{'acknowledged': True}"
            ]
          },
          "metadata": {
            "tags": []
          },
          "execution_count": 76
        }
      ]
    },
    {
      "cell_type": "code",
      "metadata": {
        "id": "Aja_Qici7PYB"
      },
      "source": [
        "df2 = pd.DataFrame(df)"
      ],
      "execution_count": null,
      "outputs": []
    },
    {
      "cell_type": "code",
      "metadata": {
        "id": "5UcKcygh7PYB"
      },
      "source": [
        "df2.drop(['image_vector'],axis=1,inplace=True)"
      ],
      "execution_count": null,
      "outputs": []
    },
    {
      "cell_type": "code",
      "metadata": {
        "id": "-R0vbrQV7PYB",
        "outputId": "f8dbbf29-e6ea-4684-cf26-f6137bd35a0d"
      },
      "source": [
        "df2.drop_duplicates()"
      ],
      "execution_count": null,
      "outputs": [
        {
          "output_type": "execute_result",
          "data": {
            "text/html": [
              "<div>\n",
              "<style scoped>\n",
              "    .dataframe tbody tr th:only-of-type {\n",
              "        vertical-align: middle;\n",
              "    }\n",
              "\n",
              "    .dataframe tbody tr th {\n",
              "        vertical-align: top;\n",
              "    }\n",
              "\n",
              "    .dataframe thead th {\n",
              "        text-align: right;\n",
              "    }\n",
              "</style>\n",
              "<table border=\"1\" class=\"dataframe\">\n",
              "  <thead>\n",
              "    <tr style=\"text-align: right;\">\n",
              "      <th></th>\n",
              "      <th>picture_id</th>\n",
              "      <th>category_id</th>\n",
              "      <th>product_id</th>\n",
              "    </tr>\n",
              "  </thead>\n",
              "  <tbody>\n",
              "    <tr>\n",
              "      <th>0</th>\n",
              "      <td>2</td>\n",
              "      <td>1000001703</td>\n",
              "      <td>2572285</td>\n",
              "    </tr>\n",
              "    <tr>\n",
              "      <th>1</th>\n",
              "      <td>5</td>\n",
              "      <td>1000001703</td>\n",
              "      <td>2695158</td>\n",
              "    </tr>\n",
              "    <tr>\n",
              "      <th>2</th>\n",
              "      <td>11</td>\n",
              "      <td>1000001703</td>\n",
              "      <td>2899743</td>\n",
              "    </tr>\n",
              "    <tr>\n",
              "      <th>3</th>\n",
              "      <td>13</td>\n",
              "      <td>1000001703</td>\n",
              "      <td>2868296</td>\n",
              "    </tr>\n",
              "    <tr>\n",
              "      <th>4</th>\n",
              "      <td>14</td>\n",
              "      <td>1000001703</td>\n",
              "      <td>2868296</td>\n",
              "    </tr>\n",
              "    <tr>\n",
              "      <th>...</th>\n",
              "      <td>...</td>\n",
              "      <td>...</td>\n",
              "      <td>...</td>\n",
              "    </tr>\n",
              "    <tr>\n",
              "      <th>14549</th>\n",
              "      <td>33248</td>\n",
              "      <td>1000021535</td>\n",
              "      <td>2720744</td>\n",
              "    </tr>\n",
              "    <tr>\n",
              "      <th>14550</th>\n",
              "      <td>33249</td>\n",
              "      <td>1000021535</td>\n",
              "      <td>2720744</td>\n",
              "    </tr>\n",
              "    <tr>\n",
              "      <th>14551</th>\n",
              "      <td>33251</td>\n",
              "      <td>1000021535</td>\n",
              "      <td>2594064</td>\n",
              "    </tr>\n",
              "    <tr>\n",
              "      <th>14552</th>\n",
              "      <td>33252</td>\n",
              "      <td>1000021535</td>\n",
              "      <td>2594064</td>\n",
              "    </tr>\n",
              "    <tr>\n",
              "      <th>14553</th>\n",
              "      <td>33253</td>\n",
              "      <td>1000021535</td>\n",
              "      <td>2594064</td>\n",
              "    </tr>\n",
              "  </tbody>\n",
              "</table>\n",
              "<p>14554 rows × 3 columns</p>\n",
              "</div>"
            ],
            "text/plain": [
              "       picture_id  category_id  product_id\n",
              "0               2   1000001703     2572285\n",
              "1               5   1000001703     2695158\n",
              "2              11   1000001703     2899743\n",
              "3              13   1000001703     2868296\n",
              "4              14   1000001703     2868296\n",
              "...           ...          ...         ...\n",
              "14549       33248   1000021535     2720744\n",
              "14550       33249   1000021535     2720744\n",
              "14551       33251   1000021535     2594064\n",
              "14552       33252   1000021535     2594064\n",
              "14553       33253   1000021535     2594064\n",
              "\n",
              "[14554 rows x 3 columns]"
            ]
          },
          "metadata": {
            "tags": []
          },
          "execution_count": 91
        }
      ]
    },
    {
      "cell_type": "code",
      "metadata": {
        "id": "iwzwORrt7PYC",
        "outputId": "fe8ee8fd-aa8d-46f0-ae65-b1cf45dafeff"
      },
      "source": [
        "df[1003]"
      ],
      "execution_count": null,
      "outputs": [
        {
          "output_type": "execute_result",
          "data": {
            "text/plain": [
              "{'picture_id': 2096,\n",
              " 'category_id': 1000001859,\n",
              " 'product_id': 2701435,\n",
              " 'image_vector': array([0.6989746, 1.6283829, 0.       , ..., 0.       , 0.       ,\n",
              "        0.       ], dtype=float32)}"
            ]
          },
          "metadata": {
            "tags": []
          },
          "execution_count": 203
        }
      ]
    },
    {
      "cell_type": "code",
      "metadata": {
        "id": "MP7TqTWG7PYC",
        "outputId": "faa357c6-9fb8-438a-cedb-de82aced59fa"
      },
      "source": [
        "User_Query_Vector = df[1003]['image_vector']\n",
        "df[1003]['picture_id']"
      ],
      "execution_count": null,
      "outputs": [
        {
          "output_type": "execute_result",
          "data": {
            "text/plain": [
              "2096"
            ]
          },
          "metadata": {
            "tags": []
          },
          "execution_count": 217
        }
      ]
    },
    {
      "cell_type": "code",
      "metadata": {
        "id": "RU8TY6vt7PYC"
      },
      "source": [
        "script_query = {\n",
        "    \"script_score\": {\n",
        "        \"query\": {\"match_all\": {}},\n",
        "        \"script\": {\n",
        "            \"source\": \"cosineSimilarity(params.query_vector, doc['image_vector'])\",\n",
        "            \"params\": {\"query_vector\": User_Query_Vector}\n",
        "        }\n",
        "    }\n",
        "}"
      ],
      "execution_count": null,
      "outputs": []
    },
    {
      "cell_type": "code",
      "metadata": {
        "id": "hqID3zXW7PYC"
      },
      "source": [
        "es1 = Elasticsearch()\n",
        "res1 = es1.search(index='similarity-search',body={\"from\":0,\"size\": 10,\"query\": script_query,\"_source\":[\"picture_id\"]},\\\n",
        "                                                  scroll=\"1m\")"
      ],
      "execution_count": null,
      "outputs": []
    },
    {
      "cell_type": "code",
      "metadata": {
        "id": "9R2XlXgn7PYC",
        "outputId": "d7b03332-9a96-4b0c-9206-fda1371598ff"
      },
      "source": [
        "res1"
      ],
      "execution_count": null,
      "outputs": [
        {
          "output_type": "execute_result",
          "data": {
            "text/plain": [
              "{'_scroll_id': 'FGluY2x1ZGVfY29udGV4dF91dWlkDXF1ZXJ5QW5kRmV0Y2gBFnAyaXNGd2g2UjNDd2dMZ3A3ZnJzbncAAAAAAABtIBY1QjJlNWQ4VlRzaWg0LWZsZkJyLUh3',\n",
              " 'took': 329,\n",
              " 'timed_out': False,\n",
              " '_shards': {'total': 1, 'successful': 1, 'skipped': 0, 'failed': 0},\n",
              " 'hits': {'total': {'value': 14500, 'relation': 'eq'},\n",
              "  'max_score': 1.0,\n",
              "  'hits': [{'_index': 'similarity-search',\n",
              "    '_type': '_doc',\n",
              "    '_id': '1003',\n",
              "    '_score': 1.0,\n",
              "    '_source': {'picture_id': 2096}},\n",
              "   {'_index': 'similarity-search',\n",
              "    '_type': '_doc',\n",
              "    '_id': '1004',\n",
              "    '_score': 0.8953304,\n",
              "    '_source': {'picture_id': 2097}},\n",
              "   {'_index': 'similarity-search',\n",
              "    '_type': '_doc',\n",
              "    '_id': '401',\n",
              "    '_score': 0.87465703,\n",
              "    '_source': {'picture_id': 911}},\n",
              "   {'_index': 'similarity-search',\n",
              "    '_type': '_doc',\n",
              "    '_id': '1484',\n",
              "    '_score': 0.8621188,\n",
              "    '_source': {'picture_id': 3186}},\n",
              "   {'_index': 'similarity-search',\n",
              "    '_type': '_doc',\n",
              "    '_id': '259',\n",
              "    '_score': 0.84447503,\n",
              "    '_source': {'picture_id': 625}},\n",
              "   {'_index': 'similarity-search',\n",
              "    '_type': '_doc',\n",
              "    '_id': '1483',\n",
              "    '_score': 0.8424376,\n",
              "    '_source': {'picture_id': 3184}},\n",
              "   {'_index': 'similarity-search',\n",
              "    '_type': '_doc',\n",
              "    '_id': '5375',\n",
              "    '_score': 0.84128803,\n",
              "    '_source': {'picture_id': 13292}},\n",
              "   {'_index': 'similarity-search',\n",
              "    '_type': '_doc',\n",
              "    '_id': '466',\n",
              "    '_score': 0.840259,\n",
              "    '_source': {'picture_id': 1076}},\n",
              "   {'_index': 'similarity-search',\n",
              "    '_type': '_doc',\n",
              "    '_id': '11268',\n",
              "    '_score': 0.8380606,\n",
              "    '_source': {'picture_id': 24498}},\n",
              "   {'_index': 'similarity-search',\n",
              "    '_type': '_doc',\n",
              "    '_id': '11269',\n",
              "    '_score': 0.8380606,\n",
              "    '_source': {'picture_id': 24499}}]}}"
            ]
          },
          "metadata": {
            "tags": []
          },
          "execution_count": 245
        }
      ]
    },
    {
      "cell_type": "code",
      "metadata": {
        "id": "4dheAgio7PYD"
      },
      "source": [
        "scroll_id = res1['_scroll_id']\n",
        "res2 = es.scroll(scroll_id=scroll_id,scroll='1m')"
      ],
      "execution_count": null,
      "outputs": []
    },
    {
      "cell_type": "code",
      "metadata": {
        "id": "bY3tNvkZ7PYD",
        "outputId": "e2fd9e4d-f161-4a18-9600-76800cca497a"
      },
      "source": [
        "res2"
      ],
      "execution_count": null,
      "outputs": [
        {
          "output_type": "execute_result",
          "data": {
            "text/plain": [
              "{'_scroll_id': 'FGluY2x1ZGVfY29udGV4dF91dWlkDXF1ZXJ5QW5kRmV0Y2gBFnAyaXNGd2g2UjNDd2dMZ3A3ZnJzbncAAAAAAABtIBY1QjJlNWQ4VlRzaWg0LWZsZkJyLUh3',\n",
              " 'took': 291,\n",
              " 'timed_out': False,\n",
              " '_shards': {'total': 1, 'successful': 1, 'skipped': 0, 'failed': 0},\n",
              " 'hits': {'total': {'value': 14500, 'relation': 'eq'},\n",
              "  'max_score': 1.0,\n",
              "  'hits': [{'_index': 'similarity-search',\n",
              "    '_type': '_doc',\n",
              "    '_id': '13693',\n",
              "    '_score': 0.8279558,\n",
              "    '_source': {'picture_id': 31886}},\n",
              "   {'_index': 'similarity-search',\n",
              "    '_type': '_doc',\n",
              "    '_id': '6664',\n",
              "    '_score': 0.82756114,\n",
              "    '_source': {'picture_id': 15485}},\n",
              "   {'_index': 'similarity-search',\n",
              "    '_type': '_doc',\n",
              "    '_id': '10521',\n",
              "    '_score': 0.82673085,\n",
              "    '_source': {'picture_id': 22769}},\n",
              "   {'_index': 'similarity-search',\n",
              "    '_type': '_doc',\n",
              "    '_id': '11476',\n",
              "    '_score': 0.82586306,\n",
              "    '_source': {'picture_id': 24973}},\n",
              "   {'_index': 'similarity-search',\n",
              "    '_type': '_doc',\n",
              "    '_id': '966',\n",
              "    '_score': 0.825293,\n",
              "    '_source': {'picture_id': 2027}},\n",
              "   {'_index': 'similarity-search',\n",
              "    '_type': '_doc',\n",
              "    '_id': '13606',\n",
              "    '_score': 0.824542,\n",
              "    '_source': {'picture_id': 31744}},\n",
              "   {'_index': 'similarity-search',\n",
              "    '_type': '_doc',\n",
              "    '_id': '13642',\n",
              "    '_score': 0.82430035,\n",
              "    '_source': {'picture_id': 31801}},\n",
              "   {'_index': 'similarity-search',\n",
              "    '_type': '_doc',\n",
              "    '_id': '13644',\n",
              "    '_score': 0.82430035,\n",
              "    '_source': {'picture_id': 31803}},\n",
              "   {'_index': 'similarity-search',\n",
              "    '_type': '_doc',\n",
              "    '_id': '13678',\n",
              "    '_score': 0.82418597,\n",
              "    '_source': {'picture_id': 31864}},\n",
              "   {'_index': 'similarity-search',\n",
              "    '_type': '_doc',\n",
              "    '_id': '826',\n",
              "    '_score': 0.8238678,\n",
              "    '_source': {'picture_id': 1780}}]}}"
            ]
          },
          "metadata": {
            "tags": []
          },
          "execution_count": 249
        }
      ]
    },
    {
      "cell_type": "code",
      "metadata": {
        "id": "uNiOx3cL7PYD"
      },
      "source": [
        "pic_id = []\n",
        "scores = []\n",
        "for dic in res1['hits']['hits']:\n",
        "    pic_id.append(dic['_source']['picture_id'])\n",
        "    scores.append(dic['_score'])"
      ],
      "execution_count": null,
      "outputs": []
    },
    {
      "cell_type": "code",
      "metadata": {
        "id": "GRLe2his7PYD",
        "outputId": "cb6e9677-4fd2-4457-e710-2f306b176e07"
      },
      "source": [
        "pic_id"
      ],
      "execution_count": null,
      "outputs": [
        {
          "output_type": "execute_result",
          "data": {
            "text/plain": [
              "[2096, 2097, 911, 3186, 625, 3184, 13292, 1076, 24498, 24499]"
            ]
          },
          "metadata": {
            "tags": []
          },
          "execution_count": 222
        }
      ]
    },
    {
      "cell_type": "code",
      "metadata": {
        "id": "Ni2LXnst7PYD"
      },
      "source": [
        "with open(r'D:\\ADM\\Assignments\\Assignment_3\\fourteen_images_dict_pickle','rb')as f:\n",
        "    images = pickle.load(f)"
      ],
      "execution_count": null,
      "outputs": []
    },
    {
      "cell_type": "code",
      "metadata": {
        "id": "KLySlXqn7PYE",
        "outputId": "40a5159f-8d9f-4513-a674-fafaefb93cd6"
      },
      "source": [
        "plt.imshow(images[2096])"
      ],
      "execution_count": null,
      "outputs": [
        {
          "output_type": "execute_result",
          "data": {
            "text/plain": [
              "<matplotlib.image.AxesImage at 0x1b9a86f0148>"
            ]
          },
          "metadata": {
            "tags": []
          },
          "execution_count": 206
        },
        {
          "output_type": "display_data",
          "data": {
            "image/png": "[encoded data removed]",
            "text/plain": [
              "<Figure size 432x288 with 1 Axes>"
            ]
          },
          "metadata": {
            "tags": [],
            "needs_background": "light"
          }
        }
      ]
    },
    {
      "cell_type": "code",
      "metadata": {
        "id": "rg6bQO3I7PYE",
        "outputId": "f8d48087-4da1-4183-aac9-e74b14cff398"
      },
      "source": [
        "f, ax = plt.subplots(1, len(pic_id), figsize=(20, 10))\n",
        "for i, p_id in enumerate(pic_id):\n",
        "    ax[i].imshow(images[p_id])\n",
        "    ax[i].text(0,224,scores[i])\n",
        "    ax[i].set_axis_off() "
      ],
      "execution_count": null,
      "outputs": [
        {
          "output_type": "display_data",
          "data": {
            "image/png": "[encoded data removed]",
            "text/plain": [
              "<Figure size 1440x720 with 10 Axes>"
            ]
          },
          "metadata": {
            "tags": [],
            "needs_background": "light"
          }
        }
      ]
    }
  ]
}
