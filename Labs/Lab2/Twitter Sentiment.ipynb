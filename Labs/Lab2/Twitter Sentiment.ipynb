{
 "cells": [
  {
   "cell_type": "code",
   "execution_count": 1,
   "id": "severe-weapon",
   "metadata": {
    "ExecuteTime": {
     "end_time": "2021-03-06T05:47:18.315534Z",
     "start_time": "2021-03-06T05:47:15.266174Z"
    }
   },
   "outputs": [],
   "source": [
    "import os\n",
    "import pandas as pd\n",
    "import matplotlib.pyplot as plt\n",
    "import seaborn as sns\n",
    "import itertools\n",
    "import collections\n",
    "\n",
    "import tweepy as tw\n",
    "import nltk\n",
    "from nltk.corpus import stopwords\n",
    "import re\n",
    "import networkx\n",
    "from textblob import TextBlob\n",
    "\n",
    "import warnings\n",
    "warnings.filterwarnings(\"ignore\")\n",
    "\n",
    "sns.set(font_scale=1.5)\n",
    "sns.set_style(\"whitegrid\")\n"
   ]
  },
  {
   "cell_type": "code",
   "execution_count": 2,
   "id": "soviet-shipping",
   "metadata": {
    "ExecuteTime": {
     "end_time": "2021-03-06T05:47:19.886185Z",
     "start_time": "2021-03-06T05:47:19.866014Z"
    }
   },
   "outputs": [],
   "source": [
    "consumer_key = os.getenv(\"TWITTER_API_KEY\")\n",
    "consumer_secret = os.getenv(\"TWITTER_API_SECRET\")\n",
    "bearer_token = os.getenv(\"TWITTER_BEARER_TOKEN\")\n",
    "access_token = os.getenv(\"TWITTER_ACCESS_TOKEN\")\n",
    "access_secret = os.getenv(\"TWITTER_ACCESS_SECRET\")"
   ]
  },
  {
   "cell_type": "code",
   "execution_count": 3,
   "id": "previous-committee",
   "metadata": {
    "ExecuteTime": {
     "end_time": "2021-03-06T05:47:21.182775Z",
     "start_time": "2021-03-06T05:47:21.168799Z"
    }
   },
   "outputs": [],
   "source": [
    "auth = tw.OAuthHandler(consumer_key, consumer_secret)\n",
    "auth.set_access_token(access_token, access_secret)\n",
    "api = tw.API(auth, wait_on_rate_limit=True)\n",
    "\n"
   ]
  },
  {
   "cell_type": "code",
   "execution_count": 4,
   "id": "chronic-brass",
   "metadata": {
    "ExecuteTime": {
     "end_time": "2021-03-06T05:47:22.613193Z",
     "start_time": "2021-03-06T05:47:22.601192Z"
    }
   },
   "outputs": [],
   "source": [
    "def remove_url(txt):\n",
    "    \"\"\"Replace URLs found in a text string with nothing \n",
    "    (i.e. it will remove the URL from the string).\n",
    "\n",
    "    Parameters\n",
    "    ----------\n",
    "    txt : string\n",
    "        A text string that you want to parse and remove urls.\n",
    "\n",
    "    Returns\n",
    "    -------\n",
    "    The same txt string with url's removed.\n",
    "    \"\"\"\n",
    "\n",
    "    return \" \".join(re.sub(\"([^0-9A-Za-z \\t])|(\\w+:\\/\\/\\S+)\", \"\", txt).split())\n"
   ]
  },
  {
   "cell_type": "code",
   "execution_count": 5,
   "id": "acquired-flower",
   "metadata": {
    "ExecuteTime": {
     "end_time": "2021-03-06T05:54:48.936675Z",
     "start_time": "2021-03-06T05:47:26.526701Z"
    }
   },
   "outputs": [],
   "source": [
    "# Create a custom search term and define the number of tweets\n",
    "search_term = \"#climate+change -filter:retweets\"\n",
    "\n",
    "tweets = tw.Cursor(api.search,\n",
    "                   q=search_term,\n",
    "                   lang=\"en\",\n",
    "                   since='2018-11-01').items(1000)\n",
    "\n",
    "# Remove URLs\n",
    "tweets_no_urls = [remove_url(tweet.text) for tweet in tweets]\n"
   ]
  },
  {
   "cell_type": "markdown",
   "id": "funded-tablet",
   "metadata": {},
   "source": [
    "# Analyzing Sentiments in tweets"
   ]
  },
  {
   "cell_type": "code",
   "execution_count": 6,
   "id": "wanted-inventory",
   "metadata": {
    "ExecuteTime": {
     "end_time": "2021-03-06T05:57:52.937915Z",
     "start_time": "2021-03-06T05:57:52.886917Z"
    }
   },
   "outputs": [
    {
     "data": {
      "text/plain": [
       "(0.03333333333333333,\n",
       " TextBlob(\"Leonardo DiCaprio is fighting climate change by urging his 37 million social media followers to replace meat with v\"))"
      ]
     },
     "execution_count": 6,
     "metadata": {},
     "output_type": "execute_result"
    }
   ],
   "source": [
    "# Create textblob objects of the tweets\n",
    "sentiment_objects = [TextBlob(tweet) for tweet in tweets_no_urls]\n",
    "\n",
    "sentiment_objects[0].polarity, sentiment_objects[0]\n"
   ]
  },
  {
   "cell_type": "code",
   "execution_count": 7,
   "id": "adjusted-cooling",
   "metadata": {
    "ExecuteTime": {
     "end_time": "2021-03-06T05:57:54.632724Z",
     "start_time": "2021-03-06T05:57:54.407724Z"
    }
   },
   "outputs": [
    {
     "data": {
      "text/plain": [
       "[0.03333333333333333,\n",
       " 'Leonardo DiCaprio is fighting climate change by urging his 37 million social media followers to replace meat with v']"
      ]
     },
     "execution_count": 7,
     "metadata": {},
     "output_type": "execute_result"
    }
   ],
   "source": [
    "# Create list of polarity valuesx and tweet text\n",
    "sentiment_values = [[tweet.sentiment.polarity, str(tweet)] for tweet in sentiment_objects]\n",
    "\n",
    "sentiment_values[0]\n"
   ]
  },
  {
   "cell_type": "code",
   "execution_count": 8,
   "id": "tested-prospect",
   "metadata": {
    "ExecuteTime": {
     "end_time": "2021-03-06T05:57:56.121919Z",
     "start_time": "2021-03-06T05:57:56.088920Z"
    }
   },
   "outputs": [
    {
     "data": {
      "text/html": [
       "<div>\n",
       "<style scoped>\n",
       "    .dataframe tbody tr th:only-of-type {\n",
       "        vertical-align: middle;\n",
       "    }\n",
       "\n",
       "    .dataframe tbody tr th {\n",
       "        vertical-align: top;\n",
       "    }\n",
       "\n",
       "    .dataframe thead th {\n",
       "        text-align: right;\n",
       "    }\n",
       "</style>\n",
       "<table border=\"1\" class=\"dataframe\">\n",
       "  <thead>\n",
       "    <tr style=\"text-align: right;\">\n",
       "      <th></th>\n",
       "      <th>polarity</th>\n",
       "      <th>tweet</th>\n",
       "    </tr>\n",
       "  </thead>\n",
       "  <tbody>\n",
       "    <tr>\n",
       "      <th>0</th>\n",
       "      <td>0.033333</td>\n",
       "      <td>Leonardo DiCaprio is fighting climate change b...</td>\n",
       "    </tr>\n",
       "    <tr>\n",
       "      <th>1</th>\n",
       "      <td>0.000000</td>\n",
       "      <td>KenRoss777312 nellylomar SophiaPapadop10 Loren...</td>\n",
       "    </tr>\n",
       "    <tr>\n",
       "      <th>2</th>\n",
       "      <td>0.122222</td>\n",
       "      <td>Federal government announces creation of domes...</td>\n",
       "    </tr>\n",
       "    <tr>\n",
       "      <th>3</th>\n",
       "      <td>0.000000</td>\n",
       "      <td>If they restrict building materials that threa...</td>\n",
       "    </tr>\n",
       "    <tr>\n",
       "      <th>4</th>\n",
       "      <td>0.000000</td>\n",
       "      <td>Why declare brantford in a ClimateEmergency an...</td>\n",
       "    </tr>\n",
       "  </tbody>\n",
       "</table>\n",
       "</div>"
      ],
      "text/plain": [
       "   polarity                                              tweet\n",
       "0  0.033333  Leonardo DiCaprio is fighting climate change b...\n",
       "1  0.000000  KenRoss777312 nellylomar SophiaPapadop10 Loren...\n",
       "2  0.122222  Federal government announces creation of domes...\n",
       "3  0.000000  If they restrict building materials that threa...\n",
       "4  0.000000  Why declare brantford in a ClimateEmergency an..."
      ]
     },
     "execution_count": 8,
     "metadata": {},
     "output_type": "execute_result"
    }
   ],
   "source": [
    "# Create dataframe containing the polarity value and tweet text\n",
    "sentiment_df = pd.DataFrame(sentiment_values, columns=[\"polarity\", \"tweet\"])\n",
    "\n",
    "sentiment_df.head()\n"
   ]
  },
  {
   "cell_type": "code",
   "execution_count": 9,
   "id": "found-speaking",
   "metadata": {
    "ExecuteTime": {
     "end_time": "2021-03-06T05:57:57.922415Z",
     "start_time": "2021-03-06T05:57:57.665005Z"
    }
   },
   "outputs": [
    {
     "data": {
      "image/png": "[encoded data removed]",
      "text/plain": [
       "<Figure size 576x432 with 1 Axes>"
      ]
     },
     "metadata": {},
     "output_type": "display_data"
    }
   ],
   "source": [
    "fig, ax = plt.subplots(figsize=(8, 6))\n",
    "\n",
    "# Plot histogram of the polarity values\n",
    "sentiment_df.hist(bins=[-1, -0.75, -0.5, -0.25, 0.25, 0.5, 0.75, 1],\n",
    "             ax=ax,\n",
    "             color=\"purple\")\n",
    "\n",
    "plt.title(\"Sentiments from Tweets on Climate Change\")\n",
    "plt.show()\n"
   ]
  },
  {
   "cell_type": "code",
   "execution_count": 10,
   "id": "basic-progress",
   "metadata": {
    "ExecuteTime": {
     "end_time": "2021-03-06T05:57:58.826627Z",
     "start_time": "2021-03-06T05:57:58.798415Z"
    }
   },
   "outputs": [],
   "source": [
    "# Remove polarity values equal to zero\n",
    "sentiment_df = sentiment_df[sentiment_df.polarity != 0]\n"
   ]
  },
  {
   "cell_type": "code",
   "execution_count": 11,
   "id": "persistent-spray",
   "metadata": {
    "ExecuteTime": {
     "end_time": "2021-03-06T05:58:00.507672Z",
     "start_time": "2021-03-06T05:58:00.312933Z"
    }
   },
   "outputs": [
    {
     "data": {
      "image/png": "[encoded data removed]",
      "text/plain": [
       "<Figure size 576x432 with 1 Axes>"
      ]
     },
     "metadata": {},
     "output_type": "display_data"
    }
   ],
   "source": [
    "fig, ax = plt.subplots(figsize=(8, 6))\n",
    "\n",
    "# Plot histogram with break at zero\n",
    "sentiment_df.hist(bins=[-1, -0.75, -0.5, -0.25, 0.0, 0.25, 0.5, 0.75, 1],\n",
    "             ax=ax,\n",
    "             color=\"purple\")\n",
    "\n",
    "plt.title(\"Sentiments from Tweets on Climate Change\")\n",
    "plt.show()\n"
   ]
  },
  {
   "cell_type": "code",
   "execution_count": 12,
   "id": "derived-parking",
   "metadata": {
    "ExecuteTime": {
     "end_time": "2021-03-06T05:58:32.321428Z",
     "start_time": "2021-03-06T05:58:01.275730Z"
    }
   },
   "outputs": [
    {
     "data": {
      "text/plain": [
       "[TextBlob(\"Climate change and environnement are great concern for the future of mankind Shri narendramodi jis global lead\"),\n",
       " TextBlob(\"Leonardo DiCaprio is fighting climate change by urging his 37 million social media followers to replace meat with v\"),\n",
       " TextBlob(\"KenRoss777312 nellylomar SophiaPapadop10 LorenzoRossi29 TomZapiecki AnnaBal21262002 AponoKamsa angelikadelf\"),\n",
       " TextBlob(\"Federal government announces creation of domestic carbon offset system to further support clean growth GHG carbon\"),\n",
       " TextBlob(\"If they restrict building materials that threaten to flood coastal cities in California with catastrophic climate\")]"
      ]
     },
     "execution_count": 12,
     "metadata": {},
     "output_type": "execute_result"
    }
   ],
   "source": [
    "earch_term = \"#CampFire -filter:retweets\"\n",
    "\n",
    "tweets = tw.Cursor(api.search,\n",
    "                   q=search_term,\n",
    "                   lang=\"en\",\n",
    "                   since='2018-09-23').items(1000)\n",
    "\n",
    "# Remove URLs and create textblob object for each tweet\n",
    "all_tweets_no_urls = [TextBlob(remove_url(tweet.text)) for tweet in tweets]\n",
    "\n",
    "all_tweets_no_urls[:5]"
   ]
  },
  {
   "cell_type": "code",
   "execution_count": 13,
   "id": "banner-tower",
   "metadata": {
    "ExecuteTime": {
     "end_time": "2021-03-06T06:15:06.404183Z",
     "start_time": "2021-03-06T06:15:06.151005Z"
    }
   },
   "outputs": [
    {
     "data": {
      "text/html": [
       "<div>\n",
       "<style scoped>\n",
       "    .dataframe tbody tr th:only-of-type {\n",
       "        vertical-align: middle;\n",
       "    }\n",
       "\n",
       "    .dataframe tbody tr th {\n",
       "        vertical-align: top;\n",
       "    }\n",
       "\n",
       "    .dataframe thead th {\n",
       "        text-align: right;\n",
       "    }\n",
       "</style>\n",
       "<table border=\"1\" class=\"dataframe\">\n",
       "  <thead>\n",
       "    <tr style=\"text-align: right;\">\n",
       "      <th></th>\n",
       "      <th>polarity</th>\n",
       "      <th>tweet</th>\n",
       "    </tr>\n",
       "  </thead>\n",
       "  <tbody>\n",
       "    <tr>\n",
       "      <th>0</th>\n",
       "      <td>0.266667</td>\n",
       "      <td>Climate change and environnement are great con...</td>\n",
       "    </tr>\n",
       "    <tr>\n",
       "      <th>1</th>\n",
       "      <td>0.033333</td>\n",
       "      <td>Leonardo DiCaprio is fighting climate change b...</td>\n",
       "    </tr>\n",
       "    <tr>\n",
       "      <th>3</th>\n",
       "      <td>0.122222</td>\n",
       "      <td>Federal government announces creation of domes...</td>\n",
       "    </tr>\n",
       "    <tr>\n",
       "      <th>7</th>\n",
       "      <td>0.064815</td>\n",
       "      <td>The Colombian city is planting giant corridors...</td>\n",
       "    </tr>\n",
       "    <tr>\n",
       "      <th>13</th>\n",
       "      <td>0.204167</td>\n",
       "      <td>BrentToderian Please note walabor more roads m...</td>\n",
       "    </tr>\n",
       "  </tbody>\n",
       "</table>\n",
       "</div>"
      ],
      "text/plain": [
       "    polarity                                              tweet\n",
       "0   0.266667  Climate change and environnement are great con...\n",
       "1   0.033333  Leonardo DiCaprio is fighting climate change b...\n",
       "3   0.122222  Federal government announces creation of domes...\n",
       "7   0.064815  The Colombian city is planting giant corridors...\n",
       "13  0.204167  BrentToderian Please note walabor more roads m..."
      ]
     },
     "execution_count": 13,
     "metadata": {},
     "output_type": "execute_result"
    }
   ],
   "source": [
    "# Calculate polarity of tweets\n",
    "wild_sent_values = [[tweet.sentiment.polarity, str(tweet)] for tweet in all_tweets_no_urls]\n",
    "\n",
    "# Create dataframe containing polarity values and tweet text\n",
    "wild_sent_df = pd.DataFrame(wild_sent_values, columns=[\"polarity\", \"tweet\"])\n",
    "wild_sent_df = wild_sent_df[wild_sent_df.polarity != 0]\n",
    "\n",
    "wild_sent_df.head()\n"
   ]
  },
  {
   "cell_type": "code",
   "execution_count": 14,
   "id": "overhead-tsunami",
   "metadata": {
    "ExecuteTime": {
     "end_time": "2021-03-06T06:15:17.678803Z",
     "start_time": "2021-03-06T06:15:17.472655Z"
    }
   },
   "outputs": [
    {
     "data": {
      "image/png": "[encoded data removed]",
      "text/plain": [
       "<Figure size 576x432 with 1 Axes>"
      ]
     },
     "metadata": {},
     "output_type": "display_data"
    }
   ],
   "source": [
    "fig, ax = plt.subplots(figsize=(8, 6))\n",
    "\n",
    "wild_sent_df.hist(bins=[-1, -0.75, -0.5, -0.25, 0, 0.25, 0.5, 0.75, 1],\n",
    "        ax=ax, color=\"purple\")\n",
    "\n",
    "plt.title(\"Sentiments from Tweets on the Camp Fire\")\n",
    "plt.show()\n"
   ]
  },
  {
   "cell_type": "code",
   "execution_count": null,
   "id": "successful-static",
   "metadata": {},
   "outputs": [],
   "source": []
  }
 ],
 "metadata": {
  "@webio": {
   "lastCommId": null,
   "lastKernelId": null
  },
  "kernelspec": {
   "display_name": "Python [conda env:torch3.8] *",
   "language": "python",
   "name": "conda-env-torch3.8-py"
  },
  "language_info": {
   "codemirror_mode": {
    "name": "ipython",
    "version": 3
   },
   "file_extension": ".py",
   "mimetype": "text/x-python",
   "name": "python",
   "nbconvert_exporter": "python",
   "pygments_lexer": "ipython3",
   "version": "3.8.5"
  }
 },
 "nbformat": 4,
 "nbformat_minor": 5
}
